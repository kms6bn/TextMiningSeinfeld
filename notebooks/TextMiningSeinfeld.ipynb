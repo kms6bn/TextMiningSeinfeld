{
 "cells": [
  {
   "cell_type": "markdown",
   "metadata": {},
   "source": [
    "# Exploring the Relationship between TV Comedy Scripts and Ratings\n",
    "## Katherine Schinkel and Marcus Rosti"
   ]
  },
  {
   "cell_type": "code",
   "execution_count": 1,
   "metadata": {
    "collapsed": false
   },
   "outputs": [],
   "source": [
    "import numpy as np\n",
    "import pandas as pd\n",
    "from sklearn.feature_extraction.text import CountVectorizer\n",
    "from sklearn.feature_extraction.text import TfidfTransformer\n",
    "from sklearn.cross_validation import cross_val_score\n",
    "from sklearn.pipeline import Pipeline\n",
    "from sklearn.cross_validation import train_test_split\n",
    "from sklearn.metrics import mean_squared_error\n",
    "from stop_words import get_stop_words"
   ]
  },
  {
   "cell_type": "markdown",
   "metadata": {},
   "source": [
    "## Data Preparation"
   ]
  },
  {
   "cell_type": "code",
   "execution_count": 2,
   "metadata": {
    "collapsed": false
   },
   "outputs": [
    {
     "name": "stdout",
     "output_type": "stream",
     "text": [
      "Season                    int64\n",
      "Title                    object\n",
      "imdbID                   object\n",
      "Episode                   int64\n",
      "Released                 object\n",
      "imdbRating              float64\n",
      "No.overall                int64\n",
      "Directed by              object\n",
      "Written by               object\n",
      "Original air date        object\n",
      "Prod.code                object\n",
      "U.S.viewers_millions    float64\n",
      "ViewersNext             float64\n",
      "dtype: object\n",
      "Season      int64\n",
      "Episode     int64\n",
      "Text       object\n",
      "dtype: object\n"
     ]
    }
   ],
   "source": [
    "friends = pd.read_csv(\"https://raw.githubusercontent.com/kms6bn/TextMiningSeinfeld/develop/data/friendsData.csv?token=AMpR5IEeFWdSvOulNv2m2YdUOEIxHlkmks5XNAIRwA%3D%3D\")\n",
    "print(friends.dtypes)\n",
    "friends_text = pd.read_csv(\"https://raw.githubusercontent.com/kms6bn/TextMiningSeinfeld/develop/data/friendsScripts.csv?token=AMpR5IxA6I4Mwn1wFsAXhThCMpUKz12pks5XNAFIwA%3D%3D\")\n",
    "print(friends_text.dtypes)"
   ]
  },
  {
   "cell_type": "code",
   "execution_count": 3,
   "metadata": {
    "collapsed": false,
    "scrolled": false
   },
   "outputs": [
    {
     "name": "stdout",
     "output_type": "stream",
     "text": [
      "Season      int64\n",
      "Episode     int64\n",
      "Text       object\n",
      "dtype: object\n"
     ]
    }
   ],
   "source": [
    "seinfeld_text = pd.read_csv(\"https://raw.githubusercontent.com/kms6bn/TextMiningSeinfeld/develop/data/seinfeldScripts.csv?token=AMpR5Ptod3tWU_kh4wfFk8kdMfE__L1Aks5XNAD4wA%3D%3D\", header=None)\n",
    "seinfeld_text.columns = [\"Season\", \"Episode\", \"Text\"]\n",
    "print(seinfeld_text.dtypes)"
   ]
  },
  {
   "cell_type": "code",
   "execution_count": 4,
   "metadata": {
    "collapsed": false
   },
   "outputs": [
    {
     "name": "stdout",
     "output_type": "stream",
     "text": [
      "Season                    int64\n",
      "Released                 object\n",
      "Episode                   int64\n",
      "imdbRating              float64\n",
      "Title                    object\n",
      "No.overall               object\n",
      "No.inSeason               int64\n",
      "Directed                 object\n",
      "Written                  object\n",
      "Prod.Code                object\n",
      "U.S.viewers_millions    float64\n",
      "ViewersNext             float64\n",
      "dtype: object\n"
     ]
    }
   ],
   "source": [
    "seinfeld = pd.read_csv(\"https://raw.githubusercontent.com/kms6bn/TextMiningSeinfeld/develop/data/seinfeldData.csv?token=AMpR5PU_HlSsWQQZZNVr_ozaTGcMMqMpks5XNADbwA%3D%3D\")\n",
    "print(seinfeld.dtypes)"
   ]
  },
  {
   "cell_type": "code",
   "execution_count": 5,
   "metadata": {
    "collapsed": false
   },
   "outputs": [],
   "source": [
    "seinfeldAll = pd.merge(seinfeld, seinfeld_text, on=('Season', 'Episode'))\n",
    "friendsAll = pd.merge(friends, friends_text, on=('Season', 'Episode'))"
   ]
  },
  {
   "cell_type": "code",
   "execution_count": 6,
   "metadata": {
    "collapsed": true
   },
   "outputs": [],
   "source": [
    "#select target value\n",
    "target = \"ViewersNext\"\n",
    "#target = \"imdbRating\""
   ]
  },
  {
   "cell_type": "code",
   "execution_count": 7,
   "metadata": {
    "collapsed": false
   },
   "outputs": [],
   "source": [
    "#replace missing values\n",
    "if target == \"ViewersNext\":\n",
    "    meanSeinfeld = sum(seinfeldAll['U.S.viewers_millions'])/len(seinfeldAll)\n",
    "    seinfeldAll['U.S.viewers_millions'] = seinfeldAll['U.S.viewers_millions'].replace(-1, meanSeinfeld)\n",
    "    seinfeldAll['ViewersNext'] = seinfeldAll['ViewersNext'].replace(-1, meanSeinfeld)"
   ]
  },
  {
   "cell_type": "code",
   "execution_count": 8,
   "metadata": {
    "collapsed": false
   },
   "outputs": [],
   "source": [
    "#drop rows where ViewersNext is missing\n",
    "if target == \"ViewersNext\":\n",
    "    seinfeldAll = seinfeldAll.dropna()\n",
    "    friendsAll = friendsAll.dropna()"
   ]
  },
  {
   "cell_type": "code",
   "execution_count": 9,
   "metadata": {
    "collapsed": false
   },
   "outputs": [],
   "source": [
    "cols = [\"Text\",target]\n",
    "df1 = seinfeldAll[cols]\n",
    "df1.columns = ['Text', 'Target']\n",
    "\n",
    "df2 = friendsAll[cols]\n",
    "df2.columns = ['Text', 'Target']\n",
    "\n",
    "df = df1.append(df2, ignore_index=True)\n",
    "df = df.reindex(np.random.permutation(df.index))"
   ]
  },
  {
   "cell_type": "code",
   "execution_count": 10,
   "metadata": {
    "collapsed": false
   },
   "outputs": [],
   "source": [
    "mean = sum(df['Target'])/len(df)"
   ]
  },
  {
   "cell_type": "markdown",
   "metadata": {},
   "source": [
    "## Model Preparation"
   ]
  },
  {
   "cell_type": "code",
   "execution_count": 11,
   "metadata": {
    "collapsed": true
   },
   "outputs": [],
   "source": [
    "#get stop words\n",
    "en_stop = get_stop_words('en')"
   ]
  },
  {
   "cell_type": "code",
   "execution_count": 12,
   "metadata": {
    "collapsed": false
   },
   "outputs": [],
   "source": [
    "from sklearn.linear_model import LinearRegression\n",
    "from sklearn import base\n",
    "\n",
    "class DenseTransformer(base.TransformerMixin):\n",
    "\n",
    "    def transform(self, X, y=None, **fit_params):\n",
    "        return X.todense()\n",
    "\n",
    "    def fit_transform(self, X, y=None, **fit_params):\n",
    "        self.fit(X, y, **fit_params)\n",
    "        return self.transform(X)\n",
    "\n",
    "    def fit(self, X, y=None, **fit_params):\n",
    "        return self\n"
   ]
  },
  {
   "cell_type": "code",
   "execution_count": 13,
   "metadata": {
    "collapsed": true
   },
   "outputs": [],
   "source": [
    "#Try Stemming\n",
    "from nltk.stem.snowball import SnowballStemmer\n",
    "import re\n",
    "\n",
    "stemmer = SnowballStemmer(\"english\")\n",
    "analyzer = CountVectorizer(stop_words = en_stop, min_df=20).build_analyzer()\n",
    "\n",
    "def stemmed_words(doc):\n",
    "    return (stemmer.stem(re.sub(r\"\\b\\d+\\b\", \"\", w.strip())) for w in analyzer(doc))\n",
    "\n",
    "stem_vectorizer = CountVectorizer(analyzer=stemmed_words)"
   ]
  },
  {
   "cell_type": "code",
   "execution_count": 14,
   "metadata": {
    "collapsed": true
   },
   "outputs": [],
   "source": [
    "#Instead of Stemming, try lemmatizing and tokenizing\n",
    "from nltk import word_tokenize          \n",
    "from nltk.stem import WordNetLemmatizer\n",
    "\n",
    "class LemmaTokenizer(object):\n",
    "    def __init__(self):\n",
    "        self.wnl = WordNetLemmatizer()\n",
    "    def __call__(self, doc):\n",
    "        return [self.wnl.lemmatize(t.strip()) for t in word_tokenize(doc)]"
   ]
  },
  {
   "cell_type": "code",
   "execution_count": 15,
   "metadata": {
    "collapsed": false
   },
   "outputs": [],
   "source": [
    "# create training/testing\n",
    "doc_train, doc_test = train_test_split(df, test_size=0.3)"
   ]
  },
  {
   "cell_type": "code",
   "execution_count": 16,
   "metadata": {
    "collapsed": false
   },
   "outputs": [],
   "source": [
    "rand = np.random.randn(len(doc_test))\n",
    "meanDF = pd.DataFrame({\"mean\":mean,\"rand\":rand})[\"mean\"]"
   ]
  },
  {
   "cell_type": "markdown",
   "metadata": {},
   "source": [
    "## Linear Regression Model"
   ]
  },
  {
   "cell_type": "code",
   "execution_count": 17,
   "metadata": {
    "collapsed": false
   },
   "outputs": [
    {
     "name": "stdout",
     "output_type": "stream",
     "text": [
      "37.0637471782\n",
      "39.0206093937\n"
     ]
    }
   ],
   "source": [
    "text_clf = Pipeline([\n",
    "                    #('vect', CountVectorizer(min_df=10, tokenizer=LemmaTokenizer())), #trigrams\n",
    "                    ('vect', CountVectorizer(analyzer=stemmed_words)), #stemming\n",
    "                     ('tfidf', TfidfTransformer()),\n",
    "                     ('to_dense', DenseTransformer()),\n",
    "                     ('clf', LinearRegression())\n",
    "])\n",
    "text_clf.fit(doc_train[\"Text\"], doc_train['Target'])\n",
    "predicted_value = text_clf.predict(doc_test[\"Text\"])\n",
    "print(mean_squared_error(doc_test['Target'], predicted_value))\n",
    "print(mean_squared_error(doc_test['Target'], meanDF))"
   ]
  },
  {
   "cell_type": "code",
   "execution_count": 18,
   "metadata": {
    "collapsed": false
   },
   "outputs": [
    {
     "data": {
      "text/plain": [
       "-6.5960455214009981"
      ]
     },
     "execution_count": 18,
     "metadata": {},
     "output_type": "execute_result"
    }
   ],
   "source": [
    "#t-test\n",
    "(mean_squared_error(doc_test['Target'], predicted_value) - mean_squared_error(doc_test['Target'], meanDF)) / (np.std(predicted_value)/np.sqrt(len(doc_test)))"
   ]
  },
  {
   "cell_type": "code",
   "execution_count": 19,
   "metadata": {
    "collapsed": false,
    "scrolled": true
   },
   "outputs": [
    {
     "data": {
      "text/html": [
       "<div>\n",
       "<table border=\"1\" class=\"dataframe\">\n",
       "  <thead>\n",
       "    <tr style=\"text-align: right;\">\n",
       "      <th></th>\n",
       "      <th>0</th>\n",
       "      <th>1</th>\n",
       "    </tr>\n",
       "  </thead>\n",
       "  <tbody>\n",
       "    <tr>\n",
       "      <th>0</th>\n",
       "      <td>35.900000</td>\n",
       "      <td>30.011930</td>\n",
       "    </tr>\n",
       "    <tr>\n",
       "      <th>1</th>\n",
       "      <td>16.300000</td>\n",
       "      <td>27.226133</td>\n",
       "    </tr>\n",
       "    <tr>\n",
       "      <th>2</th>\n",
       "      <td>17.900000</td>\n",
       "      <td>24.994204</td>\n",
       "    </tr>\n",
       "    <tr>\n",
       "      <th>3</th>\n",
       "      <td>30.200000</td>\n",
       "      <td>31.889172</td>\n",
       "    </tr>\n",
       "    <tr>\n",
       "      <th>4</th>\n",
       "      <td>33.200000</td>\n",
       "      <td>31.452530</td>\n",
       "    </tr>\n",
       "    <tr>\n",
       "      <th>5</th>\n",
       "      <td>23.000000</td>\n",
       "      <td>28.568966</td>\n",
       "    </tr>\n",
       "    <tr>\n",
       "      <th>6</th>\n",
       "      <td>15.200000</td>\n",
       "      <td>25.635617</td>\n",
       "    </tr>\n",
       "    <tr>\n",
       "      <th>7</th>\n",
       "      <td>25.200000</td>\n",
       "      <td>26.233482</td>\n",
       "    </tr>\n",
       "    <tr>\n",
       "      <th>8</th>\n",
       "      <td>25.460000</td>\n",
       "      <td>23.555957</td>\n",
       "    </tr>\n",
       "    <tr>\n",
       "      <th>9</th>\n",
       "      <td>24.800000</td>\n",
       "      <td>28.412720</td>\n",
       "    </tr>\n",
       "    <tr>\n",
       "      <th>10</th>\n",
       "      <td>26.000000</td>\n",
       "      <td>26.796626</td>\n",
       "    </tr>\n",
       "    <tr>\n",
       "      <th>11</th>\n",
       "      <td>22.660000</td>\n",
       "      <td>24.711339</td>\n",
       "    </tr>\n",
       "    <tr>\n",
       "      <th>12</th>\n",
       "      <td>38.800000</td>\n",
       "      <td>29.209345</td>\n",
       "    </tr>\n",
       "    <tr>\n",
       "      <th>13</th>\n",
       "      <td>28.700000</td>\n",
       "      <td>27.091555</td>\n",
       "    </tr>\n",
       "    <tr>\n",
       "      <th>14</th>\n",
       "      <td>20.660000</td>\n",
       "      <td>23.853367</td>\n",
       "    </tr>\n",
       "    <tr>\n",
       "      <th>15</th>\n",
       "      <td>20.840000</td>\n",
       "      <td>24.182539</td>\n",
       "    </tr>\n",
       "    <tr>\n",
       "      <th>16</th>\n",
       "      <td>17.600000</td>\n",
       "      <td>17.600000</td>\n",
       "    </tr>\n",
       "    <tr>\n",
       "      <th>17</th>\n",
       "      <td>23.200000</td>\n",
       "      <td>25.466332</td>\n",
       "    </tr>\n",
       "    <tr>\n",
       "      <th>18</th>\n",
       "      <td>19.200000</td>\n",
       "      <td>25.398139</td>\n",
       "    </tr>\n",
       "    <tr>\n",
       "      <th>19</th>\n",
       "      <td>31.600000</td>\n",
       "      <td>33.429134</td>\n",
       "    </tr>\n",
       "    <tr>\n",
       "      <th>20</th>\n",
       "      <td>26.630000</td>\n",
       "      <td>26.993237</td>\n",
       "    </tr>\n",
       "    <tr>\n",
       "      <th>21</th>\n",
       "      <td>25.530000</td>\n",
       "      <td>24.405588</td>\n",
       "    </tr>\n",
       "    <tr>\n",
       "      <th>22</th>\n",
       "      <td>33.900000</td>\n",
       "      <td>28.191311</td>\n",
       "    </tr>\n",
       "    <tr>\n",
       "      <th>23</th>\n",
       "      <td>29.700000</td>\n",
       "      <td>30.209472</td>\n",
       "    </tr>\n",
       "    <tr>\n",
       "      <th>24</th>\n",
       "      <td>16.200000</td>\n",
       "      <td>28.851650</td>\n",
       "    </tr>\n",
       "    <tr>\n",
       "      <th>25</th>\n",
       "      <td>25.100000</td>\n",
       "      <td>23.008653</td>\n",
       "    </tr>\n",
       "    <tr>\n",
       "      <th>26</th>\n",
       "      <td>18.500000</td>\n",
       "      <td>27.678147</td>\n",
       "    </tr>\n",
       "    <tr>\n",
       "      <th>27</th>\n",
       "      <td>27.700000</td>\n",
       "      <td>27.142054</td>\n",
       "    </tr>\n",
       "    <tr>\n",
       "      <th>28</th>\n",
       "      <td>22.300000</td>\n",
       "      <td>26.129687</td>\n",
       "    </tr>\n",
       "    <tr>\n",
       "      <th>29</th>\n",
       "      <td>26.500000</td>\n",
       "      <td>38.390755</td>\n",
       "    </tr>\n",
       "    <tr>\n",
       "      <th>...</th>\n",
       "      <td>...</td>\n",
       "      <td>...</td>\n",
       "    </tr>\n",
       "    <tr>\n",
       "      <th>84</th>\n",
       "      <td>16.300000</td>\n",
       "      <td>26.672105</td>\n",
       "    </tr>\n",
       "    <tr>\n",
       "      <th>85</th>\n",
       "      <td>30.900000</td>\n",
       "      <td>33.098073</td>\n",
       "    </tr>\n",
       "    <tr>\n",
       "      <th>86</th>\n",
       "      <td>23.200000</td>\n",
       "      <td>26.678313</td>\n",
       "    </tr>\n",
       "    <tr>\n",
       "      <th>87</th>\n",
       "      <td>16.400000</td>\n",
       "      <td>26.859475</td>\n",
       "    </tr>\n",
       "    <tr>\n",
       "      <th>88</th>\n",
       "      <td>32.300000</td>\n",
       "      <td>26.505386</td>\n",
       "    </tr>\n",
       "    <tr>\n",
       "      <th>89</th>\n",
       "      <td>32.600000</td>\n",
       "      <td>27.712327</td>\n",
       "    </tr>\n",
       "    <tr>\n",
       "      <th>90</th>\n",
       "      <td>16.700000</td>\n",
       "      <td>23.146630</td>\n",
       "    </tr>\n",
       "    <tr>\n",
       "      <th>91</th>\n",
       "      <td>29.600000</td>\n",
       "      <td>26.978269</td>\n",
       "    </tr>\n",
       "    <tr>\n",
       "      <th>92</th>\n",
       "      <td>16.800000</td>\n",
       "      <td>23.687913</td>\n",
       "    </tr>\n",
       "    <tr>\n",
       "      <th>93</th>\n",
       "      <td>33.400000</td>\n",
       "      <td>30.934886</td>\n",
       "    </tr>\n",
       "    <tr>\n",
       "      <th>94</th>\n",
       "      <td>27.400000</td>\n",
       "      <td>27.916173</td>\n",
       "    </tr>\n",
       "    <tr>\n",
       "      <th>95</th>\n",
       "      <td>30.500000</td>\n",
       "      <td>35.253639</td>\n",
       "    </tr>\n",
       "    <tr>\n",
       "      <th>96</th>\n",
       "      <td>33.300000</td>\n",
       "      <td>31.705277</td>\n",
       "    </tr>\n",
       "    <tr>\n",
       "      <th>97</th>\n",
       "      <td>27.400000</td>\n",
       "      <td>27.057283</td>\n",
       "    </tr>\n",
       "    <tr>\n",
       "      <th>98</th>\n",
       "      <td>28.800000</td>\n",
       "      <td>24.412638</td>\n",
       "    </tr>\n",
       "    <tr>\n",
       "      <th>99</th>\n",
       "      <td>34.400000</td>\n",
       "      <td>22.737108</td>\n",
       "    </tr>\n",
       "    <tr>\n",
       "      <th>100</th>\n",
       "      <td>16.550000</td>\n",
       "      <td>21.927935</td>\n",
       "    </tr>\n",
       "    <tr>\n",
       "      <th>101</th>\n",
       "      <td>32.800000</td>\n",
       "      <td>32.769687</td>\n",
       "    </tr>\n",
       "    <tr>\n",
       "      <th>102</th>\n",
       "      <td>34.500000</td>\n",
       "      <td>26.090486</td>\n",
       "    </tr>\n",
       "    <tr>\n",
       "      <th>103</th>\n",
       "      <td>17.000000</td>\n",
       "      <td>26.053888</td>\n",
       "    </tr>\n",
       "    <tr>\n",
       "      <th>104</th>\n",
       "      <td>34.910000</td>\n",
       "      <td>28.513123</td>\n",
       "    </tr>\n",
       "    <tr>\n",
       "      <th>105</th>\n",
       "      <td>15.100000</td>\n",
       "      <td>30.035541</td>\n",
       "    </tr>\n",
       "    <tr>\n",
       "      <th>106</th>\n",
       "      <td>27.219886</td>\n",
       "      <td>28.086424</td>\n",
       "    </tr>\n",
       "    <tr>\n",
       "      <th>107</th>\n",
       "      <td>17.810000</td>\n",
       "      <td>27.036860</td>\n",
       "    </tr>\n",
       "    <tr>\n",
       "      <th>108</th>\n",
       "      <td>17.230000</td>\n",
       "      <td>27.146809</td>\n",
       "    </tr>\n",
       "    <tr>\n",
       "      <th>109</th>\n",
       "      <td>26.800000</td>\n",
       "      <td>28.472034</td>\n",
       "    </tr>\n",
       "    <tr>\n",
       "      <th>110</th>\n",
       "      <td>16.300000</td>\n",
       "      <td>32.561943</td>\n",
       "    </tr>\n",
       "    <tr>\n",
       "      <th>111</th>\n",
       "      <td>30.700000</td>\n",
       "      <td>24.625660</td>\n",
       "    </tr>\n",
       "    <tr>\n",
       "      <th>112</th>\n",
       "      <td>17.600000</td>\n",
       "      <td>17.600000</td>\n",
       "    </tr>\n",
       "    <tr>\n",
       "      <th>113</th>\n",
       "      <td>18.700000</td>\n",
       "      <td>25.815827</td>\n",
       "    </tr>\n",
       "  </tbody>\n",
       "</table>\n",
       "<p>114 rows × 2 columns</p>\n",
       "</div>"
      ],
      "text/plain": [
       "             0          1\n",
       "0    35.900000  30.011930\n",
       "1    16.300000  27.226133\n",
       "2    17.900000  24.994204\n",
       "3    30.200000  31.889172\n",
       "4    33.200000  31.452530\n",
       "5    23.000000  28.568966\n",
       "6    15.200000  25.635617\n",
       "7    25.200000  26.233482\n",
       "8    25.460000  23.555957\n",
       "9    24.800000  28.412720\n",
       "10   26.000000  26.796626\n",
       "11   22.660000  24.711339\n",
       "12   38.800000  29.209345\n",
       "13   28.700000  27.091555\n",
       "14   20.660000  23.853367\n",
       "15   20.840000  24.182539\n",
       "16   17.600000  17.600000\n",
       "17   23.200000  25.466332\n",
       "18   19.200000  25.398139\n",
       "19   31.600000  33.429134\n",
       "20   26.630000  26.993237\n",
       "21   25.530000  24.405588\n",
       "22   33.900000  28.191311\n",
       "23   29.700000  30.209472\n",
       "24   16.200000  28.851650\n",
       "25   25.100000  23.008653\n",
       "26   18.500000  27.678147\n",
       "27   27.700000  27.142054\n",
       "28   22.300000  26.129687\n",
       "29   26.500000  38.390755\n",
       "..         ...        ...\n",
       "84   16.300000  26.672105\n",
       "85   30.900000  33.098073\n",
       "86   23.200000  26.678313\n",
       "87   16.400000  26.859475\n",
       "88   32.300000  26.505386\n",
       "89   32.600000  27.712327\n",
       "90   16.700000  23.146630\n",
       "91   29.600000  26.978269\n",
       "92   16.800000  23.687913\n",
       "93   33.400000  30.934886\n",
       "94   27.400000  27.916173\n",
       "95   30.500000  35.253639\n",
       "96   33.300000  31.705277\n",
       "97   27.400000  27.057283\n",
       "98   28.800000  24.412638\n",
       "99   34.400000  22.737108\n",
       "100  16.550000  21.927935\n",
       "101  32.800000  32.769687\n",
       "102  34.500000  26.090486\n",
       "103  17.000000  26.053888\n",
       "104  34.910000  28.513123\n",
       "105  15.100000  30.035541\n",
       "106  27.219886  28.086424\n",
       "107  17.810000  27.036860\n",
       "108  17.230000  27.146809\n",
       "109  26.800000  28.472034\n",
       "110  16.300000  32.561943\n",
       "111  30.700000  24.625660\n",
       "112  17.600000  17.600000\n",
       "113  18.700000  25.815827\n",
       "\n",
       "[114 rows x 2 columns]"
      ]
     },
     "execution_count": 19,
     "metadata": {},
     "output_type": "execute_result"
    }
   ],
   "source": [
    "#look at results\n",
    "pd.concat([pd.DataFrame(doc_test['Target'].values), pd.DataFrame(predicted_value)], ignore_index=True, axis=1)"
   ]
  },
  {
   "cell_type": "code",
   "execution_count": 20,
   "metadata": {
    "collapsed": false
   },
   "outputs": [
    {
     "name": "stdout",
     "output_type": "stream",
     "text": [
      "[-54.27899509 -42.33736646 -22.63727444 -29.83330997 -39.99210153\n",
      " -81.63736173 -28.64244861 -34.81083731 -13.23370343 -27.9901362 ]\n",
      "Mean Squared Error: -37.54 (+/- 29.90)\n"
     ]
    }
   ],
   "source": [
    "# run cross validation\n",
    "scores = cross_val_score(text_clf, df[\"Text\"], df[\"Target\"], cv=10, scoring=\"mean_squared_error\", n_jobs=-1)\n",
    "print(scores)\n",
    "print(\"Mean Squared Error: %0.2f (+/- %0.2f)\" % (scores.mean(), scores.std() * 1.645))"
   ]
  },
  {
   "cell_type": "code",
   "execution_count": 21,
   "metadata": {
    "collapsed": false
   },
   "outputs": [
    {
     "name": "stdout",
     "output_type": "stream",
     "text": [
      "[-136.1918904   -83.5174202   -36.30591511  -42.44081304 -119.54122969\n",
      "  -54.61863795   -8.55587999  -17.91149187  -25.23821475  -58.98490508]\n",
      "Mean Squared Error: -58.33 (+/- 66.62)\n"
     ]
    },
    {
     "ename": "KeyboardInterrupt",
     "evalue": "",
     "output_type": "error",
     "traceback": [
      "\u001b[1;31m---------------------------------------------------------------------------\u001b[0m",
      "\u001b[1;31mKeyboardInterrupt\u001b[0m                         Traceback (most recent call last)",
      "\u001b[1;32m<ipython-input-21-4af54af096a2>\u001b[0m in \u001b[0;36m<module>\u001b[1;34m()\u001b[0m\n\u001b[0;32m     15\u001b[0m     \u001b[0mtext_clf_copy\u001b[0m\u001b[1;33m.\u001b[0m\u001b[0mfit\u001b[0m\u001b[1;33m(\u001b[0m\u001b[0mdoc_train_copy\u001b[0m\u001b[1;33m[\u001b[0m\u001b[1;34m\"Text\"\u001b[0m\u001b[1;33m]\u001b[0m\u001b[1;33m,\u001b[0m \u001b[0mdoc_train_copy\u001b[0m\u001b[1;33m[\u001b[0m\u001b[1;34m'Target'\u001b[0m\u001b[1;33m]\u001b[0m\u001b[1;33m)\u001b[0m\u001b[1;33m\u001b[0m\u001b[0m\n\u001b[0;32m     16\u001b[0m \u001b[1;33m\u001b[0m\u001b[0m\n\u001b[1;32m---> 17\u001b[1;33m     \u001b[0mscores\u001b[0m \u001b[1;33m=\u001b[0m \u001b[0mcross_val_score\u001b[0m\u001b[1;33m(\u001b[0m\u001b[0mtext_clf_copy\u001b[0m\u001b[1;33m,\u001b[0m \u001b[0mdfcopy\u001b[0m\u001b[1;33m[\u001b[0m\u001b[1;34m\"Text\"\u001b[0m\u001b[1;33m]\u001b[0m\u001b[1;33m,\u001b[0m \u001b[0mdfcopy\u001b[0m\u001b[1;33m[\u001b[0m\u001b[1;34m\"Target\"\u001b[0m\u001b[1;33m]\u001b[0m\u001b[1;33m,\u001b[0m \u001b[0mcv\u001b[0m\u001b[1;33m=\u001b[0m\u001b[1;36m10\u001b[0m\u001b[1;33m,\u001b[0m \u001b[0mscoring\u001b[0m\u001b[1;33m=\u001b[0m\u001b[1;34m\"mean_squared_error\"\u001b[0m\u001b[1;33m,\u001b[0m\u001b[0mn_jobs\u001b[0m\u001b[1;33m=\u001b[0m\u001b[1;33m-\u001b[0m\u001b[1;36m1\u001b[0m\u001b[1;33m)\u001b[0m\u001b[1;33m\u001b[0m\u001b[0m\n\u001b[0m\u001b[0;32m     18\u001b[0m     \u001b[0mprint\u001b[0m\u001b[1;33m(\u001b[0m\u001b[0mscores\u001b[0m\u001b[1;33m)\u001b[0m\u001b[1;33m\u001b[0m\u001b[0m\n\u001b[0;32m     19\u001b[0m     \u001b[0mprint\u001b[0m\u001b[1;33m(\u001b[0m\u001b[1;34m\"Mean Squared Error: %0.2f (+/- %0.2f)\"\u001b[0m \u001b[1;33m%\u001b[0m \u001b[1;33m(\u001b[0m\u001b[0mscores\u001b[0m\u001b[1;33m.\u001b[0m\u001b[0mmean\u001b[0m\u001b[1;33m(\u001b[0m\u001b[1;33m)\u001b[0m\u001b[1;33m,\u001b[0m \u001b[0mscores\u001b[0m\u001b[1;33m.\u001b[0m\u001b[0mstd\u001b[0m\u001b[1;33m(\u001b[0m\u001b[1;33m)\u001b[0m \u001b[1;33m*\u001b[0m \u001b[1;36m1.645\u001b[0m\u001b[1;33m)\u001b[0m\u001b[1;33m)\u001b[0m\u001b[1;33m\u001b[0m\u001b[0m\n",
      "\u001b[1;32m/home/k_schinkel/anaconda3/lib/python3.4/site-packages/sklearn/cross_validation.py\u001b[0m in \u001b[0;36mcross_val_score\u001b[1;34m(estimator, X, y, scoring, cv, n_jobs, verbose, fit_params, pre_dispatch)\u001b[0m\n\u001b[0;32m   1431\u001b[0m                                               \u001b[0mtrain\u001b[0m\u001b[1;33m,\u001b[0m \u001b[0mtest\u001b[0m\u001b[1;33m,\u001b[0m \u001b[0mverbose\u001b[0m\u001b[1;33m,\u001b[0m \u001b[1;32mNone\u001b[0m\u001b[1;33m,\u001b[0m\u001b[1;33m\u001b[0m\u001b[0m\n\u001b[0;32m   1432\u001b[0m                                               fit_params)\n\u001b[1;32m-> 1433\u001b[1;33m                       for train, test in cv)\n\u001b[0m\u001b[0;32m   1434\u001b[0m     \u001b[1;32mreturn\u001b[0m \u001b[0mnp\u001b[0m\u001b[1;33m.\u001b[0m\u001b[0marray\u001b[0m\u001b[1;33m(\u001b[0m\u001b[0mscores\u001b[0m\u001b[1;33m)\u001b[0m\u001b[1;33m[\u001b[0m\u001b[1;33m:\u001b[0m\u001b[1;33m,\u001b[0m \u001b[1;36m0\u001b[0m\u001b[1;33m]\u001b[0m\u001b[1;33m\u001b[0m\u001b[0m\n\u001b[0;32m   1435\u001b[0m \u001b[1;33m\u001b[0m\u001b[0m\n",
      "\u001b[1;32m/home/k_schinkel/anaconda3/lib/python3.4/site-packages/sklearn/externals/joblib/parallel.py\u001b[0m in \u001b[0;36m__call__\u001b[1;34m(self, iterable)\u001b[0m\n\u001b[0;32m    808\u001b[0m                 \u001b[1;31m# consumption.\u001b[0m\u001b[1;33m\u001b[0m\u001b[1;33m\u001b[0m\u001b[0m\n\u001b[0;32m    809\u001b[0m                 \u001b[0mself\u001b[0m\u001b[1;33m.\u001b[0m\u001b[0m_iterating\u001b[0m \u001b[1;33m=\u001b[0m \u001b[1;32mFalse\u001b[0m\u001b[1;33m\u001b[0m\u001b[0m\n\u001b[1;32m--> 810\u001b[1;33m             \u001b[0mself\u001b[0m\u001b[1;33m.\u001b[0m\u001b[0mretrieve\u001b[0m\u001b[1;33m(\u001b[0m\u001b[1;33m)\u001b[0m\u001b[1;33m\u001b[0m\u001b[0m\n\u001b[0m\u001b[0;32m    811\u001b[0m             \u001b[1;31m# Make sure that we get a last message telling us we are done\u001b[0m\u001b[1;33m\u001b[0m\u001b[1;33m\u001b[0m\u001b[0m\n\u001b[0;32m    812\u001b[0m             \u001b[0melapsed_time\u001b[0m \u001b[1;33m=\u001b[0m \u001b[0mtime\u001b[0m\u001b[1;33m.\u001b[0m\u001b[0mtime\u001b[0m\u001b[1;33m(\u001b[0m\u001b[1;33m)\u001b[0m \u001b[1;33m-\u001b[0m \u001b[0mself\u001b[0m\u001b[1;33m.\u001b[0m\u001b[0m_start_time\u001b[0m\u001b[1;33m\u001b[0m\u001b[0m\n",
      "\u001b[1;32m/home/k_schinkel/anaconda3/lib/python3.4/site-packages/sklearn/externals/joblib/parallel.py\u001b[0m in \u001b[0;36mretrieve\u001b[1;34m(self)\u001b[0m\n\u001b[0;32m    755\u001b[0m                     \u001b[1;31m# a working pool as they expect.\u001b[0m\u001b[1;33m\u001b[0m\u001b[1;33m\u001b[0m\u001b[0m\n\u001b[0;32m    756\u001b[0m                     \u001b[0mself\u001b[0m\u001b[1;33m.\u001b[0m\u001b[0m_initialize_pool\u001b[0m\u001b[1;33m(\u001b[0m\u001b[1;33m)\u001b[0m\u001b[1;33m\u001b[0m\u001b[0m\n\u001b[1;32m--> 757\u001b[1;33m                 \u001b[1;32mraise\u001b[0m \u001b[0mexception\u001b[0m\u001b[1;33m\u001b[0m\u001b[0m\n\u001b[0m\u001b[0;32m    758\u001b[0m \u001b[1;33m\u001b[0m\u001b[0m\n\u001b[0;32m    759\u001b[0m     \u001b[1;32mdef\u001b[0m \u001b[0m__call__\u001b[0m\u001b[1;33m(\u001b[0m\u001b[0mself\u001b[0m\u001b[1;33m,\u001b[0m \u001b[0miterable\u001b[0m\u001b[1;33m)\u001b[0m\u001b[1;33m:\u001b[0m\u001b[1;33m\u001b[0m\u001b[0m\n",
      "\u001b[1;32m/home/k_schinkel/anaconda3/lib/python3.4/site-packages/sklearn/externals/joblib/parallel.py\u001b[0m in \u001b[0;36mretrieve\u001b[1;34m(self)\u001b[0m\n\u001b[0;32m    725\u001b[0m                 \u001b[0mjob\u001b[0m \u001b[1;33m=\u001b[0m \u001b[0mself\u001b[0m\u001b[1;33m.\u001b[0m\u001b[0m_jobs\u001b[0m\u001b[1;33m.\u001b[0m\u001b[0mpop\u001b[0m\u001b[1;33m(\u001b[0m\u001b[1;36m0\u001b[0m\u001b[1;33m)\u001b[0m\u001b[1;33m\u001b[0m\u001b[0m\n\u001b[0;32m    726\u001b[0m             \u001b[1;32mtry\u001b[0m\u001b[1;33m:\u001b[0m\u001b[1;33m\u001b[0m\u001b[0m\n\u001b[1;32m--> 727\u001b[1;33m                 \u001b[0mself\u001b[0m\u001b[1;33m.\u001b[0m\u001b[0m_output\u001b[0m\u001b[1;33m.\u001b[0m\u001b[0mextend\u001b[0m\u001b[1;33m(\u001b[0m\u001b[0mjob\u001b[0m\u001b[1;33m.\u001b[0m\u001b[0mget\u001b[0m\u001b[1;33m(\u001b[0m\u001b[1;33m)\u001b[0m\u001b[1;33m)\u001b[0m\u001b[1;33m\u001b[0m\u001b[0m\n\u001b[0m\u001b[0;32m    728\u001b[0m             \u001b[1;32mexcept\u001b[0m \u001b[0mtuple\u001b[0m\u001b[1;33m(\u001b[0m\u001b[0mself\u001b[0m\u001b[1;33m.\u001b[0m\u001b[0mexceptions\u001b[0m\u001b[1;33m)\u001b[0m \u001b[1;32mas\u001b[0m \u001b[0mexception\u001b[0m\u001b[1;33m:\u001b[0m\u001b[1;33m\u001b[0m\u001b[0m\n\u001b[0;32m    729\u001b[0m                 \u001b[1;31m# Stop dispatching any new job in the async callback thread\u001b[0m\u001b[1;33m\u001b[0m\u001b[1;33m\u001b[0m\u001b[0m\n",
      "\u001b[1;32m/home/k_schinkel/anaconda3/lib/python3.4/multiprocessing/pool.py\u001b[0m in \u001b[0;36mget\u001b[1;34m(self, timeout)\u001b[0m\n\u001b[0;32m    600\u001b[0m \u001b[1;33m\u001b[0m\u001b[0m\n\u001b[0;32m    601\u001b[0m     \u001b[1;32mdef\u001b[0m \u001b[0mget\u001b[0m\u001b[1;33m(\u001b[0m\u001b[0mself\u001b[0m\u001b[1;33m,\u001b[0m \u001b[0mtimeout\u001b[0m\u001b[1;33m=\u001b[0m\u001b[1;32mNone\u001b[0m\u001b[1;33m)\u001b[0m\u001b[1;33m:\u001b[0m\u001b[1;33m\u001b[0m\u001b[0m\n\u001b[1;32m--> 602\u001b[1;33m         \u001b[0mself\u001b[0m\u001b[1;33m.\u001b[0m\u001b[0mwait\u001b[0m\u001b[1;33m(\u001b[0m\u001b[0mtimeout\u001b[0m\u001b[1;33m)\u001b[0m\u001b[1;33m\u001b[0m\u001b[0m\n\u001b[0m\u001b[0;32m    603\u001b[0m         \u001b[1;32mif\u001b[0m \u001b[1;32mnot\u001b[0m \u001b[0mself\u001b[0m\u001b[1;33m.\u001b[0m\u001b[0mready\u001b[0m\u001b[1;33m(\u001b[0m\u001b[1;33m)\u001b[0m\u001b[1;33m:\u001b[0m\u001b[1;33m\u001b[0m\u001b[0m\n\u001b[0;32m    604\u001b[0m             \u001b[1;32mraise\u001b[0m \u001b[0mTimeoutError\u001b[0m\u001b[1;33m\u001b[0m\u001b[0m\n",
      "\u001b[1;32m/home/k_schinkel/anaconda3/lib/python3.4/multiprocessing/pool.py\u001b[0m in \u001b[0;36mwait\u001b[1;34m(self, timeout)\u001b[0m\n\u001b[0;32m    597\u001b[0m \u001b[1;33m\u001b[0m\u001b[0m\n\u001b[0;32m    598\u001b[0m     \u001b[1;32mdef\u001b[0m \u001b[0mwait\u001b[0m\u001b[1;33m(\u001b[0m\u001b[0mself\u001b[0m\u001b[1;33m,\u001b[0m \u001b[0mtimeout\u001b[0m\u001b[1;33m=\u001b[0m\u001b[1;32mNone\u001b[0m\u001b[1;33m)\u001b[0m\u001b[1;33m:\u001b[0m\u001b[1;33m\u001b[0m\u001b[0m\n\u001b[1;32m--> 599\u001b[1;33m         \u001b[0mself\u001b[0m\u001b[1;33m.\u001b[0m\u001b[0m_event\u001b[0m\u001b[1;33m.\u001b[0m\u001b[0mwait\u001b[0m\u001b[1;33m(\u001b[0m\u001b[0mtimeout\u001b[0m\u001b[1;33m)\u001b[0m\u001b[1;33m\u001b[0m\u001b[0m\n\u001b[0m\u001b[0;32m    600\u001b[0m \u001b[1;33m\u001b[0m\u001b[0m\n\u001b[0;32m    601\u001b[0m     \u001b[1;32mdef\u001b[0m \u001b[0mget\u001b[0m\u001b[1;33m(\u001b[0m\u001b[0mself\u001b[0m\u001b[1;33m,\u001b[0m \u001b[0mtimeout\u001b[0m\u001b[1;33m=\u001b[0m\u001b[1;32mNone\u001b[0m\u001b[1;33m)\u001b[0m\u001b[1;33m:\u001b[0m\u001b[1;33m\u001b[0m\u001b[0m\n",
      "\u001b[1;32m/home/k_schinkel/anaconda3/lib/python3.4/threading.py\u001b[0m in \u001b[0;36mwait\u001b[1;34m(self, timeout)\u001b[0m\n\u001b[0;32m    544\u001b[0m             \u001b[0msignaled\u001b[0m \u001b[1;33m=\u001b[0m \u001b[0mself\u001b[0m\u001b[1;33m.\u001b[0m\u001b[0m_flag\u001b[0m\u001b[1;33m\u001b[0m\u001b[0m\n\u001b[0;32m    545\u001b[0m             \u001b[1;32mif\u001b[0m \u001b[1;32mnot\u001b[0m \u001b[0msignaled\u001b[0m\u001b[1;33m:\u001b[0m\u001b[1;33m\u001b[0m\u001b[0m\n\u001b[1;32m--> 546\u001b[1;33m                 \u001b[0msignaled\u001b[0m \u001b[1;33m=\u001b[0m \u001b[0mself\u001b[0m\u001b[1;33m.\u001b[0m\u001b[0m_cond\u001b[0m\u001b[1;33m.\u001b[0m\u001b[0mwait\u001b[0m\u001b[1;33m(\u001b[0m\u001b[0mtimeout\u001b[0m\u001b[1;33m)\u001b[0m\u001b[1;33m\u001b[0m\u001b[0m\n\u001b[0m\u001b[0;32m    547\u001b[0m             \u001b[1;32mreturn\u001b[0m \u001b[0msignaled\u001b[0m\u001b[1;33m\u001b[0m\u001b[0m\n\u001b[0;32m    548\u001b[0m \u001b[1;33m\u001b[0m\u001b[0m\n",
      "\u001b[1;32m/home/k_schinkel/anaconda3/lib/python3.4/threading.py\u001b[0m in \u001b[0;36mwait\u001b[1;34m(self, timeout)\u001b[0m\n\u001b[0;32m    288\u001b[0m         \u001b[1;32mtry\u001b[0m\u001b[1;33m:\u001b[0m    \u001b[1;31m# restore state no matter what (e.g., KeyboardInterrupt)\u001b[0m\u001b[1;33m\u001b[0m\u001b[0m\n\u001b[0;32m    289\u001b[0m             \u001b[1;32mif\u001b[0m \u001b[0mtimeout\u001b[0m \u001b[1;32mis\u001b[0m \u001b[1;32mNone\u001b[0m\u001b[1;33m:\u001b[0m\u001b[1;33m\u001b[0m\u001b[0m\n\u001b[1;32m--> 290\u001b[1;33m                 \u001b[0mwaiter\u001b[0m\u001b[1;33m.\u001b[0m\u001b[0macquire\u001b[0m\u001b[1;33m(\u001b[0m\u001b[1;33m)\u001b[0m\u001b[1;33m\u001b[0m\u001b[0m\n\u001b[0m\u001b[0;32m    291\u001b[0m                 \u001b[0mgotit\u001b[0m \u001b[1;33m=\u001b[0m \u001b[1;32mTrue\u001b[0m\u001b[1;33m\u001b[0m\u001b[0m\n\u001b[0;32m    292\u001b[0m             \u001b[1;32melse\u001b[0m\u001b[1;33m:\u001b[0m\u001b[1;33m\u001b[0m\u001b[0m\n",
      "\u001b[1;31mKeyboardInterrupt\u001b[0m: "
     ]
    }
   ],
   "source": [
    "# Target Shuffling\n",
    "for i in range(10):\n",
    "    dfcopy = pd.concat((df[\"Text\"],df[\"Target\"].reindex(np.random.permutation(df.index))), axis=1)\n",
    "    \n",
    "    # create training/testing\n",
    "    doc_train_copy, doc_test_copy = train_test_split(dfcopy, test_size=0.3)\n",
    "    \n",
    "    text_clf_copy = Pipeline([\n",
    "                    #('vect', CountVectorizer(min_df=10, tokenizer=LemmaTokenizer())), #trigrams\n",
    "                    ('vect', CountVectorizer(analyzer=stemmed_words)), #stemming\n",
    "                     ('tfidf', TfidfTransformer()),\n",
    "                     ('to_dense', DenseTransformer()),\n",
    "                     ('clf', LinearRegression())\n",
    "    ])\n",
    "    text_clf_copy.fit(doc_train_copy[\"Text\"], doc_train_copy['Target'])\n",
    "    \n",
    "    scores = cross_val_score(text_clf_copy, dfcopy[\"Text\"], dfcopy[\"Target\"], cv=10, scoring=\"mean_squared_error\",n_jobs=-1)\n",
    "    print(scores)\n",
    "    print(\"Mean Squared Error: %0.2f (+/- %0.2f)\" % (scores.mean(), scores.std() * 1.645))"
   ]
  },
  {
   "cell_type": "code",
   "execution_count": 145,
   "metadata": {
    "collapsed": false
   },
   "outputs": [
    {
     "name": "stdout",
     "output_type": "stream",
     "text": [
      "[u'', u'10th', u'115th', u'14th', u'15show', u'18a', u'18th', u'19th', u'1st', u'20s', u'20th', u'21st', u'239o', u'23rd', u'242s', u'26th', u'28th', u'29th', u'2g', u'3rd', u'40th', u'42nd', u'44th', u'46th', u'48th', u'4d', u'4i', u'4th', u'50s', u'50th', u'53rd', u'55th', u'5b', u'5th', u'75th', u'77th', u'78th', u'7th', u'81st', u'83rd', u'84th', u'85th', u'86th', u'88th', u'8th', u'9th', u'aa', u'aaa', u'aaaaaaahhh', u'aaaaaah', u'aaaaaahhh', u'aaaaah', u'aaaahh', u'aaaand', u'aaach', u'aaagh', u'aaah', u'aaahh', u'aaahhhgggg', u'aaahhhhh', u'aaalright', u'aaarrrrrgh', u'aaawh', u'aagh', u'aaghh', u'aah', u'aahh', u'aahhhh', u'aahhrgh', u'aalll', u'aawwh', u'aay', u'aaya', u'aback', u'abandon', u'abato', u'abbi', u'abbott', u'abduct', u'abet', u'abid', u'abierta', u'abil', u'abl', u'abnorm', u'aboard', u'abod', u'abolish', u'abort', u'aboud', u'about', u'abraham', u'abrupt', u'abscam', u'absent', u'absolut', u'absorb', u'absorpt', u'absurd', u'abus', u'abut', u'ac', u'academ', u'academi', u'acceler', u'accent', u'accentu', u'accept', u'access', u'accessori', u'accid', u'accident', u'acclaim', u'accommod', u'accompani', u'accomplish', u'accord', u'accordion', u'accost', u'account', u'accpet', u'accur', u'accus', u'ach', u'acid', u'acidosi', u'acknowledg', u'acn', u'acquaint', u'acquir', u'acquisit', u'acr', u'acrobat', u'across', u'act', u'action', u'activ', u'actor', u'actress', u'actual', u'acupunctur', u'acupuncturist', u'acut', u'ad', u'ada', u'adam', u'adapt', u'add', u'addict', u'addit', u'addr', u'address', u'ade', u'adenoid', u'adhes', u'adjac', u'adjourn', u'adjust', u'adlib', u'administr', u'admir', u'admiss', u'admit', u'ado', u'adolesc', u'adolf', u'adolph', u'adoni', u'adopt', u'ador', u'adult', u'adulter', u'adulthood', u'advanc', u'advantag', u'adventu', u'adventur', u'advert', u'advertis', u'advic', u'advis', u'affair', u'affect', u'affection', u'afford', u'afrai', u'afraid', u'africa', u'african', u'afternoon', u'aftershav', u'afterward', u'afterword', u'again', u'agap', u'age', u'agenc', u'agent', u'aggrav', u'aggress', u'agh', u'aghast', u'aghh', u'agian', u'agit', u'ago', u'agoni', u'agonis', u'agrabah', u'agre', u'agreement', u'agua', u'ah', u'aha', u'ahab', u'ahaha', u'ahahahahah', u'ahan', u'ahead', u'aheheheh', u'ahem', u'ahemm', u'ahh', u'ahhh', u'ahhhh', u'ahhhhh', u'ahhhhhh', u'ahhhhhhhhhh', u'ahhuuh', u'ahum', u'aid', u'aiee', u'ailment', u'aim', u'aimless', u'ain', u'air', u'airbrush', u'aircraft', u'airfield', u'airlin', u'airplan', u'airport', u'airtight', u'aisl', u'ajax', u'akron', u'al', u'ala', u'alabama', u'alai', u'alan', u'alarm', u'alaska', u'albano', u'albert', u'album', u'alcohol', u'alcov', u'ale', u'alecki', u'alentin', u'alert', u'alex', u'alga', u'alia', u'alibi', u'alic', u'alicia', u'alien', u'alik', u'alison', u'aliv', u'allbright', u'alleluia', u'allemand', u'allen', u'allerg', u'allergi', u'alley', u'alli', u'allianc', u'allig', u'allison', u'allist', u'allllll', u'allow', u'allright', u'alma', u'almond', u'almost', u'alo', u'alomar', u'alon', u'along', u'alonso', u'aloof', u'aloud', u'alphabet', u'alreadi', u'alreadyy', u'alri', u'alright', u'alrighti', u'also', u'altar', u'alter', u'altern', u'although', u'altman', u'altogeth', u'altoid', u'alton', u'aluminum', u'alumni', u'alway', u'amadeus', u'amalgam', u'amanda', u'amateur', u'amaz', u'amber', u'ambul', u'ambush', u'amca', u'amen', u'amend', u'america', u'american', u'americana', u'ami', u'amigo', u'amin', u'ammonia', u'amon', u'among', u'amongst', u'amor', u'amount', u'amput', u'ampute', u'amsterdam', u'amus', u'ana', u'anabell', u'anaheim', u'analysi', u'analyz', u'anarchi', u'anarchist', u'anathema', u'anatoli', u'ancient', u'anderson', u'andes', u'andov', u'andr', u'andulo', u'anecdot', u'angel', u'angelou', u'anger', u'angioplasti', u'angl', u'angri', u'angrier', u'angrili', u'anguish', u'anim', u'animos', u'ankl', u'anklet', u'ann', u'anna', u'annex', u'anniversari', u'annnnnd', u'announc', u'annoy', u'annual', u'annul', u'anobodi', u'anomali', u'anorexia', u'anoth', u'answer', u'ant', u'antenna', u'anthem', u'anthoni', u'anti', u'antic', u'anticip', u'antidot', u'antiqu', u'antonio', u'anvino', u'anxieti', u'anxious', u'anybodi', u'anyhow', u'anymor', u'anyon', u'anyth', u'anytim', u'anyway', u'anywher', u'ap', u'apar', u'apart', u'apb', u'ape', u'apiec', u'apolog', u'apologet', u'apologis', u'appal', u'appar', u'apparatus', u'apparel', u'appart', u'appeal', u'appear', u'appeas', u'appel', u'appendag', u'appet', u'appetit', u'appl', u'applaud', u'applaus', u'appli', u'applianc', u'applic', u'appoint', u'appreci', u'apprehens', u'appris', u'approach', u'appropri', u'approv', u'approxim', u'april', u'apron', u'apt', u'aquacis', u'aquarium', u'aquason', u'arab', u'arabian', u'arbi', u'arbitrari', u'arcad', u'archi', u'architect', u'architectur', u'archiv', u'area', u'aren', u'argentina', u'argghhh', u'argh', u'arghhh', u'argu', u'arguement', u'argument', u'arithmet', u'arm', u'armani', u'armi', u'armistead', u'armrest', u'armstrong', u'arni', u'arnold', u'aroma', u'aros', u'around', u'arrang', u'array', u'arrest', u'arriv', u'arrivederci', u'arrow', u'arrrrrrgh', u'art', u'arteri', u'arteriol', u'arthur', u'arti', u'artichok', u'articl', u'articul', u'artifici', u'artisan', u'artist', u'asbesto', u'ash', u'asham', u'ashtray', u'asian', u'asid', u'ask', u'askew', u'askin', u'askk', u'asleep', u'aspect', u'aspers', u'aspir', u'aspirin', u'asprin', u'ass', u'assassin', u'assembl', u'assert', u'assess', u'asset', u'asshol', u'assign', u'assimil', u'assist', u'assman', u'associ', u'assum', u'assur', u'asteroid', u'asthma', u'astonish', u'astound', u'astro', u'astronaut', u'asymmetr', u'at', u'ate', u'athlet', u'atkin', u'atlant', u'atlanta', u'atlas', u'atm', u'atmospher', u'atom', u'atroci', u'atrophi', u'attaboy', u'attach', u'attack', u'attempt', u'attend', u'attent', u'attitud', u'attorney', u'attract', u'au', u'auction', u'audibl', u'audienc', u'audio', u'audit', u'audrey', u'august', u'auhh', u'aunt', u'aurora', u'authent', u'author', u'authoris', u'authorit', u'auto', u'autobiographi', u'autograph', u'automat', u'automobil', u'autonomi', u'autopsi', u'autumn', u'ava', u'avail', u'avast', u'avenu', u'aver', u'averag', u'avers', u'avert', u'avid', u'avocado', u'avoid', u'aw', u'awa', u'awak', u'awaken', u'awar', u'award', u'away', u'awe', u'awhil', u'awight', u'awkward', u'awn', u'awol', u'awrghh', u'awright', u'aww', u'axe', u'axl', u'ay', u'aya', u'aye', u'ayon', u'ayoung', u'ayyyyyaaaaa', u'b12', u'ba', u'baaaaaaaaarrhhhhhhhhhhh', u'baaah', u'baak', u'bab', u'babaloo', u'babbl', u'babe', u'babi', u'babka', u'babu', u'babysitt', u'bachelor', u'back', u'backdraft', u'backdrop', u'backfir', u'background', u'backpack', u'backrub', u'backseat', u'backslid', u'backstag', u'backstrok', u'backup', u'backward', u'backyard', u'bacon', u'bacteri', u'bad', u'badger', u'badmouth', u'baffl', u'bag', u'bagel', u'baggag', u'baggi', u'baggin', u'bah', u'bail', u'bait', u'bak', u'bake', u'bakeri', u'bakersol', u'balanc', u'balconi', u'bald', u'baldi', u'baldist', u'baldo', u'balk', u'ball', u'ballet', u'ballgam', u'balli', u'balloon', u'ballpark', u'balm', u'baloney', u'baltic', u'baltimor', u'bam', u'bambooz', u'bamboozl', u'bamm', u'ban', u'banana', u'band', u'bandag', u'bandana', u'bang', u'bania', u'banjo', u'bank', u'banker', u'bankrol', u'bankruptci', u'banlon', u'banter', u'bantu', u'baptism', u'bar', u'barbar', u'barbara', u'barbecu', u'barber', u'bare', u'barefoot', u'barg', u'bargain', u'bariton', u'bark', u'barley', u'barn', u'barney', u'baromet', u'baron', u'barr', u'barrel', u'barren', u'barri', u'barricad', u'barrier', u'barrow', u'bartend', u'barth', u'bartholi', u'base', u'basebal', u'baseman', u'basement', u'bash', u'basic', u'bask', u'basket', u'bass', u'bastard', u'baster', u'bat', u'bath', u'bathrob', u'bathroom', u'batman', u'batter', u'batteri', u'battl', u'bauer', u'bawdi', u'bay', u'baysid', u'bazooka', u'be', u'beach', u'beachhous', u'bead', u'beadi', u'beam', u'bean', u'bear', u'beard', u'beast', u'beat', u'beaten', u'beater', u'beaujolai', u'beauti', u'becam', u'becasu', u'beck', u'becker', u'beckon', u'becom', u'bed', u'bedcov', u'bedlam', u'bedridden', u'bedroom', u'bee', u'beef', u'beep', u'beeper', u'beer', u'beethoven', u'beeyooti', u'beg', u'began', u'beggin', u'begin', u'begley', u'behalf', u'behav', u'behavior', u'behemoth', u'behind', u'behold', u'beig', u'beij', u'bein', u'belat', u'belch', u'beleiv', u'belgium', u'belief', u'believ', u'bell', u'bellevu', u'bellhop', u'belli', u'bellow', u'belmont', u'belong', u'belt', u'beltless', u'bemus', u'ben', u'bench', u'bend', u'bender', u'bene', u'beneath', u'benedict', u'beneficiari', u'benefit', u'benevol', u'bennet', u'bennett', u'benni', u'benson', u'bent', u'benzen', u'beret', u'bergen', u'berkhardt', u'berkowitz', u'berlin', u'bermuda', u'bernard', u'berni', u'bernsen', u'berra', u'berserk', u'bert', u'beseech', u'besh', u'besid', u'besser', u'best', u'bet', u'betcha', u'beth', u'betha', u'betnik', u'betray', u'bett', u'better', u'betti', u'bettin', u'bevel', u'beverag', u'beveridg', u'beviacqua', u'bevilacqua', u'bewild', u'beyond', u'bezerk', u'bffffft', u'bhatt', u'bias', u'bib', u'bibl', u'bicep', u'bicker', u'bicycl', u'bicyclist', u'bid', u'biff', u'big', u'bigger', u'biggest', u'biiig', u'bike', u'biker', u'bilk', u'bilkin', u'bill', u'billboard', u'billi', u'billion', u'bimbo', u'bin', u'binaca', u'bind', u'binder', u'bing', u'bingo', u'binocular', u'bio', u'biographi', u'biohazard', u'biolog', u'biologist', u'bionic', u'biopsi', u'biospher', u'bird', u'birdi', u'birdse', u'birth', u'birthday', u'biscayn', u'bisk', u'bismol', u'bison', u'bisqu', u'bisquik', u'bisw', u'bit', u'bitch', u'bite', u'bitten', u'bitter', u'biz', u'bizarr', u'bizarro', u'bizz', u'bl', u'blab', u'black', u'blackboard', u'blacklist', u'blackston', u'blackwel', u'bladder', u'blade', u'blah', u'blain', u'blame', u'blanch', u'bland', u'blank', u'blanket', u'blast', u'blatant', u'blather', u'blaze', u'blazer', u'bleach', u'bleak', u'bleed', u'bleeker', u'bleh', u'blend', u'blender', u'bless', u'blew', u'blimey', u'blimp', u'blind', u'blindfold', u'blink', u'blinker', u'blizzard', u'bloat', u'blob', u'block', u'blond', u'blood', u'bloodi', u'bloodstain', u'bloomfield', u'bloomingdal', u'blossom', u'blous', u'blow', u'blower', u'blown', u'blowout', u'blt', u'blubber', u'bludgeon', u'blue', u'blueberri', u'blueprint', u'blunt', u'blunter', u'blur', u'blurb', u'blurri', u'blurt', u'bo', u'board', u'boat', u'bob', u'bobbi', u'bobo', u'bobul', u'boca', u'bode', u'bodega', u'bodi', u'bodili', u'bogambo', u'bogg', u'bogus', u'boil', u'boiler', u'bold', u'bologna', u'bolshoi', u'bolt', u'bomb', u'bomber', u'bon', u'bonanza', u'bond', u'bone', u'bonehead', u'bongo', u'bonjour', u'bonker', u'bonn', u'bonus', u'boo', u'boogetyman', u'boogey', u'boogeyman', u'book', u'bookcas', u'booki', u'bookman', u'bookstor', u'boom', u'boomtown', u'booo', u'boooo', u'boost', u'boot', u'booth', u'booz', u'boozehound', u'bop', u'borax', u'bordeaux', u'bore', u'boreali', u'born', u'borrow', u'bosco', u'bosom', u'bosomi', u'boss', u'bossi', u'boston', u'botan', u'botch', u'bother', u'botticelli', u'bottl', u'bottom', u'bouchard', u'bouff', u'bought', u'bouilla', u'bouillabaiss', u'boulevard', u'bounc', u'bound', u'boundari', u'bounder', u'bouquet', u'bout', u'boutiqu', u'boutro', u'bouy', u'bow', u'bowel', u'bowl', u'bowti', u'box', u'boxcar', u'boxer', u'boy', u'boyer', u'boyfriend', u'boyhood', u'boysenberri', u'bozo', u'bra', u'brace', u'bracelet', u'bradi', u'bradley', u'brag', u'brain', u'braini', u'brainstorm', u'brainwash', u'brake', u'braless', u'bran', u'branch', u'brand', u'brando', u'bras', u'brash', u'brassier', u'braun', u'brave', u'bravo', u'brazier', u'breach', u'bread', u'break', u'breakaway', u'breakdown', u'breake', u'breaker', u'breakfast', u'breakin', u'breakup', u'breast', u'breastplat', u'breath', u'breathi', u'breathless', u'breathtak', u'breez', u'breezi', u'brenda', u'brentano', u'brett', u'brew', u'brewbak', u'brewski', u'briand', u'bribe', u'briberi', u'brick', u'bricker', u'bride', u'bridesmaid', u'bridg', u'bridget', u'brief', u'briefcas', u'briefli', u'bright', u'brighter', u'brilliant', u'brim', u'brimmin', u'brine', u'bring', u'bringin', u'brink', u'bris', u'brisket', u'british', u'brittl', u'bro', u'broach', u'broad', u'broadcast', u'broadway', u'brochur', u'broke', u'broken', u'broker', u'bronco', u'bronx', u'bronz', u'bronzo', u'brooklin', u'brooklyn', u'broom', u'brother', u'brought', u'brouhaha', u'brow', u'brown', u'brows', u'brrhht', u'brrrrrrr', u'bruce', u'bruis', u'brunch', u'brush', u'brutal', u'bryant', u'btus', u'btw', u'bub', u'bubbl', u'buccan', u'buck', u'bucket', u'bucki', u'buckl', u'bud', u'buddi', u'budg', u'budget', u'buener', u'bueno', u'buf', u'buff', u'buffalo', u'buffer', u'buffet', u'bug', u'bugger', u'buh', u'buhby', u'buhner', u'build', u'builder', u'built', u'bulkhead', u'bull', u'bulldog', u'bullet', u'bulli', u'bullpen', u'bullshit', u'bum', u'bumbl', u'bummer', u'bump', u'bumper', u'bumpi', u'bunch', u'bundl', u'bungi', u'bunion', u'bunk', u'bunker', u'bunko', u'bunni', u'buoy', u'buoyanc', u'bur', u'bureau', u'buren', u'burgeon', u'burger', u'burgerman', u'burglar', u'burglari', u'buri', u'burlesqu', u'burma', u'burn', u'burnstein', u'burnt', u'burp', u'burst', u'burt', u'bus', u'busboy', u'buse', u'bush', u'bushmen', u'busi', u'businessman', u'businessmen', u'businesswoman', u'buss', u'bust', u'buster', u'bustin', u'but', u'butcher', u'butler', u'butt', u'butter', u'button', u'buy', u'buyer', u'buyin', u'buzz', u'buzzer', u'bwa', u'bye', u'bygon', u'bylaw', u'bystand', u'c0nt', u'ca', u'caaaaarrrr', u'cab', u'cabal', u'cabbi', u'cabin', u'cabinet', u'cabl', u'caboos', u'cachet', u'cada', u'cadav', u'caddi', u'cadet', u'cadillac', u'caf', u'cafe', u'cafeteria', u'caffein', u'cage', u'cahoot', u'cain', u'cake', u'calamin', u'calcium', u'calcul', u'calendar', u'calesthet', u'calfskin', u'calient', u'california', u'caligula', u'call', u'callbox', u'caller', u'callin', u'callous', u'calm', u'calori', u'calv', u'calvin', u'calzon', u'cam', u'camcord', u'came', u'camel', u'camelot', u'camera', u'camp', u'campaign', u'camper', u'can', u'canadian', u'canari', u'cancel', u'cancer', u'candac', u'candelabra', u'candi', u'candid', u'candl', u'cane', u'canker', u'cannib', u'cannon', u'cano', u'canola', u'canoli', u'cantaloup', u'canteen', u'cantwel', u'canva', u'canyon', u'cap', u'capabl', u'capac', u'capatalist', u'cape', u'caper', u'capich', u'capillari', u'capit', u'capper', u'cappuccino', u'capric', u'caprici', u'capricorn', u'capsul', u'captain', u'capto', u'captur', u'capulet', u'car', u'carabinier', u'caramel', u'carbo', u'carbon', u'carburetor', u'carcinoma', u'card', u'cardboard', u'cardigan', u'cardin', u'cardiologist', u'care', u'career', u'cargo', u'caribbean', u'caricatur', u'carjack', u'carl', u'carlisl', u'carlitto', u'carnal', u'carniv', u'carol', u'carousel', u'carp', u'carpal', u'carpet', u'carpool', u'carri', u'carrot', u'carryal', u'carryin', u'carson', u'cart', u'carter', u'cartoon', u'cartoonist', u'cartwri', u'cartwright', u'carver', u'carwash', u'casacof', u'cascad', u'case', u'casett', u'casework', u'cash', u'cashemer', u'cashew', u'cashier', u'cashin', u'cashmer', u'casket', u'casserol', u'cassett', u'cast', u'castanza', u'castig', u'castro', u'casual', u'casus', u'cat', u'catalano', u'catalog', u'catalogu', u'catalyst', u'catch', u'catcher', u'catchi', u'catchin', u'categori', u'cater', u'catfight', u'cathol', u'catnap', u'catsup', u'catti', u'caught', u'caus', u'caustic', u'caution', u'cautious', u'cave', u'caveman', u'caviti', u'cbs', u'cd', u'ceas', u'ceaseless', u'ceausescu', u'cedar', u'ceil', u'celebr', u'celeri', u'celia', u'cell', u'cellblock', u'cellist', u'celray', u'cement', u'cemeteri', u'censor', u'cent', u'center', u'centimet', u'centr', u'central', u'centuri', u'cereal', u'ceremoni', u'certain', u'certif', u'cessman', u'ch', u'cha', u'chachki', u'chadway', u'chagrin', u'chain', u'chair', u'chairman', u'chalk', u'challeng', u'chamber', u'chamberlain', u'chambermaid', u'chamomil', u'champ', u'champagn', u'champion', u'championship', u'chanc', u'chandeli', u'chang', u'changin', u'changstein', u'channel', u'chant', u'chanukah', u'chao', u'chaotic', u'chap', u'chaperon', u'chappaquiddick', u'chapter', u'charact', u'characterist', u'chardonnay', u'charg', u'charisma', u'charismat', u'chariti', u'charl', u'charlatan', u'charli', u'charm', u'chart', u'chase', u'chasin', u'chasm', u'chat', u'chateau', u'chay', u'che', u'cheap', u'cheaper', u'cheapest', u'cheapskat', u'chear', u'cheat', u'cheater', u'check', u'checkbook', u'checker', u'checkmat', u'cheek', u'cheer', u'cheeri', u'cheerili', u'cheerio', u'chees', u'cheesi', u'chef', u'chelsea', u'chemic', u'chemistri', u'chequ', u'chequebook', u'cher', u'chermak', u'chernov', u'cherri', u'cheryl', u'chess', u'chest', u'chesti', u'chevi', u'chew', u'chewi', u'chewin', u'chicago', u'chick', u'chicka', u'chickade', u'chicken', u'chief', u'child', u'childish', u'children', u'chile', u'chili', u'chilli', u'chimp', u'chin', u'china', u'chinamen', u'chinatown', u'chines', u'ching', u'chip', u'chipper', u'chippin', u'chiro', u'chiropract', u'chiropractor', u'chirp', u'chisel', u'chit', u'chita', u'chitchat', u'chitti', u'chlorin', u'choat', u'chock', u'chocol', u'choic', u'choir', u'choke', u'chokin', u'cholesterol', u'chon', u'choo', u'choochi', u'choos', u'chop', u'chopstick', u'chore', u'chorus', u'chose', u'chosen', u'chow', u'chrissi', u'christi', u'christian', u'christin', u'christma', u'christmas', u'christoph', u'chrysler', u'chu', u'chuck', u'chucker', u'chuckin', u'chuckl', u'chunki', u'chunnel', u'churchil', u'chute', u'cia', u'ciao', u'cider', u'cigar', u'cigarett', u'cinch', u'cincher', u'cinderblock', u'cinderella', u'cinderfella', u'cindi', u'cinema', u'cinemascop', u'cinemax', u'cineplex', u'cinnamon', u'cinqo', u'circ', u'circl', u'circuit', u'circul', u'circular', u'circumcis', u'circumst', u'circumstanti', u'circus', u'cirrhosi', u'citat', u'citi', u'citizen', u'citizenship', u'civic', u'civil', u'civilian', u'clack', u'claim', u'clair', u'clam', u'clamber', u'clame', u'clang', u'clank', u'clap', u'clapgo', u'clara', u'clare', u'clarenc', u'clarifi', u'clark', u'claro', u'clash', u'class', u'classi', u'classic', u'classifi', u'clatter', u'claud', u'claus', u'claw', u'clea', u'clean', u'cleaner', u'cleanin', u'clear', u'clearer', u'cleari', u'cleav', u'cleavag', u'cleaver', u'clerk', u'clete', u'cleveland', u'clever', u'clich', u'click', u'clicki', u'client', u'clientel', u'cliff', u'clifford', u'climat', u'climb', u'climber', u'clinch', u'clingin', u'clinic', u'cliniqu', u'clink', u'clint', u'clip', u'clipboard', u'clipper', u'clobber', u'clock', u'clockwis', u'clog', u'clone', u'clonk', u'clop', u'close', u'closer', u'closest', u'closet', u'closeup', u'clot', u'cloth', u'cloud', u'cloudi', u'clown', u'clowno', u'club', u'clubhous', u'clue', u'clueless', u'clunk', u'clutch', u'clyde', u'clydesdal', u'cnee', u'cnn', u'co', u'coach', u'coal', u'coast', u'coaster', u'coastguard', u'coat', u'coattail', u'cobb', u'cobbl', u'cobblin', u'coca', u'coccoon', u'cock', u'cockey', u'cocki', u'cockney', u'cockroach', u'cocktail', u'coco', u'cocoa', u'coconut', u'code', u'coffe', u'coffeeshop', u'coffin', u'coggin', u'cohen', u'coher', u'coif', u'coin', u'coincid', u'coincident', u'coke', u'col', u'cola', u'cold', u'coleman', u'collaps', u'collar', u'collater', u'colleagu', u'collect', u'collector', u'colleg', u'colletag', u'collid', u'cologn', u'coloni', u'color', u'coloss', u'colour', u'colt', u'columbia', u'columbus', u'column', u'com', u'coma', u'comb', u'combin', u'come', u'comeback', u'comed', u'comedi', u'comedia', u'comedian', u'comer', u'comfort', u'comic', u'comin', u'command', u'commandant', u'commando', u'commend', u'comment', u'commentari', u'commerci', u'commi', u'commiss', u'commission', u'commit', u'committe', u'common', u'commot', u'communic', u'communiqu', u'communism', u'communist', u'communista', u'communistpipelin', u'communiti', u'como', u'compact', u'compani', u'companionship', u'compar', u'compart', u'compass', u'compassion', u'compens', u'compet', u'competit', u'complain', u'complaint', u'complementari', u'complet', u'complex', u'complexion', u'complic', u'compliment', u'compon', u'compos', u'composit', u'composur', u'compound', u'comprehend', u'comprehens', u'compress', u'compressor', u'compuls', u'comput', u'computer', u'comrad', u'con', u'conan', u'conceiv', u'concentr', u'concept', u'concern', u'concert', u'concess', u'conchita', u'conclud', u'conclus', u'concoct', u'concret', u'concuss', u'condescend', u'condiment', u'condit', u'condition', u'condo', u'condom', u'condon', u'conduc', u'conduct', u'conductor', u'cone', u'confer', u'confess', u'confession', u'confid', u'confidenti', u'configur', u'confin', u'confirm', u'conflict', u'conform', u'confront', u'confucius', u'confus', u'congen', u'congeni', u'congratul', u'connect', u'connecticut', u'conneticut', u'conni', u'connoisseur', u'conrad', u'conscienc', u'conscienti', u'conscious', u'consecut', u'consent', u'consequ', u'conserv', u'consid', u'consider', u'consist', u'consol', u'consomm', u'conspicu', u'conspiratori', u'constant', u'constanza', u'constern', u'constitut', u'constrict', u'construct', u'consult', u'consum', u'consume', u'consumm', u'cont', u'contact', u'contagi', u'contain', u'contamin', u'contardi', u'contempl', u'contemporari', u'contempt', u'contemptu', u'contend', u'content', u'contest', u'context', u'contin', u'conting', u'continu', u'contort', u'contract', u'contractor', u'contradict', u'contrari', u'contratul', u'contribut', u'control', u'controversi', u'conundrum', u'conveni', u'convent', u'converg', u'convers', u'convert', u'conveyor', u'convict', u'convinc', u'convuls', u'coocoo', u'cook', u'cookbook', u'cooki', u'cookin', u'cool', u'cooler', u'cooli', u'coop', u'cooper', u'cooperman', u'coordin', u'coot', u'cop', u'cope', u'copi', u'coquettish', u'cor', u'corbin', u'cord', u'cordless', u'corduroy', u'core', u'corinn', u'cork', u'corkscrew', u'corleion', u'corleon', u'corn', u'cornea', u'corner', u'cornerston', u'cornish', u'corona', u'coronari', u'corp', u'corpor', u'corps', u'correct', u'corridor', u'corriso', u'corvelay', u'cos', u'cosley', u'cosmic', u'cosmo', u'cost', u'costa', u'costanza', u'costello', u'costillo', u'costum', u'cot', u'cotchi', u'cottag', u'cotton', u'couch', u'couchgrass', u'cougar', u'cough', u'cought', u'coulda', u'couldn', u'council', u'counsel', u'count', u'counter', u'countertop', u'counti', u'countri', u'countrysid', u'coup', u'coupl', u'coupla', u'coupon', u'courag', u'cours', u'court', u'courteous', u'courtesi', u'courthous', u'courtman', u'courtroom', u'courtship', u'courtyard', u'cousin', u'coven', u'cover', u'covet', u'cow', u'coward', u'cowboy', u'cowork', u'coy', u'coyli', u'coyot', u'cozi', u'crab', u'crabbi', u'crack', u'cracker', u'crackl', u'craft', u'crafti', u'craftsman', u'craftsmanship', u'cragg', u'craig', u'cram', u'cramp', u'crampbark', u'cranberri', u'crane', u'cranium', u'crank', u'cranki', u'crap', u'crash', u'crasher', u'crass', u'crave', u'craw', u'crawl', u'craze', u'crazi', u'cream', u'creamer', u'creami', u'creas', u'creat', u'creativ', u'creatur', u'credenza', u'credit', u'creditor', u'creed', u'creek', u'creep', u'creepi', u'crepe', u'crept', u'crespi', u'crest', u'crestfallen', u'crew', u'cri', u'crib', u'cricket', u'crime', u'crimin', u'crink', u'crippl', u'crisi', u'crisp', u'crispi', u'crisscross', u'cristo', u'critic', u'cro', u'croat', u'croc', u'crock', u'croft', u'crook', u'crop', u'cross', u'crosswalk', u'crossword', u'crouch', u'crowd', u'crown', u'crucial', u'crude', u'cruel', u'cruelti', u'cruis', u'crumb', u'crumbl', u'crummi', u'crumpl', u'crunch', u'crush', u'crust', u'crutch', u'crybabi', u'crystal', u'cu', u'cub', u'cuba', u'cuban', u'cube', u'cubicl', u'cuckoo', u'cucumb', u'cudd', u'cuddl', u'cue', u'cuf', u'cuff', u'cufflink', u'cuisin', u'cujo', u'cult', u'cultiv', u'cultur', u'cumberland', u'cunningham', u'cup', u'cupboard', u'cupcak', u'cupid', u'cur', u'curdl', u'cure', u'cureth', u'curios', u'curious', u'curl', u'current', u'curs', u'curtain', u'curti', u'curv', u'cuse', u'cushi', u'cushion', u'cusp', u'custodi', u'custom', u'cut', u'cute', u'cuti', u'cuticl', u'cuttin', u'cuz', u'cycl', u'cyclon', u'cyclop', u'cylind', u'cynic', u'cynthia', u'da', u'daantotin', u'dab', u'dabbl', u'dabney', u'dad', u'daddi', u'dag', u'daili', u'dainti', u'dairi', u'dakota', u'dalla', u'dallianc', u'dalrimpl', u'dalrympl', u'dalton', u'dam', u'damag', u'dame', u'damien', u'damm', u'dammit', u'damn', u'damndest', u'damnedest', u'damp', u'damper', u'dan', u'danburi', u'danc', u'dancer', u'dandelion', u'dandi', u'danger', u'dangl', u'daniell', u'danish', u'danishi', u'dank', u'danni', u'danson', u'dant', u'dare', u'dark', u'darker', u'darl', u'darn', u'darren', u'darryl', u'darth', u'das', u'dash', u'dashboard', u'dasher', u'date', u'datiditadit', u'datin', u'daughter', u'dave', u'davi', u'david', u'davola', u'dawn', u'day', u'daylight', u'daytim', u'dayton', u'daz', u'daze', u'dazzl', u'de', u'dead', u'deadpan', u'deaf', u'deafen', u'deal', u'dealer', u'dealership', u'dealt', u'dean', u'dear', u'death', u'debat', u'debri', u'debt', u'debunk', u'debutant', u'decad', u'decaf', u'decathlon', u'decay', u'deceas', u'deceit', u'deceiv', u'decenc', u'decent', u'decept', u'decid', u'decim', u'decis', u'deck', u'declar', u'declin', u'deconn', u'decor', u'decoy', u'decre', u'dedic', u'deduct', u'dee', u'deed', u'deek', u'deena', u'deensfrei', u'deep', u'deeper', u'deepest', u'deepli', u'deer', u'def', u'defec', u'defect', u'defend', u'defens', u'defenseless', u'defent', u'defer', u'defi', u'defiant', u'defil', u'defin', u'definet', u'definit', u'deflat', u'deform', u'defrost', u'defunct', u'defus', u'degrad', u'degre', u'degrunmont', u'deh', u'dehydr', u'deject', u'del', u'delawar', u'delay', u'deleg', u'deli', u'deliber', u'delic', u'delicaci', u'delicatessen', u'delici', u'delight', u'delinqu', u'deliri', u'delish', u'deliv', u'deliver', u'deliveri', u'delus', u'delux', u'demand', u'dembrow', u'dement', u'dementia', u'demi', u'demis', u'demonstr', u'demot', u'den', u'deni', u'denial', u'denim', u'denis', u'denmark', u'denni', u'dennison', u'densiti', u'dent', u'dental', u'denti', u'dentist', u'dentit', u'dentyn', u'deon', u'depart', u'departur', u'depend', u'deplet', u'deplor', u'deport', u'deposit', u'depositori', u'depp', u'deprav', u'depress', u'depriv', u'deputi', u'derang', u'derbi', u'derid', u'deris', u'dermatolog', u'dermatologist', u'derogatori', u'descend', u'describ', u'descript', u'desecr', u'desert', u'deserv', u'design', u'desist', u'desk', u'desoto', u'despair', u'desper', u'desperado', u'despic', u'despis', u'dessert', u'dessic', u'destin', u'destroy', u'destruct', u'det', u'detail', u'detect', u'detector', u'detent', u'deter', u'deterg', u'determin', u'detroit', u'devalu', u'devast', u'develop', u'deviat', u'devic', u'devil', u'devious', u'devola', u'devot', u'dew', u'dewey', u'di', u'dia', u'diabet', u'diabol', u'diagnos', u'diagnosi', u'diagon', u'dial', u'diall', u'diamond', u'dian', u'diana', u'diaper', u'diaphan', u'diaphragm', u'dib', u'dice', u'dick', u'dictat', u'dictionari', u'diddlin', u'didja', u'didn', u'die', u'diet', u'differ', u'differenti', u'difficult', u'difficulti', u'dig', u'digest', u'diggigg', u'diggiti', u'digidi', u'digit', u'digniti', u'digress', u'dijadidatjd', u'dijon', u'dilemma', u'dill', u'dilut', u'dim', u'dimaggio', u'dime', u'dimens', u'dimension', u'dine', u'diner', u'ding', u'dinger', u'dingggggg', u'dingo', u'dink', u'dinki', u'dinkin', u'dinner', u'dio', u'dion', u'dip', u'diploma', u'diplomaci', u'diplomat', u'direct', u'director', u'directori', u'dirt', u'dirti', u'dirtier', u'disabl', u'disabus', u'disagr', u'disagre', u'disappear', u'disappoint', u'disapprov', u'disarray', u'disast', u'disbelief', u'disbeliev', u'discard', u'discern', u'discharg', u'disciplin', u'disclosur', u'discolor', u'discombobul', u'discomfort', u'disconnect', u'discount', u'discourag', u'discov', u'discreet', u'discrep', u'discret', u'discrimin', u'discriminatori', u'discuss', u'diseas', u'disfigur', u'disgrac', u'disguis', u'disgust', u'dish', u'disharmoni', u'dishevel', u'dishwash', u'disinfect', u'disinterest', u'disjoint', u'dislik', u'disloyalti', u'dismantl', u'dismiss', u'dismount', u'disneyworld', u'disord', u'disorgan', u'disori', u'dispens', u'display', u'displeas', u'dispos', u'disposit', u'disput', u'disqualifi', u'disregard', u'disrepair', u'disrupt', u'dissatisfi', u'dissect', u'dissent', u'dissolv', u'distanc', u'distant', u'distast', u'distinct', u'distinguish', u'distort', u'distract', u'distraught', u'distress', u'distribut', u'distributor', u'district', u'disturb', u'dit', u'ditadidatidat', u'ditch', u'ditto', u'dive', u'divert', u'diverticul', u'divid', u'divin', u'divola', u'divorc', u'divorce', u'dixieland', u'dizzi', u'dj', u'dna', u'doabl', u'doc', u'dochi', u'dock', u'doctor', u'document', u'documentari', u'dodg', u'doesn', u'dog', u'doggi', u'doidn', u'doili', u'doin', u'doit', u'dojo', u'dokey', u'dolar', u'dole', u'doll', u'dollar', u'dolor', u'dolphin', u'domain', u'domest', u'domin', u'dominican', u'don', u'donald', u'donat', u'dondi', u'done', u'donna', u'donner', u'donor', u'dont', u'donut', u'doo', u'doodl', u'doofus', u'doolittl', u'doom', u'door', u'doorbel', u'doorknob', u'doorman', u'doorway', u'dopa', u'dope', u'dopey', u'dori', u'dorito', u'dot', u'dotchi', u'doubl', u'doubleday', u'doublemint', u'doubt', u'dough', u'doughnut', u'doughtnut', u'dougla', u'dove', u'dover', u'dow', u'down', u'downcast', u'downfal', u'downgrad', u'downhil', u'downstair', u'downtown', u'doyl', u'doze', u'dozen', u'dozi', u'dr', u'drab', u'draft', u'drag', u'dragnet', u'drain', u'drake', u'dramat', u'dramatica', u'drank', u'drape', u'draught', u'draw', u'drawer', u'drawn', u'dread', u'dream', u'dreamboat', u'dreamcoat', u'dreari', u'dreg', u'dress', u'dresser', u'drew', u'drexler', u'dri', u'dribbl', u'drift', u'drill', u'drink', u'drinker', u'drip', u'drive', u'drivel', u'driven', u'driver', u'drivin', u'drool', u'drop', u'drove', u'drowsi', u'drug', u'druggi', u'drum', u'drunk', u'drunken', u'dryer', u'dryli', u'dts', u'dual', u'dubious', u'duce', u'duck', u'ducki', u'dud', u'dude', u'due', u'dug', u'dugan', u'duh', u'duke', u'dull', u'dullest', u'dumb', u'dumbbel', u'dumbest', u'dumbfound', u'dummi', u'dump', u'dumpl', u'dumpster', u'dumpti', u'duncan', u'dune', u'dungare', u'dungeon', u'dunk', u'dunker', u'dunno', u'dupe', u'duplex', u'duplic', u'duplicit', u'dust', u'dustboard', u'duster', u'dustin', u'dutch', u'duti', u'dwayn', u'dwell', u'dweller', u'dyin', u'dynam', u'dynamit', u'dynamo', u'dysfunct', u'eachoth', u'eacut', u'eager', u'ear', u'earl', u'earli', u'earlier', u'earn', u'earpiec', u'earplug', u'earring', u'earth', u'eas', u'easi', u'easier', u'easiest', u'easili', u'east', u'easter', u'eastern', u'eastwood', u'eat', u'eaten', u'eater', u'eatin', u'eccentr', u'ech', u'echh', u'echo', u'eckman', u'econom', u'ecstat', u'ed', u'eddi', u'edg', u'edgar', u'edgi', u'edibl', u'edison', u'edit', u'editor', u'editori', u'educ', u'edward', u'eeaawww', u'eee', u'eeeehhhh', u'eeeen', u'eeehh', u'eeen', u'eehh', u'eehhh', u'eel', u'een', u'eeri', u'effect', u'effemin', u'effici', u'effort', u'eg', u'egg', u'eggo', u'eggplant', u'eggrol', u'egotist', u'egrav', u'egregi', u'egypt', u'eh', u'ehahh', u'ehghh', u'ehh', u'ehhh', u'ehm', u'ehmm', u'ehmmm', u'ehmmmm', u'ehnn', u'ei', u'eight', u'eighteen', u'eighth', u'eighti', u'eigth', u'ein', u'einstein', u'either', u'ekg', u'el', u'ela', u'elabor', u'elain', u'elaini', u'elast', u'elat', u'elbow', u'elder', u'eldorado', u'elect', u'electr', u'electrician', u'electrod', u'electron', u'electroshock', u'eleg', u'element', u'eleph', u'elev', u'eleven', u'elicit', u'elimin', u'elis', u'elixir', u'elizabeth', u'ell', u'ellen', u'elli', u'ellington', u'elliot', u'ello', u'els', u'elsewher', u'elud', u'em', u'email', u'eman', u'emascul', u'embarrass', u'embassi', u'embed', u'embellish', u'embib', u'embrac', u'embroid', u'emce', u'emerg', u'emili', u'emin', u'emit', u'emm', u'emoli', u'emori', u'emot', u'emphas', u'emphasi', u'emphat', u'emphysema', u'empir', u'employ', u'employe', u'empti', u'enabl', u'enamor', u'enchant', u'encount', u'encourag', u'encumbr', u'end', u'endless', u'endors', u'endow', u'enemi', u'energet', u'energi', u'enforc', u'engag', u'engin', u'england', u'english', u'englishman', u'enigma', u'enjoy', u'eno', u'enoa', u'enorm', u'enough', u'enraptur', u'enrich', u'enright', u'ensconc', u'ensu', u'entemann', u'enter', u'enterpris', u'entertain', u'enthousiast', u'enthral', u'enthus', u'enthusiasm', u'enthusiast', u'entir', u'entitl', u'entranc', u'entrat', u'entrust', u'envelop', u'envi', u'environ', u'envis', u'enzo', u'epidermi', u'epilogu', u'episod', u'epstein', u'equal', u'equat', u'equestrian', u'equidist', u'equilibrium', u'equin', u'equip', u'equival', u'er', u'era', u'eras', u'erasmus', u'ergonom', u'eric', u'erica', u'erickson', u'erika', u'erot', u'erotica', u'errand', u'errat', u'errh', u'error', u'erupt', u'es', u'escal', u'escap', u'escapad', u'escort', u'eskimo', u'esp', u'espanol', u'especi', u'esquir', u'essayist', u'essenc', u'essenti', u'esta', u'establish', u'estat', u'esteem', u'estell', u'estim', u'et', u'etc', u'etcetera', u'etch', u'etern', u'ethan', u'ethel', u'ethnic', u'ethyl', u'etiquett', u'etymologist', u'euclidean', u'eue', u'euh', u'euhh', u'euhhm', u'eulog', u'eurk', u'euro', u'europ', u'european', u'eva', u'evalu', u'evan', u'evas', u'eve', u'evelyn', u'even', u'event', u'eventu', u'ever', u'everbodi', u'everi', u'everybodi', u'everyday', u'everyon', u'everyth', u'everytim', u'everywher', u'evict', u'evid', u'evil', u'evilli', u'evolut', u'evolutionari', u'ewe', u'eww', u'ex', u'exact', u'exagger', u'exam', u'examin', u'exampl', u'exasper', u'excap', u'excel', u'except', u'excerpt', u'excess', u'exchang', u'excit', u'exclam', u'exclud', u'exclus', u'excruci', u'excus', u'excuuus', u'exec', u'execut', u'executor', u'exercis', u'exercycl', u'exerstenti', u'exhal', u'exhaust', u'exhibit', u'exhum', u'exist', u'exit', u'exot', u'expand', u'expect', u'expens', u'experi', u'experienc', u'expert', u'expertis', u'expir', u'explain', u'explan', u'explet', u'explod', u'exploit', u'explos', u'export', u'expos', u'exposur', u'express', u'expressway', u'exquisit', u'extemporis', u'extend', u'extens', u'extent', u'extermin', u'extinct', u'extra', u'extract', u'extraordinari', u'extrem', u'extric', u'exxon', u'ey', u'eyaaaya', u'eye', u'eyebal', u'eyebrow', u'eyeful', u'eyelash', u'eyewit', u'ez', u'fa', u'faa', u'fabric', u'fabul', u'face', u'facial', u'facil', u'fact', u'factor', u'factori', u'fai', u'fail', u'failur', u'faint', u'fair', u'fairi', u'fairway', u'faith', u'fake', u'falcon', u'fall', u'fallaci', u'fallen', u'fallin', u'fals', u'fame', u'famer', u'famili', u'familiar', u'famous', u'fan', u'fanat', u'fanci', u'fantas', u'fantasi', u'fantast', u'far', u'farbman', u'farc', u'fare', u'farfel', u'fargman', u'farina', u'farkus', u'farm', u'farmer', u'farmhous', u'farrakhan', u'farrow', u'farsi', u'fascin', u'fashion', u'fast', u'fasten', u'faster', u'fastest', u'fastidi', u'fat', u'fate', u'father', u'fatso', u'fatti', u'faucet', u'fault', u'faulti', u'faux', u'favor', u'favorit', u'favour', u'favourit', u'fax', u'fayn', u'fbi', u'fear', u'fearless', u'feat', u'feather', u'featur', u'februari', u'febuari', u'fed', u'feder', u'fedex', u'fedora', u'fee', u'feebli', u'feed', u'feeder', u'feedin', u'feel', u'feelin', u'feet', u'feffa', u'feign', u'feinerman', u'feldman', u'fell', u'fella', u'fellow', u'felt', u'fem', u'femal', u'feminin', u'feminina', u'feminist', u'fenc', u'fender', u'feroc', u'ferri', u'fertil', u'festiv', u'festivus', u'feta', u'fetal', u'fetch', u'fetish', u'fetus', u'fi', u'fianc', u'fiance', u'fiber', u'fibr', u'fiction', u'fiddl', u'fidel', u'fidget', u'fidgeti', u'field', u'fiend', u'fienn', u'fierc', u'fifteen', u'fifteenth', u'fifth', u'fifti', u'fiftieth', u'fig', u'fight', u'fighter', u'fightin', u'figur', u'file', u'filerman', u'filk', u'fill', u'filler', u'film', u'filmmak', u'filter', u'filth', u'filthi', u'filthiest', u'fimti', u'fin', u'final', u'financ', u'financi', u'find', u'finder', u'fine', u'finest', u'finger', u'fingernail', u'fingerprint', u'finicki', u'finish', u'fink', u'finland', u'fire', u'firebal', u'fireman', u'firend', u'fireplac', u'fireston', u'firestorm', u'firework', u'firm', u'first', u'firstborn', u'fish', u'fisherman', u'fishi', u'fishstick', u'fisk', u'fist', u'fit', u'fitzgerald', u'five', u'fix', u'fixat', u'fixin', u'flabbi', u'flag', u'flagrant', u'flail', u'flair', u'flake', u'flaki', u'flamboy', u'flame', u'flap', u'flare', u'flash', u'flashback', u'flashi', u'flashlight', u'flask', u'flat', u'flatten', u'flatter', u'flaunt', u'flavor', u'flavour', u'flaw', u'flea', u'fleckman', u'flee', u'fleec', u'fleesher', u'flem', u'flesh', u'flew', u'flex', u'flexabl', u'flexibl', u'fli', u'flick', u'flicker', u'flight', u'flimsi', u'flinch', u'flincher', u'fling', u'flinti', u'flip', u'flippin', u'flirt', u'flirtati', u'flirti', u'flirtin', u'float', u'flood', u'floor', u'floozi', u'flop', u'floppin', u'floric', u'florida', u'florist', u'floss', u'flounder', u'flourid', u'flourish', u'flout', u'flow', u'flower', u'flown', u'floyd', u'fluctuat', u'fluff', u'fluffi', u'fluid', u'flunk', u'flush', u'fluster', u'flyer', u'flyin', u'foam', u'focal', u'focus', u'focuss', u'fog', u'foil', u'fold', u'folder', u'folger', u'foliag', u'folk', u'folksi', u'follow', u'fond', u'fondl', u'fong', u'fontain', u'food', u'fool', u'foolin', u'foolproof', u'foot', u'footag', u'footbal', u'footnot', u'footsi', u'footwear', u'forbad', u'forbid', u'forbidden', u'forc', u'forcibl', u'ford', u'forefing', u'forehead', u'foreign', u'foreman', u'foremost', u'forese', u'forest', u'forev', u'forg', u'forget', u'forgiv', u'forgiven', u'forgot', u'forgotten', u'fork', u'form', u'formal', u'format', u'former', u'formula', u'fornic', u'forrest', u'fort', u'forth', u'forthcom', u'forti', u'fortress', u'fortun', u'fortunoff', u'forum', u'forward', u'foul', u'found', u'foundat', u'founder', u'fountain', u'four', u'fourteen', u'fourteenth', u'fourth', u'fousher', u'fowler', u'fox', u'fr', u'fractur', u'fragil', u'fragment', u'fragranc', u'fragrant', u'frame', u'framework', u'franc', u'franchis', u'francisco', u'franco', u'frank', u'frankenstein', u'frankfurt', u'franki', u'frankinstein', u'frantic', u'fratern', u'fraud', u'fraudul', u'fraught', u'fray', u'freak', u'freakin', u'freckl', u'fred', u'freddi', u'fredo', u'free', u'freebi', u'freedom', u'freee', u'freeload', u'freeway', u'freez', u'freezer', u'freezin', u'french', u'frenzi', u'frequenc', u'frequent', u'fresh', u'fresher', u'fri', u'friar', u'friction', u'friday', u'fridg', u'fridger', u'friend', u'friendship', u'fright', u'frighten', u'fring', u'frisbe', u'fro', u'frog', u'frogman', u'frolf', u'front', u'frost', u'froun', u'frown', u'froze', u'frozen', u'fructos', u'fruit', u'fruiti', u'fruitier', u'frustrat', u'fudg', u'fuel', u'fuka', u'ful', u'fulfil', u'full', u'fuller', u'fulli', u'fumbl', u'fumig', u'fun', u'function', u'fund', u'fundrais', u'funer', u'fung', u'funk', u'funki', u'funni', u'funnier', u'funniest', u'fur', u'furfac', u'furi', u'furious', u'furnitur', u'furri', u'furrow', u'fusilli', u'fusion', u'fuss', u'fussi', u'futo', u'futur', u'fzup', u'ga', u'gabardin', u'gabl', u'gack', u'gaff', u'gaga', u'gah', u'gail', u'gain', u'gal', u'galapago', u'galaxi', u'gall', u'galleon', u'gallon', u'galloogi', u'gallop', u'gambl', u'game', u'gamebird', u'gamehen', u'gamma', u'gammi', u'gander', u'gang', u'gangren', u'gangway', u'gap', u'garag', u'garbag', u'garden', u'gardenia', u'garfunkel', u'gargantuan', u'gargl', u'gargoyl', u'garlic', u'garlicki', u'garment', u'garnish', u'gas', u'gasket', u'gasolin', u'gasp', u'gasp_', u'gassi', u'gastrointestin', u'gate', u'gateway', u'gather', u'gatorad', u'gatsbi', u'gaug', u'gaultier', u'gave', u'gavel', u'gavershol', u'gavin', u'gawd', u'gay', u'ge', u'gear', u'gee', u'geeeee', u'geeeeee', u'geeeooorg', u'geez', u'gehrig', u'geisha', u'gelfen', u'gem', u'gendason', u'gender', u'genderson', u'gendeson', u'gene', u'general', u'generat', u'generic', u'generoso', u'generous', u'genet', u'genit', u'genius', u'gennic', u'gentl', u'gentleman', u'gentlemen', u'genuin', u'geoffrey', u'geometri', u'geor', u'georg', u'georgi', u'georgio', u'gerald', u'geraldo', u'geriatr', u'germ', u'germain', u'german', u'gesticul', u'gestur', u'get', u'getaway', u'getter', u'gettin', u'gget', u'ghali', u'ghandhi', u'ghandi', u'gherkin', u'ghost', u'gi', u'giant', u'gibberish', u'gidde', u'giddi', u'giddyup', u'gidg', u'gie', u'gift', u'gig', u'gigg', u'giggio', u'giggl', u'gill', u'gillian', u'gimm', u'gimpi', u'ginga', u'ginger', u'gino', u'girl', u'girlfriend', u'girli', u'girth', u'gist', u'git', u'giuliani', u'give', u'given', u'giver', u'givin', u'glad', u'gladi', u'glamor', u'glanc', u'glant', u'glass', u'gleason', u'glee', u'gleeful', u'gleefulli', u'glen', u'glenn', u'glickman', u'glide', u'glimps', u'glisten', u'gloat', u'globe', u'glonk', u'glori', u'glorious', u'glossa', u'glossi', u'glove', u'glow', u'glue', u'gnarl', u'gnat', u'gnaw', u'go', u'goal', u'goali', u'goat', u'goblin', u'god', u'goddby', u'godfath', u'godpar', u'godspel', u'godzilla', u'goe', u'goer', u'goerbbl', u'goetz', u'goggl', u'goin', u'goiter', u'gold', u'golden', u'goldfish', u'goldstein', u'golf', u'gomer', u'gondola', u'gone', u'gonna', u'gonorrhea', u'good', u'goodbar', u'goodby', u'goodi', u'goodman', u'goodnight', u'goodwil', u'gooey', u'goof', u'goofi', u'goofili', u'goohhhhck', u'goon', u'gooo', u'goood', u'gooood', u'goop', u'goos', u'goosebump', u'gore', u'gorg', u'gorganzola', u'gorgeous', u'gorilla', u'gosh', u'gossam', u'gossip', u'got', u'gotcha', u'goto', u'gotta', u'gotten', u'goug', u'gould', u'gourmet', u'govern', u'governor', u'grab', u'grace', u'gracia', u'gracious', u'grad', u'grade', u'graduat', u'graft', u'graham', u'grain', u'grak', u'grand', u'grandfath', u'grandma', u'grandmoth', u'grandpa', u'grandpar', u'grandson', u'granmont', u'granola', u'grant', u'grape', u'grapefruit', u'grasp', u'grass', u'grate', u'gratifi', u'gratitud', u'grave', u'gravel', u'gravelli', u'gravi', u'gravit', u'graviti', u'gray', u'greas', u'greasi', u'great', u'greatest', u'greed', u'greedili', u'greek', u'green', u'greengrass', u'greenland', u'greenpeac', u'greenwich', u'greet', u'greg', u'gregori', u'grenad', u'grew', u'griddl', u'gridlock', u'grief', u'griev', u'grievanc', u'griffey', u'griffin', u'grill', u'grim', u'grimac', u'grime', u'grimi', u'grin', u'grind', u'grinder', u'grip', u'grit', u'gritti', u'groceri', u'groggi', u'groin', u'groov', u'grope', u'gross', u'grossbard', u'grossberg', u'grotesqu', u'grotto', u'ground', u'groundskeep', u'group', u'grove', u'grovel', u'grow', u'growl', u'grown', u'growth', u'grrrr', u'grub', u'grubbi', u'grudg', u'gruel', u'grunt', u'gt', u'gu', u'guarante', u'guaranti', u'guard', u'guardia', u'guatamala', u'guatemala', u'guess', u'guest', u'guggenheim', u'guid', u'guidanc', u'guil', u'guillermo', u'guilt', u'guilti', u'guiltier', u'guiltili', u'guinea', u'guitar', u'gulag', u'gulf', u'gulp', u'gum', u'gumbal', u'gumbel', u'gumbo', u'gummi', u'gun', u'gunfir', u'gunna', u'gunpoint', u'gush', u'gussi', u'gust', u'gusto', u'gut', u'gutter', u'guy', u'guzzl', u'gwen', u'gwon', u'gym', u'gymnast', u'gynecologist', u'gyppin', u'gypsi', u'gyrat', u'gyro', u'ha', u'haa', u'haaaaaa', u'haaaaaaa', u'haaan', u'haaazi', u'haagen', u'haahhh', u'haarwood', u'haberdash', u'habit', u'habla', u'hack', u'hackett', u'hacki', u'hadn', u'haffler', u'hafler', u'hag', u'hah', u'haha', u'hahaa', u'hahah', u'hahaha', u'hai', u'hail', u'hailstorm', u'hair', u'haircut', u'hairdo', u'hairdress', u'hairi', u'hairless', u'hakuna', u'hal', u'half', u'halfheart', u'halfway', u'halibut', u'hall', u'hallelujah', u'halli', u'hallmark', u'halloween', u'hallucin', u'hallway', u'halt', u'halv', u'ham', u'hama', u'hamburg', u'hamilton', u'hamlet', u'hammer', u'hamper', u'hampshir', u'hampton', u'hamstr', u'hanaran', u'hand', u'handbag', u'handbal', u'hander', u'handicap', u'handkerchief', u'handl', u'handshak', u'handsom', u'handstand', u'handwrit', u'hang', u'hanger', u'hangin', u'hangout', u'hank', u'hanker', u'hankerchief', u'hanoi', u'hanov', u'hansom', u'hanson', u'haphazard', u'happen', u'happend', u'happenin', u'happenst', u'happi', u'happier', u'happili', u'har', u'hararwood', u'harass', u'harbinson', u'harbor', u'hard', u'hardbal', u'harden', u'harder', u'hardest', u'hardi', u'hardship', u'harm', u'harmless', u'harmoni', u'harold', u'harp', u'harpoon', u'harri', u'harriet', u'harrison', u'harrow', u'harrr', u'harsh', u'harvard', u'harvest', u'harvey', u'harwood', u'hash', u'hasn', u'hassl', u'hast', u'hasta', u'hat', u'hatchape', u'hate', u'hatian', u'haul', u'haunt', u'havana', u'havelost', u'haven', u'havin', u'havoc', u'hawaii', u'hawk', u'hay', u'hayman', u'haymen', u'haze', u'hb', u'head', u'headach', u'headboard', u'headcas', u'header', u'headin', u'headlight', u'headlock', u'headphon', u'headquart', u'headroom', u'heal', u'healer', u'health', u'healthi', u'hear', u'heard', u'hearsay', u'heart', u'heartbeat', u'heartbreak', u'hearti', u'heartili', u'heat', u'heatbreak', u'heater', u'heav', u'heaven', u'heavi', u'heavier', u'heavili', u'hebert', u'hecht', u'heck', u'heckl', u'heckler', u'hee', u'heeeeeummmrph', u'heeeey', u'heeeeyyyi', u'heeeeyyyyyyyi', u'heeer', u'heeeyi', u'heeh', u'heel', u'heey', u'heeyi', u'heeyyy', u'hefti', u'heh', u'hehaha', u'hehe', u'heheah', u'heheh', u'heheheh', u'heheheheh', u'heheheheheheheh', u'hehumm', u'hehummm', u'height', u'heil', u'heir', u'heiress', u'hel', u'held', u'helen', u'helena', u'helicopt', u'hell', u'hellllllooooo', u'hellllloo', u'helllo', u'hello', u'helloo', u'hellooo', u'helloooo', u'helluva', u'helm', u'helmet', u'help', u'helpin', u'helpless', u'hem', u'hemm', u'hemmm', u'hen', u'henni', u'hennigan', u'henri', u'herald', u'herbal', u'herbalist', u'herbert', u'herebi', u'hereon', u'heritag', u'herman', u'hernandez', u'hernia', u'hero', u'heroin', u'hershey', u'hesit', u'het', u'heterosexu', u'heuh', u'heum', u'hewwo', u'hex', u'hey', u'heyahhh', u'heyi', u'heyman', u'heyyyi', u'heyyyyyi', u'hha', u'hhe', u'hhis', u'hi', u'hiatus', u'hickori', u'hid', u'hidden', u'hide', u'hideki', u'hideous', u'higgin', u'high', u'higher', u'highest', u'highway', u'hiii', u'hiiii', u'hiiiiiiiiiiiiiiiiiiii', u'hijack', u'hike', u'hilari', u'hild', u'hill', u'hilli', u'himalayan', u'hime', u'himm', u'hindenburg', u'hine', u'hing', u'hint', u'hip', u'hippi', u'hirachi', u'hire', u'hirsch', u'hispan', u'hiss', u'histor', u'histori', u'hit', u'hitch', u'hitchhik', u'hitler', u'hitman', u'hitter', u'hius', u'hive', u'hiya', u'hizballah', u'hm', u'hmhm', u'hmm', u'hmmhmmhmmm', u'hmmm', u'hmmmm', u'hmmph', u'hnn', u'hnuh', u'ho', u'hoagi', u'hoard', u'hobbi', u'hobbl', u'hobo', u'hod', u'hoffman', u'hog', u'hoh', u'hoiw', u'hola', u'hold', u'holder', u'holdup', u'hole', u'holi', u'holiday', u'holist', u'holland', u'holli', u'hollywood', u'hologram', u'holster', u'holstman', u'holyfield', u'home', u'homeless', u'homework', u'homiga', u'homogenis', u'homophob', u'homophobia', u'homosexu', u'honda', u'hone', u'honest', u'honesti', u'honey', u'honeysuckl', u'honk', u'honolulu', u'honor', u'honour', u'hoo', u'hoochi', u'hood', u'hoof', u'hook', u'hooker', u'hooligan', u'hoooh', u'hoot', u'hooter', u'hoover', u'hop', u'hope', u'hopeless', u'hopper', u'horizon', u'horn', u'horneck', u'horrend', u'horribl', u'horrifi', u'horror', u'hors', u'horsehair', u'horsey', u'horsi', u'hose', u'hospit', u'host', u'hostess', u'hostil', u'hot', u'hotcak', u'hotdog', u'hotel', u'hothead', u'hotsi', u'hotter', u'houdini', u'hound', u'hour', u'hous', u'houseguest', u'houser', u'housewarm', u'houskeep', u'houston', u'hovel', u'hover', u'howard', u'howbout', u'howev', u'howl', u'hoyt', u'htink', u'hu', u'hu_uh', u'huaahhh', u'hubbard', u'hubbub', u'hubert', u'huckleberri', u'huddl', u'hudson', u'hudwalk', u'hue', u'huff', u'hug', u'huge', u'huh', u'huhh', u'huhu', u'huhuhu', u'huhuhuhu', u'huhuhuhuhuhuhu', u'hulk', u'hum', u'human', u'humanitarian', u'humbl', u'humhummmm', u'humili', u'humm', u'hummm', u'hummmm', u'hummus', u'humor', u'humour', u'hump', u'humpti', u'humud', u'hunan', u'hunch', u'hundr', u'hung', u'hunger', u'hungri', u'hungriest', u'hunh', u'hunk', u'hunki', u'hunt', u'hunter', u'hup', u'hur', u'hurri', u'hurt', u'husband', u'hussein', u'hustl', u'huuh', u'huuuu', u'hyannisport', u'hydjama', u'hydra', u'hydrat', u'hyena', u'hygen', u'hygien', u'hygienist', u'hyper', u'hypnot', u'hypocalimia', u'hypochondriac', u'hypocrit', u'hypoglycem', u'hypothermia', u'hypothet', u'hyster', u'hysteria', u'hyundai', u'iacut', u'ibm', u'ice', u'iceberg', u'icebucket', u'iceland', u'ich', u'ichabod', u'ick', u'id', u'idea', u'ideal', u'idealist', u'ident', u'identif', u'identifi', u'ideolog', u'idhao', u'idi', u'idiot', u'iditarod', u'idl', u'idol', u'ignor', u'ih', u'ihat', u'ihav', u'ii', u'iii', u'ike', u'ilen', u'ill', u'illeg', u'illumin', u'illustr', u'im', u'imag', u'imagin', u'imaginari', u'imbal', u'imbecil', u'imit', u'imma', u'immacul', u'immatur', u'immedi', u'immediat', u'immigr', u'immin', u'immun', u'immut', u'impact', u'impala', u'impart', u'imparti', u'impass', u'impati', u'impeach', u'impecc', u'impend', u'impenetr', u'imper', u'impercept', u'implant', u'impli', u'implic', u'implor', u'impolit', u'import', u'imposs', u'impost', u'impot', u'impregn', u'impress', u'imprint', u'improb', u'improv', u'improvis', u'impugn', u'impuls', u'in', u'inact', u'inadequ', u'inadvert', u'inan', u'inappropri', u'inasmuch', u'inborn', u'incap', u'incapacit', u'incarcer', u'incent', u'incess', u'inch', u'incid', u'inciner', u'inclin', u'includ', u'incoher', u'incom', u'incommunicado', u'incompar', u'incompet', u'inconsequenti', u'inconsist', u'inconveni', u'incorpor', u'incorrect', u'increas', u'incred', u'incredul', u'incrimin', u'incur', u'inde', u'indec', u'indefin', u'indefinit', u'independ', u'indetermin', u'index', u'indiana', u'indic', u'indict', u'indiffer', u'indig', u'indigest', u'indign', u'indistinct', u'individu', u'individualist', u'indomit', u'indoor', u'induct', u'indulg', u'industri', u'industrialist', u'ineffectu', u'inev', u'inevit', u'inexpens', u'infantil', u'infect', u'infern', u'inferno', u'infiltr', u'infinit', u'inflat', u'influenc', u'infomerci', u'inform', u'infrastructur', u'infring', u'ing', u'ingrati', u'ingredi', u'inhal', u'inherit', u'inhibit', u'inhuman', u'iniqu', u'initi', u'inject', u'injector', u'injur', u'ink', u'inka', u'inn', u'innat', u'inner', u'inning', u'innoc', u'innocentbystand', u'inordin', u'inquir', u'inquiri', u'insan', u'insati', u'insecur', u'insensit', u'insert', u'insid', u'insight', u'insignific', u'insist', u'inspect', u'inspir', u'instal', u'instanc', u'instant', u'instantan', u'instead', u'instig', u'instinct', u'institut', u'institution', u'instruct', u'instructor', u'instrument', u'insult', u'insur', u'int', u'integr', u'intellect', u'intellig', u'intend', u'intens', u'intent', u'inter', u'intercom', u'intercours', u'interest', u'interf', u'interfer', u'interior', u'intermiss', u'intern', u'internet', u'internship', u'interoffic', u'interperson', u'interpret', u'interraci', u'interrel', u'interrog', u'interrupt', u'intersect', u'interupt', u'interven', u'intervent', u'interview', u'intestin', u'intim', u'intimaci', u'intimid', u'intox', u'intraven', u'intrigu', u'introduc', u'intrud', u'intuit', u'invad', u'invalid', u'invalu', u'invari', u'invas', u'invent', u'inventori', u'invest', u'investig', u'investor', u'invigor', u'invis', u'invit', u'involuntarili', u'involv', u'invulner', u'io', u'ipecac', u'iq', u'iquest', u'ir', u'irabu', u'iran', u'irat', u'irish', u'irk', u'iron', u'ironi', u'irrat', u'irregular', u'irrelev', u'irreplac', u'irresist', u'irrespons', u'irrever', u'irrevoc', u'irrit', u'isaac', u'isabel', u'isabella', u'isakoff', u'ish', u'island', u'isn', u'isobutan', u'isol', u'isra', u'issu', u'itali', u'italian', u'itch', u'itchi', u'item', u'ithaca', u'iuml', u'ivori', u'izzi', u'ja', u'jab', u'jack', u'jackass', u'jackboot', u'jacket', u'jackhamm', u'jacki', u'jackpot', u'jacopo', u'jade', u'jag', u'jagger', u'jai', u'jail', u'jake', u'jam', u'jamaica', u'jame', u'jane', u'janet', u'jangl', u'janitor', u'januari', u'japan', u'japanes', u'jar', u'jarmel', u'jaundic', u'java', u'jaw', u'jay', u'jaya', u'jaywalk', u'jazz', u'je', u'jealous', u'jealousi', u'jean', u'jeanett', u'jeanni', u'jeev', u'jeez', u'jefferi', u'jeffrey', u'jeh', u'jell', u'jelli', u'jen', u'jenna', u'jenni', u'jennif', u'jeopardi', u'jer', u'jerk', u'jerom', u'jeromi', u'jerr', u'jerri', u'jerrri', u'jerrryyi', u'jersey', u'jessep', u'jest', u'jesus', u'jet', u'jew', u'jewel', u'jewelleri', u'jewelri', u'jewish', u'jfk', u'jia', u'jiff', u'jiffi', u'jig', u'jiggi', u'jiggl', u'jill', u'jim', u'jimenez', u'jimmi', u'jimmt', u'jingl', u'jinx', u'jo', u'joan', u'joann', u'job', u'jock', u'jockey', u'jocular', u'jodi', u'joe', u'joel', u'joey', u'jog', u'john', u'johnni', u'johnson', u'join', u'joint', u'jojo', u'joke', u'joker', u'jokey', u'jokin', u'jolson', u'joltin', u'jon', u'jone', u'jongg', u'joni', u'jor', u'jordan', u'jose', u'joseph', u'josey', u'journal', u'journey', u'jovial', u'joy', u'joyous', u'joyrid', u'jr', u'jsut', u'ju', u'juang', u'jubil', u'judaism', u'judder', u'judg', u'judgement', u'judgment', u'judi', u'jug', u'juggl', u'juic', u'juici', u'juilliard', u'jujub', u'juli', u'julianna', u'jum', u'jumbl', u'jumbo', u'jump', u'jumpin', u'jumpsuit', u'june', u'jungl', u'junior', u'junk', u'juno', u'juri', u'jurisdict', u'jus', u'just', u'justic', u'justifi', u'justin', u'justina', u'jut', u'juu', u'juun', u'ka', u'kaboo', u'kaff', u'kahlua', u'kaiser', u'kalahari', u'kama', u'kangaroo', u'kar', u'kara', u'karat', u'karen', u'karl', u'karma', u'kasha', u'kassem', u'kati', u'katra', u'katya', u'kavorca', u'kay', u'kazarian', u'keach', u'keamer', u'kearson', u'keat', u'keckitch', u'keel', u'keen', u'keep', u'keeper', u'kein', u'keith', u'kel', u'kelli', u'ken', u'kennedi', u'kenneth', u'kenni', u'kentucki', u'kenya', u'kept', u'ker', u'kerchief', u'keri', u'kessler', u'ketchup', u'kevin', u'kew', u'kewpi', u'key', u'keyhol', u'keypad', u'khan', u'khomeini', u'kibosh', u'kick', u'kickin', u'kid', u'kiddin', u'kiddo', u'kidnap', u'kidnapp', u'kidney', u'kierson', u'kiev', u'kill', u'killer', u'killin', u'kilter', u'kim', u'kimber', u'kimberley', u'kimbrough', u'kimono', u'kind', u'kinda', u'king', u'kingdom', u'kinko', u'kinship', u'kip', u'kishka', u'kismet', u'kiss', u'kist', u'kit', u'kitchen', u'kite', u'kitti', u'kitzmil', u'kix', u'kl5', u'kleenex', u'klein', u'kleptomaniac', u'klick', u'klompus', u'klopper', u'kn', u'knack', u'knead', u'knee', u'kneeler', u'knew', u'knick', u'knife', u'knight', u'knish', u'knive', u'knob', u'knock', u'knockin', u'knockout', u'knopp', u'knot', u'know', u'knowledg', u'known', u'knuckl', u'kofu', u'koko', u'kom', u'konichi', u'kooki', u'kool', u'korea', u'korean', u'koren', u'kornstein', u'kosher', u'kowalski', u'kowtow', u'krakatoa', u'krakatoan', u'krakow', u'krama', u'krame', u'kramennium', u'kramer', u'kramerica', u'krantz', u'kristin', u'kroft', u'kroner', u'kruger', u'krypton', u'kudo', u'kumit', u'kurt', u'la', u'laaaast', u'laaat', u'laadadeeda', u'lab', u'label', u'labor', u'labour', u'lace', u'lack', u'lacon', u'ladadeeda', u'ladder', u'ladi', u'lafarg', u'lafayett', u'lag', u'lagh', u'laguardia', u'laid', u'lainey', u'laini', u'lake', u'laker', u'lamar', u'lamb', u'lame', u'lamp', u'lampert', u'lampshad', u'lanc', u'lancast', u'land', u'lander', u'landi', u'landlord', u'landmark', u'lane', u'lanett', u'lang', u'langerhan', u'languag', u'lanki', u'lanni', u'lans', u'lantern', u'lap', u'lapdog', u'lapel', u'larceni', u'larg', u'larger', u'largest', u'larri', u'las', u'lasagna', u'lascivi', u'laser', u'laserium', u'lashbrook', u'lassi', u'last', u'late', u'later', u'latest', u'latex', u'latham', u'latin', u'latt', u'latter', u'laugh', u'laugher', u'laughin', u'laughter', u'launch', u'launder', u'laundri', u'laura', u'laurel', u'lava', u'law', u'lawn', u'lawrenc', u'lawsuit', u'lawyer', u'laxat', u'lay', u'layer', u'laze', u'lazi', u'lazzari', u'lbj', u'le', u'leach', u'lead', u'leader', u'leaf', u'leagu', u'leak', u'lean', u'leanin', u'leant', u'leap', u'leapin', u'learn', u'leas', u'least', u'leather', u'leav', u'leavin', u'lebaron', u'led', u'ledg', u'lee', u'leen', u'leena', u'leer', u'left', u'leftov', u'leg', u'legaci', u'legal', u'legend', u'legendari', u'legitim', u'legonar', u'legum', u'leighton', u'leisur', u'leland', u'lem', u'lemm', u'lemma', u'lemmon', u'lemon', u'lemonad', u'lemur', u'len', u'lena', u'lend', u'length', u'lengthen', u'lenin', u'lenni', u'lent', u'leo', u'leon', u'leonard', u'leonardo', u'leper', u'leroy', u'les', u'lesbian', u'lesli', u'less', u'lesser', u'lesson', u'lest', u'lesteinbrenn', u'let', u'lethal', u'letter', u'letterman', u'lettick', u'lettin', u'lettuc', u'level', u'lever', u'levin', u'lew', u'lewd', u'lewi', u'lex', u'lexington', u'leyritz', u'liabl', u'liam', u'liar', u'liberti', u'librari', u'librarian', u'licenc', u'licens', u'lick', u'lickner', u'licoric', u'lid', u'lie', u'lieg', u'liek', u'lieu', u'lieuten', u'life', u'lifeblood', u'lifeboat', u'lifeless', u'lifelong', u'lifesav', u'lifestyl', u'lifetim', u'lift', u'light', u'lightbulb', u'lighten', u'lighter', u'lighthous', u'lightn', u'lightweight', u'liiiittl', u'likabl', u'like', u'likewis', u'lilac', u'lili', u'limb', u'lime', u'limit', u'limo', u'limousin', u'limp', u'lincoln', u'linda', u'lindsay', u'line', u'lineback', u'linen', u'lineswoman', u'lineup', u'linger', u'lingo', u'link', u'linner', u'lion', u'lip', u'lipo', u'lippman', u'lipstick', u'liquefi', u'liquid', u'liquor', u'lira', u'lisa', u'lish', u'list', u'listen', u'listenin', u'liter', u'literatur', u'litigi', u'littl', u'littler', u'live', u'livelihood', u'liver', u'livid', u'livin', u'liza', u'lizard', u'll', u'lllovin', u'lloyd', u'lo', u'load', u'loaf', u'loan', u'loath', u'loav', u'lob', u'lobbi', u'lobster', u'lobsterman', u'local', u'locat', u'lock', u'lockdown', u'locker', u'lockjaw', u'locksmith', u'log', u'logic', u'lohmas', u'loi', u'lol', u'lollipop', u'lomez', u'lone', u'long', u'longer', u'longest', u'longl', u'longshank', u'loni', u'loo', u'look', u'lookin', u'lookit', u'lookner', u'lookse', u'loop', u'loophol', u'loos', u'loosen', u'looser', u'loot', u'lop', u'lord', u'loren', u'lorenzo', u'loretta', u'lorrain', u'los', u'lose', u'loser', u'losin', u'loss', u'lost', u'lot', u'lotion', u'lotta', u'lotus', u'lou', u'loud', u'louder', u'loui', u'louis', u'loung', u'lousi', u'love', u'lovemak', u'lover', u'low', u'lowbrow', u'lowdown', u'lower', u'lowest', u'lowtalk', u'loyal', u'loyalti', u'lt', u'lube', u'lubika', u'lucit', u'luck', u'lucki', u'lucrat', u'ludicr', u'lug', u'luggag', u'luggi', u'lui', u'lukewarm', u'lumbar', u'lumber', u'lump', u'lunat', u'lunch', u'luncheon', u'lunchtim', u'lung', u'lupe', u'lupi', u'lupper', u'lurch', u'lure', u'lurk', u'luscious', u'luss', u'lust', u'lustr', u'lustrous', u'luthor', u'luxuri', u'lycra', u'lydia', u'lyin', u'lyle', u'lyme', u'lyndon', u'lysol', u'ma', u'maaan', u'mabel', u'mac', u'mac226', u'macadamian', u'macanaw', u'macaroni', u'macarthi', u'macarthur', u'macchu', u'mace', u'mach', u'machin', u'macho', u'maci', u'macintosh', u'mack', u'mackenzi', u'mad', u'madam', u'maddox', u'made', u'madelin', u'madison', u'madman', u'maduro', u'maestro', u'mafia', u'magazin', u'magic', u'magician', u'magnifi', u'magnific', u'magnitud', u'magnus', u'magoo', u'mah', u'mahoney', u'mahtzah', u'maid', u'mail', u'mailbag', u'mailbox', u'mailman', u'mailmen', u'main', u'mainstream', u'maintain', u'mainten', u'maitr', u'majesti', u'major', u'make', u'maketh', u'makeup', u'makin', u'male', u'malign', u'mall', u'malt', u'mama', u'mammal', u'mammi', u'mammoo', u'man', u'manag', u'mandel', u'mandelbaum', u'mandrel', u'mane', u'maneouv', u'maneuv', u'mangag', u'manger', u'manginero', u'mangl', u'mango', u'manhattan', u'manhattanit', u'manhood', u'manhunt', u'mani', u'maniac', u'manic', u'manicur', u'manicurist', u'manila', u'manipul', u'mannequin', u'manner', u'manni', u'mannix', u'mannquein', u'manor', u'mansier', u'manssierr', u'mantel', u'mantl', u'manual', u'manufactur', u'manur', u'manuscript', u'manya', u'map', u'mar', u'maraca', u'marathon', u'marbl', u'marcellino', u'march', u'marchin', u'marci', u'marg', u'margaret', u'margarin', u'margarita', u'margeri', u'margin', u'mari', u'maria', u'marilyn', u'marin', u'marion', u'marisa', u'maritim', u'mark', u'marker', u'market', u'markup', u'marla', u'marlboro', u'marlen', u'marlin', u'marlon', u'maroon', u'marri', u'marriag', u'marrow', u'marsha', u'marshal', u'martel', u'marti', u'martial', u'martian', u'martin', u'martinez', u'marton', u'marvel', u'marxism', u'maryland', u'mas', u'masculin', u'mash', u'mask', u'masochist', u'mass', u'massachusett', u'massacr', u'massag', u'massai', u'masseus', u'massey', u'massiv', u'master', u'mastermind', u'masterpiec', u'mastic', u'masturb', u'mat', u'matador', u'matata', u'match', u'matchbook', u'mate', u'mater', u'materi', u'matey', u'math', u'mathemat', u'matine', u'matrimoni', u'matt', u'mattel', u'matter', u'matthew', u'mattress', u'matur', u'matzah', u'maud', u'maul', u'maupin', u'maura', u'maureen', u'maverick', u'max', u'maxim', u'maximum', u'maxton', u'maxwel', u'may', u'maya', u'mayan', u'mayb', u'mayhem', u'mayo', u'mayor', u'maytag', u'maze', u'mazel', u'mcbierney', u'mcdonnel', u'mckigney', u'md', u'meal', u'meali', u'mean', u'meaning', u'meaningless', u'meant', u'meanwhil', u'meari', u'measli', u'measur', u'meat', u'meatbal', u'meati', u'meatloaf', u'mechan', u'med', u'medal', u'media', u'mediaev', u'median', u'mediat', u'medibol', u'medic', u'medicin', u'mediev', u'mediocr', u'medit', u'medium', u'medobol', u'mee', u'meeeee', u'meek', u'meet', u'meetcha', u'mein', u'mel', u'melancholi', u'melani', u'mele', u'melissa', u'mellencamp', u'melliflu', u'mellow', u'melodi', u'melon', u'melros', u'melt', u'member', u'membership', u'membran', u'memma', u'memo', u'memor', u'memorabilia', u'memori', u'men', u'menac', u'mend', u'mendi', u'mengel', u'mening', u'menopaus', u'menorah', u'mental', u'mention', u'menu', u'menus', u'meow', u'merced', u'merchandis', u'mercuri', u'mere', u'merg', u'merger', u'merlot', u'merman', u'merri', u'mertz', u'merv', u'meryl', u'mesmer', u'mess', u'messag', u'messi', u'messier', u'met', u'metabol', u'metal', u'metalla', u'metallica', u'meter', u'method', u'metro', u'mexican', u'mexico', u'meyer', u'mi', u'mia', u'miami', u'miana', u'michael', u'michell', u'michigan', u'mick', u'mickey', u'microphon', u'microscop', u'microwav', u'mid', u'middl', u'midler', u'midnight', u'midtown', u'might', u'mighta', u'mike', u'milan', u'milano', u'mild', u'mile', u'mileag', u'milhous', u'militari', u'milk', u'milki', u'mill', u'millennium', u'miller', u'millimet', u'million', u'millllioooon', u'milo', u'milti', u'milwauke', u'mimbo', u'mimic', u'mimick', u'mind', u'mindgam', u'mindin', u'mine', u'minelli', u'miner', u'mini', u'miniatur', u'minim', u'minimalist', u'minimum', u'miniplex', u'miniseri', u'minneapoli', u'minor', u'minsk', u'minstrel', u'mint', u'minu', u'minut', u'minutia', u'mio', u'mira', u'miracl', u'miracul', u'miranda', u'mirror', u'mirthless', u'misapprehens', u'mischiev', u'mischk', u'miscommun', u'miser', u'miseri', u'misfortun', u'misha', u'mishap', u'mishk', u'misinterpret', u'misjudg', u'misl', u'mislead', u'mispel', u'misplac', u'misprint', u'mispronounc', u'misread', u'miss', u'misshap', u'missil', u'mission', u'mist', u'mistak', u'mistaken', u'mister', u'misti', u'mistress', u'misunderstand', u'misunderstood', u'mitch', u'mitt', u'mitzva', u'mitzvah', u'mix', u'mixtur', u'mm', u'mmhu', u'mmm', u'mmmm', u'mmmmm', u'mmmmmm', u'mmmmmmmm', u'mmmnn', u'mo', u'moan', u'mob', u'mobi', u'mocha', u'mock', u'mockeri', u'mode', u'model', u'modern', u'modest', u'modesti', u'modif', u'moe', u'moffit', u'mohair', u'mohanda', u'mohatma', u'mohel', u'moi', u'moist', u'moistur', u'moland', u'molar', u'mold', u'mole', u'molecular', u'molli', u'mollika', u'mollusk', u'molotov', u'molto', u'mom', u'mombassa', u'moment', u'momentari', u'momentarili', u'momma', u'mommi', u'mon', u'mona', u'monast', u'monday', u'monetari', u'money', u'monger', u'mongolian', u'mongrel', u'moni', u'monica', u'monitor', u'monk', u'monkey', u'mono', u'monocl', u'monopoli', u'monro', u'monsoon', u'monster', u'mont', u'montagu', u'montalban', u'month', u'monticello', u'montreal', u'mooch', u'moochi', u'mood', u'moodi', u'moon', u'moop', u'moor', u'moos', u'mop', u'mope', u'moral', u'morbid', u'more', u'morgan', u'morn', u'mornin', u'moron', u'moros', u'mortal', u'morti', u'mortifi', u'mose', u'moslem', u'mosquito', u'moss', u'mossi', u'most', u'motel', u'moth', u'mother', u'motion', u'motiv', u'motor', u'motorbik', u'motorist', u'mouist', u'mound', u'mount', u'mountain', u'mourn', u'mous', u'mouss', u'moussaka', u'moustach', u'mouth', u'mouthwash', u'mouton', u'move', u'movement', u'movi', u'movin', u'mower', u'mozart', u'mr', u'mrs', u'ms', u'msg', u'mt', u'much', u'mucho', u'mucous', u'mucus', u'mud', u'muffin', u'muffl', u'mug', u'mugger', u'muggi', u'muh', u'mule', u'mull', u'multi', u'multipl', u'multipli', u'mulva', u'mumbl', u'mumbo', u'mump', u'mumphrey', u'munch', u'munchi', u'munjamba', u'murder', u'murphi', u'muscl', u'muscular', u'muse', u'museum', u'mushroom', u'music', u'musician', u'mussolini', u'must', u'musta', u'mustach', u'mustard', u'musti', u'mustn', u'mut', u'mutant', u'mutat', u'mute', u'mutt', u'mutter', u'mutton', u'muttonchop', u'mutual', u'muy', u'muzak', u'myanmar', u'myra', u'mysteri', u'mysteriouso', u'myth', u'mytholog', u'na', u'naaaaaa', u'naaah', u'nab', u'nacho', u'nada', u'nah', u'nail', u'naiv', u'nakahama', u'nake', u'nam', u'name', u'namepl', u'nana', u'nananeena', u'nanci', u'nap', u'napkin', u'napl', u'napoleon', u'nark', u'narrat', u'narrow', u'nastercoff', u'nasti', u'natali', u'natalia', u'natasha', u'nathan', u'nation', u'nativ', u'natur', u'naughti', u'nausea', u'nauseous', u'nauseum', u'naut', u'naw', u'nazi', u'nbc', u'near', u'nearbi', u'nearest', u'neat', u'necessari', u'necessarili', u'neck', u'neckti', u'nectar', u'ned', u'nedda', u'need', u'needi', u'needl', u'needless', u'neeson', u'negat', u'negoti', u'neighbor', u'neighborhood', u'neighbour', u'neil', u'neill', u'neither', u'nelli', u'nelson', u'nemo', u'nen', u'neon', u'nephew', u'nerv', u'nervous', u'nest', u'nestl', u'net', u'netherland', u'network', u'neurot', u'neutral', u'never', u'nevermind', u'nevertheless', u'new', u'newer', u'newman', u'newmanniun', u'newmi', u'news', u'newslett', u'newspap', u'newsstand', u'newsweek', u'next', u'nexus', u'nfl', u'nggh', u'nguh', u'ni', u'niblet', u'nice', u'nicer', u'nicest', u'nicholson', u'nick', u'nickel', u'nicknam', u'nicol', u'niec', u'nifti', u'nighmar', u'night', u'nightclub', u'nighti', u'nightmar', u'nightstand', u'nik', u'nikki', u'nilli', u'nine', u'nineteen', u'nineti', u'ning', u'ninth', u'nippl', u'nitro', u'nitwit', u'nix', u'nixon', u'nnnnnnngaaa', u'nnnoo', u'nno', u'nobel', u'nobl', u'nobodi', u'nobodu', u'nocturn', u'nod', u'noel', u'noh', u'nois', u'noisi', u'noit', u'nominga', u'non', u'noncommitt', u'nondat', u'none', u'nonono', u'nonpartisan', u'nonplus', u'nonsens', u'noo', u'noodl', u'nooh', u'noon', u'nooo', u'noooobodi', u'nooooo', u'nooooooo', u'nooooooooooo', u'noooooooooooo', u'nooop', u'nope', u'noreen', u'norfok', u'normal', u'norman', u'north', u'northern', u'northstar', u'northwest', u'norway', u'nose', u'noseble', u'nosi', u'nostalg', u'nostrand', u'nostril', u'notat', u'notch', u'notchi', u'note', u'notebook', u'notepad', u'noth', u'nother', u'nothin', u'notic', u'notifi', u'notion', u'notsi', u'nougat', u'novaj', u'novak', u'novel', u'novelti', u'novemb', u'novocain', u'now', u'nowher', u'nozzin', u'nozzl', u'ntild', u'nuclear', u'nucleosi', u'nucleus', u'nude', u'nudg', u'nuditi', u'nugget', u'nuisanc', u'nuke', u'numb', u'number', u'numbskul', u'numer', u'numero', u'nun', u'nup', u'nure', u'nut', u'nuthin', u'nuthous', u'nyhart', u'nylon', u'nypl', u'nyu', u'oak', u'oat', u'oath', u'obes', u'obey', u'object', u'objection', u'oblig', u'oblivi', u'obnoxi', u'obscen', u'obscur', u'obsen', u'observ', u'obsess', u'obsolet', u'obstruct', u'obtain', u'obtrus', u'obvious', u'oc', u'occas', u'occasion', u'occass', u'occup', u'occupado', u'occupi', u'occur', u'occurr', u'ocean', u'octob', u'octopus', u'odd', u'odor', u'odorless', u'odour', u'of', u'off', u'offa', u'offenc', u'offend', u'offens', u'offer', u'offic', u'offici', u'often', u'oftentim', u'ogr', u'oh', u'ohf', u'ohh', u'ohhh', u'ohhhh', u'ohhhhh', u'ohhhhhhhhhhhhh', u'ohio', u'ohoo', u'ohooo', u'ohoooo', u'oil', u'oink', u'ointment', u'ok', u'okaaay', u'okay', u'oki', u'okra', u'ol', u'old', u'older', u'oldest', u'oliv', u'olli', u'olson', u'olymp', u'olympiad', u'om', u'omaha', u'omelet', u'omelett', u'omen', u'omniga', u'onass', u'onassi', u'onboard', u'one', u'onedun', u'onion', u'onour', u'onstag', u'onto', u'oo', u'ooh', u'oohh', u'ooo', u'oooh', u'ooohhh', u'oooo', u'ooooh', u'oooohh', u'oooohhhh', u'ooookay', u'ooooo', u'oooooh', u'oooooo', u'oooooohaaaa', u'ooooooohhh', u'ooooooooooha', u'oooow', u'oop', u'oouuoo', u'oow', u'ooz', u'op', u'open', u'oper', u'opera', u'opinion', u'opium', u'opon', u'oppen', u'oppenheim', u'oppon', u'opportun', u'oppos', u'opposit', u'oprah', u'optim', u'optimist', u'option', u'optometri', u'orang', u'orangutan', u'orchestr', u'orchestra', u'ordeal', u'order', u'ordinari', u'ordinarili', u'oregano', u'oregon', u'organ', u'organis', u'orgasm', u'orgi', u'orient', u'origi', u'origin', u'oriol', u'orlando', u'orthoped', u'oscar', u'oskar', u'osteopath', u'osteoporosi', u'ostrac', u'ostrich', u'oswald', u'other', u'otherwis', u'otic', u'ou', u'ouch', u'ouf', u'oughh', u'oughta', u'ouhhh', u'oui', u'ououou', u'ousid', u'out', u'outbreak', u'outburst', u'outcast', u'outdat', u'outdon', u'outdoor', u'outer', u'outfield', u'outfit', u'outgo', u'outgrown', u'outlaw', u'outlet', u'outliv', u'outlook', u'outrag', u'outsid', u'outstand', u'outstretch', u'outta', u'outward', u'ovaltin', u'oven', u'over', u'overachiev', u'overanxi', u'overbought', u'overcharg', u'overcook', u'overdi', u'overdos', u'overdrawn', u'overdri', u'overdu', u'overextend', u'overh', u'overhaul', u'overhead', u'overhear', u'overheard', u'overlap', u'overload', u'overlook', u'overnight', u'overr', u'overrul', u'overs', u'oversleep', u'overst', u'overtim', u'overtip', u'overus', u'overview', u'overwet', u'overwhelm', u'ow', u'owe', u'owen', u'own', u'owner', u'ownership', u'owow', u'oww', u'ox', u'oxen', u'oxford', u'oxygen', u'oy', u'oyasuminasai', u'oye', u'oyur', u'ozzi', u'paba', u'pace', u'pachini', u'pacif', u'pack', u'packag', u'packer', u'packet', u'packin', u'paco', u'pact', u'pad', u'paddl', u'padillac', u'page', u'pageant', u'pagliacci', u'paid', u'pain', u'painful', u'painless', u'paint', u'pair', u'pajama', u'pakistan', u'pakistani', u'pal', u'palac', u'palat', u'pale', u'palett', u'pali', u'paliachi', u'palm', u'palon', u'palonia', u'palsi', u'pam', u'pamela', u'pamphlet', u'pamplona', u'pan', u'panach', u'panama', u'panda', u'panel', u'panhandl', u'panic', u'panick', u'panicki', u'pant', u'panten', u'panti', u'pantomim', u'papaya', u'paper', u'papi', u'papilla', u'papp', u'pappi', u'par', u'parachut', u'parad', u'paradis', u'paraffin', u'paragon', u'parakeet', u'parallel', u'paralyz', u'paramed', u'paramet', u'paranoia', u'paranoid', u'parasit', u'parcel', u'parcheesi', u'pardon', u'parent', u'pari', u'park', u'parker', u'parkway', u'parlor', u'parmesan', u'parodi', u'parri', u'parrot', u'parsippani', u'parsley', u'part', u'parti', u'partial', u'particip', u'particular', u'partner', u'pas', u'pasag', u'paso', u'pass', u'passeng', u'passerbi', u'passion', u'past', u'pasta', u'pasto', u'pastrami', u'pastri', u'pastur', u'pat', u'patch', u'pate', u'patent', u'path', u'pathet', u'pathient', u'patienc', u'patient', u'patio', u'patric', u'patrick', u'patrol', u'patron', u'patsi', u'patter', u'pattern', u'patti', u'pau', u'paul', u'paula', u'paull', u'paunchi', u'paus', u'pavarotti', u'pavorotti', u'paw', u'pawn', u'pay', u'payapa', u'payback', u'payin', u'payment', u'payoff', u'payola', u'payphon', u'payrol', u'payton', u'pbs', u'pbt', u'pckergh', u'pdq', u'pea', u'peac', u'peach', u'peak', u'peanut', u'pear', u'pearl', u'peat', u'pebbl', u'pec', u'pecan', u'peck', u'peculiar', u'pedal', u'pedant', u'peddl', u'pedest', u'pedestrian', u'pediatr', u'pediatrician', u'pedicur', u'pee', u'peek', u'peel', u'peep', u'peephol', u'peepshow', u'peer', u'peggi', u'pekines', u'pemmican', u'pen', u'penal', u'penalti', u'pencil', u'pend', u'pendant', u'penetr', u'penguin', u'peni', u'penicillin', u'penitentiari', u'pennant', u'penni', u'pennsylvania', u'pennypack', u'penski', u'penthous', u'peol', u'peop', u'peopl', u'pepcid', u'peper', u'pepiton', u'peppard', u'pepper', u'pepperidg', u'pepperoni', u'peppiton', u'pepsi', u'pepto', u'pequita', u'per', u'perceiv', u'percent', u'percentag', u'percept', u'perch', u'percol', u'perducto', u'perfect', u'perform', u'perfum', u'perhap', u'pericl', u'perinas', u'period', u'periodontist', u'periscop', u'peristalsi', u'perjuri', u'perk', u'perki', u'perkili', u'perman', u'permiss', u'permit', u'perpetr', u'perpetu', u'perplex', u'perri', u'persecut', u'persist', u'person', u'personnali', u'perspect', u'persuas', u'pertin', u'peru', u'perus', u'pervers', u'pervert', u'peso', u'peson', u'pest', u'pesto', u'pet', u'pete', u'peter', u'peterman', u'petermen', u'peterson', u'petramco', u'petti', u'petula', u'pez', u'pfeiffer', u'pff', u'pfff', u'pfffff', u'pfffft', u'pffft', u'pfft', u'pharmaci', u'pharmacist', u'phase', u'pheeewwww', u'phelp', u'phenomen', u'pheonix', u'phew', u'phfwelll', u'phhbt', u'phil', u'philadelphia', u'philanthropi', u'philanthropist', u'philharmon', u'philli', u'phlebiti', u'phlegm', u'phobia', u'phoenix', u'phone', u'phoni', u'photo', u'photograph', u'photostat', u'phrase', u'phylli', u'physic', u'physician', u'physiqu', u'pi', u'piaget', u'pianist', u'piano', u'picchu', u'pick', u'picket', u'picki', u'pickin', u'pickl', u'pickup', u'picnic', u'pictur', u'pie', u'piec', u'pier', u'pierc', u'pierr', u'piffl', u'pig', u'pigeon', u'pigstein', u'pigsti', u'pile', u'pilfer', u'pilin', u'pill', u'pillow', u'pilot', u'pimento', u'pimp', u'pimpl', u'pin', u'pinch', u'pine', u'pineappl', u'pinella', u'ping', u'pinhead', u'pink', u'pinki', u'pinkish', u'pinko', u'pinkus', u'pint', u'pioneer', u'pious', u'pipe', u'piqu', u'pirat', u'pisano', u'piss', u'pistol', u'piston', u'pit', u'pita', u'pitbul', u'pitch', u'pitcher', u'pitchman', u'piti', u'pitt', u'pittsburgh', u'pizza', u'pkeeew', u'pkew', u'pkooo', u'placatori', u'place', u'placenta', u'placket', u'plagu', u'plain', u'plan', u'plane', u'planet', u'plankton', u'planner', u'plannin', u'plant', u'plantain', u'plastic', u'plate', u'plato', u'platon', u'platoon', u'platter', u'plax', u'play', u'playback', u'player', u'playground', u'playin', u'playroom', u'playworld', u'plaza', u'plazaaa', u'plead', u'pleas', u'pleasant', u'pleasantri', u'pleasur', u'pledg', u'pleeeeeas', u'plenti', u'pli', u'plier', u'plo', u'plop', u'plot', u'ploy', u'pluck', u'plug', u'pluggin', u'plugola', u'plum', u'plumb', u'plummet', u'plump', u'plung', u'plunk', u'plus', u'plyometr', u'pm', u'pneumonia', u'poach', u'poacher', u'pocatello', u'pocket', u'pocketbook', u'pocono', u'pod', u'podiatrist', u'poem', u'poepl', u'poet', u'poetri', u'point', u'pointer', u'pointi', u'pointless', u'pois', u'poision', u'poison', u'poisson', u'poke', u'poker', u'poland', u'polar', u'pole', u'poli', u'polic', u'policeman', u'polici', u'polio', u'polish', u'polit', u'politburo', u'polithi', u'polk', u'poll', u'pollut', u'polo', u'polyest', u'polygraph', u'pommel', u'pompous', u'ponc', u'poncho', u'pond', u'ponder', u'pong', u'poni', u'pontif', u'ponytail', u'poo', u'poodl', u'poof', u'pooh', u'pool', u'pooll', u'poop', u'poor', u'pop', u'popcorn', u'pope', u'popenjay', u'poppa', u'popper', u'poppi', u'popsicl', u'popul', u'popular', u'por', u'porch', u'porcini', u'pore', u'porgi', u'pork', u'porki', u'porn', u'porno', u'port', u'porterhous', u'portion', u'portugues', u'pose', u'posit', u'possess', u'possibl', u'post', u'postal', u'postcard', u'poster', u'postman', u'postmast', u'postpon', u'postum', u'postur', u'pot', u'potato', u'potent', u'potenti', u'pothol', u'potsi', u'potteri', u'pottersvill', u'potussan', u'pouch', u'pounc', u'pound', u'pour', u'pousher', u'pouti', u'poutier', u'pow', u'powder', u'power', u'pph', u'practic', u'pragala', u'prais', u'pranc', u'prancer', u'pratic', u'prava', u'pray', u'prayer', u'pre', u'precaut', u'precautionari', u'preced', u'precend', u'precinct', u'precious', u'preclud', u'predict', u'preemptiv', u'preen', u'prefer', u'pregnant', u'prell', u'prematur', u'premier', u'premis', u'prenuptu', u'prep', u'prepar', u'preposter', u'prerequisit', u'prescrib', u'prescript', u'presenc', u'present', u'preserv', u'preset', u'presid', u'president', u'presidenti', u'press', u'pressur', u'prestig', u'prestigi', u'presum', u'presumptu', u'pretenc', u'pretend', u'pretens', u'pretenti', u'pretti', u'prettiest', u'pretzel', u'prevent', u'preview', u'previous', u'prey', u'pri', u'price', u'priceless', u'pricey', u'prick', u'pride', u'primal', u'primari', u'primat', u'primavera', u'prime', u'primo', u'princ', u'princess', u'principl', u'print', u'prior', u'prioriti', u'prison', u'prissi', u'privaci', u'privat', u'priveleg', u'privileg', u'prize', u'pro', u'probabl', u'probat', u'probe', u'problem', u'procedur', u'proceed', u'process', u'proclaim', u'procreat', u'proctolog', u'proctologist', u'prod', u'produc', u'product', u'profess', u'profession', u'professor', u'proffer', u'profit', u'profound', u'prognosi', u'program', u'programm', u'progress', u'prohibit', u'project', u'prolif', u'promin', u'promis', u'promot', u'prompt', u'pronounc', u'pronto', u'proof', u'proofread', u'prop', u'propaganda', u'propel', u'proper', u'properti', u'prophesi', u'prophet', u'propoganda', u'proport', u'propos', u'proposit', u'propylparabin', u'pros', u'prosecut', u'prospect', u'prosthet', u'prostitut', u'protect', u'protein', u'protest', u'prototyp', u'proud', u'prove', u'proven', u'provid', u'proxim', u'prozac', u'prrt', u'prune', u'psh', u'pssh', u'psst', u'pst', u'psych', u'psychiatrist', u'psycho', u'psycholog', u'psychopath', u'psychosexu', u'psychot', u'ptruut', u'puberti', u'public', u'publish', u'puddi', u'puddl', u'pudgi', u'puerta', u'puerto', u'puf', u'puff', u'puffi', u'puh', u'puke', u'pukka', u'pull', u'pullov', u'pulp', u'puls', u'pump', u'pumpkin', u'pun', u'punch', u'punctual', u'punctuat', u'punctur', u'puni', u'punish', u'punk', u'pupil', u'puppet', u'puppi', u'purchas', u'pure', u'purest', u'purpl', u'purpos', u'purposeless', u'purs', u'pursu', u'pursuit', u'push', u'pusher', u'pushin', u'pustul', u'put', u'putti', u'puttin', u'putumayo', u'puzzl', u'puzzlement', u'pygmi', u'pyle', u'pzzzt', u'quack', u'quadramat', u'quailif', u'quaint', u'quaker', u'qualifi', u'qualiti', u'quandari', u'quarter', u'quarterback', u'queasi', u'queen', u'queensborough', u'quell', u'quervo', u'question', u'quibbl', u'quick', u'quicki', u'quicksand', u'quiet', u'quieter', u'quik', u'quilt', u'quinci', u'quindlen', u'quinn', u'quirk', u'quirki', u'quit', u'quitter', u'quo', u'quon', u'quot', u'rabbi', u'rabbit', u'rabbl', u'rabi', u'rabid', u'race', u'racehors', u'rachel', u'racial', u'racism', u'racist', u'rack', u'racket', u'racquet', u'racquetbal', u'radar', u'radiat', u'radic', u'radio', u'radius', u'raef', u'raft', u'rag', u'rage', u'railroad', u'rain', u'rainbow', u'raincoat', u'rainforest', u'rainman', u'rais', u'raiser', u'raisin', u'raisinett', u'ralph', u'ram', u'ramada', u'rambl', u'rambuncti', u'ramon', u'ramp', u'ran', u'rand', u'random', u'rang', u'ranger', u'rank', u'ransack', u'rap', u'rapid', u'rapport', u'raquel', u'rare', u'rascal', u'rash', u'rasin', u'rat', u'rate', u'rather', u'ratio', u'ration', u'rattan', u'rattl', u'rava', u'rave', u'ravioli', u'ravish', u'ray', u'raymond', u'rbis', u're', u'reach', u'react', u'reaction', u'read', u'reader', u'readi', u'reagan', u'real', u'reali', u'realis', u'realist', u'realiti', u'realiz', u'realize', u'realli', u'reallllli', u'realm', u'reappear', u'reappli', u'rear', u'rearrang', u'reason', u'reassur', u'rebel', u'rebuilt', u'rec', u'recah', u'recal', u'reced', u'receipt', u'receiv', u'recent', u'recept', u'receptacl', u'receptionist', u'recess', u'reciev', u'recip', u'recipi', u'recit', u'reckon', u'reclin', u'recogn', u'recognis', u'recognit', u'recoil', u'recommend', u'reconcil', u'reconsid', u'reconstruct', u'record', u'recov', u'rectal', u'rectifi', u'recuper', u'recycl', u'red', u'redial', u'redirect', u'redo', u'reduc', u'redwood', u'ree', u'reeealli', u'reek', u'reel', u'reeno', u'reenter', u'reer', u'refer', u'reffer', u'refil', u'reflect', u'reflex', u'refresh', u'refriger', u'refund', u'refus', u'regain', u'regard', u'regga', u'reggi', u'regim', u'regimen', u'regiment', u'region', u'regist', u'registr', u'registrar', u'regret', u'regular', u'rehab', u'rehears', u'reichman', u'reilli', u'reimburs', u'reimenschneid', u'reinforc', u'reinstat', u'reiter', u'reject', u'rejuven', u'relat', u'relationship', u'relax', u'relay', u'releas', u'relent', u'relentless', u'relev', u'reliabl', u'relief', u'reliev', u'religi', u'religion', u'relish', u'reloc', u'reluct', u'remain', u'remark', u'remarri', u'rememb', u'rememba', u'remi', u'remind', u'reminisc', u'remors', u'remot', u'remov', u'render', u'rene', u'renew', u'renov', u'rent', u'rental', u'reorgan', u'rep', u'repack', u'repair', u'repairman', u'repay', u'repeat', u'repertoir', u'rephras', u'replac', u'repli', u'report', u'reposit', u'reprehens', u'repres', u'repris', u'reproach', u'reprogram', u'repugn', u'repuls', u'reput', u'request', u'requiem', u'requir', u'rerun', u'research', u'resembl', u'resent', u'reserv', u'reservoir', u'reset', u'resid', u'residenti', u'resign', u'resist', u'resolut', u'resolv', u'reson', u'resound', u'resourc', u'respect', u'respir', u'respond', u'respons', u'ressurect', u'rest', u'restart', u'restaur', u'restaurateur', u'restitut', u'restless', u'reston', u'restor', u'restrain', u'restraint', u'restroom', u'result', u'resum', u'resuscit', u'retail', u'retain', u'retch', u'rethink', u'retic', u'retina', u'retir', u'retouch', u'retrac', u'retreat', u'retriev', u'return', u'reunion', u'revamp', u'reveal', u'revel', u'revelatori', u'reveng', u'reverend', u'revers', u'review', u'reviv', u'revoir', u'revok', u'revolt', u'revolut', u'revolv', u'reward', u'rewind', u'rhino', u'rhisa', u'rhode', u'rhombus', u'rhonda', u'rhythmic', u'ri', u'rib', u'ribbon', u'rica', u'rican', u'ricardo', u'rice', u'rich', u'richard', u'richardson', u'richer', u'richi', u'rici', u'rick', u'ricki', u'rico', u'ricochet', u'ricon', u'rid', u'riddanc', u'riddl', u'ride', u'ridicul', u'ridicur', u'ridin', u'rif', u'rifkin', u'rifl', u'rig', u'rigatoni', u'righ', u'right', u'righte', u'righteo', u'righti', u'rigor', u'rim', u'rimski', u'rine', u'ring', u'ringin', u'rinitz', u'rins', u'rinsteinbrenn', u'riot', u'rip', u'ripe', u'rise', u'risk', u'riski', u'risotto', u'rita', u'ritter', u'ritual', u'ritz', u'river', u'rivera', u'riversid', u'riviera', u'rizzuto', u'roach', u'road', u'roadwork', u'roam', u'roast', u'rob', u'robber', u'robberi', u'robbin', u'robert', u'roberta', u'robin', u'robinson', u'robot', u'robust', u'rochell', u'rock', u'rockaway', u'rocker', u'rocket', u'rockford', u'rocki', u'rockin', u'rod', u'rode', u'rodeo', u'rodriguez', u'roger', u'rogu', u'role', u'roll', u'rollamech', u'roller', u'rollercoast', u'rolodex', u'romanc', u'romanian', u'romant', u'rome', u'ron', u'ronald', u'ronni', u'roof', u'room', u'roommat', u'rooney', u'roosevelt', u'rooster', u'root', u'rope', u'rosa', u'rose', u'rosemari', u'rosen', u'rosi', u'ross', u'rot', u'rotari', u'rotat', u'rotten', u'rough', u'roulett', u'round', u'rout', u'routin', u'row', u'rowan', u'rowenna', u'roxann', u'roxi', u'roy', u'royal', u'royalti', u'rrr', u'rrroamin', u'ru', u'rub', u'rubber', u'rubi', u'rubik', u'rude', u'rudi', u'rue', u'ruf', u'ruffl', u'rug', u'ruin', u'rukeys', u'rule', u'ruler', u'rum', u'rumbl', u'rumin', u'rummag', u'rumor', u'rumpl', u'run', u'runaway', u'runner', u'runnin', u'runway', u'rupe', u'rush', u'russ', u'russel', u'russia', u'russian', u'rust', u'rusti', u'rustl', u'ruth', u'ruthi', u'ruthless', u'ryan', u'rye', u'sa', u'saab', u'saadina', u'sabotag', u'sacamano', u'saccamano', u'saccomanno', u'sachet', u'sack', u'sacr', u'sacrif', u'sacrific', u'sad', u'saddam', u'saddl', u'sadist', u'safe', u'safeguard', u'safeti', u'saffron', u'safir', u'sag', u'sagenaw', u'sagman', u'said', u'sail', u'sailor', u'sake', u'sakharov', u'salaci', u'salad', u'salami', u'salari', u'salat', u'sale', u'salesman', u'salesmen', u'saleswoman', u'saliv', u'salli', u'salmon', u'salon', u'salt', u'salti', u'salut', u'salvat', u'sam', u'samaritan', u'sambusa', u'sammi', u'sampl', u'samuel', u'san', u'sanalac', u'sanctuari', u'sanctum', u'sand', u'sandal', u'sandblast', u'sander', u'sandi', u'sando', u'sandwich', u'sane', u'sang', u'sanger', u'sanitari', u'sank', u'sanka', u'sansei', u'santa', u'sap', u'sappi', u'sappin', u'sara', u'sarandon', u'sarasota', u'sarcasm', u'sarcast', u'sardi', u'sardon', u'sarg', u'sargent', u'sash', u'sat', u'satisfact', u'satisfi', u'saturday', u'sauc', u'sauci', u'sauna', u'saunter', u'sausag', u'saut', u'savag', u'save', u'saver', u'saviour', u'savour', u'saw', u'sawbuck', u'sax', u'say', u'sayd', u'sayin', u'sayonara', u'sc', u'scab', u'scald', u'scale', u'scallop', u'scalp', u'scam', u'scamper', u'scampi', u'scandal', u'scandinavian', u'scanner', u'scar', u'scarc', u'scare', u'scarf', u'scari', u'scarier', u'scarsdal', u'scene', u'scent', u'schedul', u'scheme', u'schindler', u'schizophren', u'schnitzer', u'schnoz', u'schoen', u'scholarship', u'school', u'schooler', u'schoolgirl', u'schtickl', u'schuman', u'schumann', u'schwinn', u'scienc', u'scientist', u'scientologist', u'scintil', u'scissor', u'scissorhand', u'scof', u'scoff', u'scold', u'scoliosi', u'scoop', u'scope', u'scorcher', u'score', u'scoreboard', u'scorn', u'scotch', u'scotland', u'scott', u'scour', u'scout', u'scram', u'scrambl', u'scrap', u'scrape', u'scratch', u'scream', u'screamin', u'screech', u'screen', u'screener', u'screenwrit', u'screw', u'screwgi', u'screwin', u'scribbl', u'scrimmag', u'script', u'scrotum', u'scrub', u'scrubbin', u'scrubwomen', u'scrump', u'scrumptious', u'scrunch', u'scrunchi', u'scuba', u'sculptur', u'scum', u'scurri', u'scuse', u'se', u'sea', u'seaboard', u'seal', u'sear', u'search', u'season', u'seat', u'seater', u'seatpost', u'seattl', u'sec', u'seclus', u'second', u'secreci', u'secret', u'secretari', u'secretariat', u'section', u'secur', u'seduc', u'seduct', u'seductress', u'see', u'seed', u'seein', u'seek', u'seem', u'seen', u'seep', u'seeya', u'segment', u'sein', u'seinfeld', u'sele', u'select', u'self', u'selfish', u'selica', u'sell', u'seller', u'sellin', u'sellout', u'selwyn', u'semant', u'semi', u'seminar', u'semit', u'semper', u'sen', u'senat', u'send', u'sendrax', u'seneg', u'senil', u'senior', u'senor', u'sens', u'senseless', u'sensibl', u'sensit', u'sensor', u'sensual', u'sent', u'sentenc', u'sentiment', u'sentinel', u'separ', u'separate', u'septemb', u'septum', u'sequenc', u'sequest', u'serb', u'sere', u'sergeant', u'sergio', u'seri', u'serial', u'serious', u'serv', u'servant', u'servic', u'sesquioli', u'session', u'set', u'settl', u'settlement', u'setup', u'seven', u'seventeen', u'seventh', u'seventi', u'sever', u'sewer', u'sewn', u'sex', u'sexi', u'sexier', u'sexili', u'sexu', u'sexual', u'sfuzi', u'sgt', u'sh', u'shack', u'shackl', u'shade', u'shadi', u'shadow', u'shaft', u'shag', u'shake', u'shakedown', u'shaker', u'shakespear', u'shakey', u'shall', u'shallow', u'shalt', u'sham', u'shambl', u'shame', u'shameless', u'shampoo', u'shanghai', u'shannon', u'shape', u'shard', u'shardi', u'share', u'sharehold', u'shark', u'sharon', u'sharp', u'shatter', u'shave', u'shaver', u'shaw', u'shed', u'sheep', u'sheepish', u'sheet', u'sheik', u'shelf', u'shell', u'shellack', u'shellbach', u'shelley', u'shellfish', u'shelli', u'shelter', u'shelv', u'shemp', u'sheriff', u'shermack', u'shermak', u'sherman', u'sherri', u'sheryl', u'shh', u'shha', u'shhh', u'shhhe', u'shhhhh', u'shhhhhh', u'shi', u'shiatsu', u'shift', u'shifti', u'shii', u'shimmer', u'shine', u'ship', u'shipment', u'shirt', u'shit', u'shiv', u'shiver', u'shiveri', u'shmanci', u'shmanship', u'shmootsi', u'shmootz', u'shnitzer', u'shnug', u'shock', u'shoe', u'shoebox', u'shoehorn', u'shoelac', u'shoeshin', u'shoo', u'shook', u'shoot', u'shop', u'shoplift', u'shore', u'short', u'shortag', u'shortcut', u'shortstop', u'shot', u'shotgun', u'shoulda', u'shoulder', u'shouldn', u'shout', u'shoutin', u'shove', u'shovel', u'show', u'showalt', u'showbusi', u'showcas', u'shower', u'showerhead', u'showin', u'showmanship', u'shown', u'showroom', u'shred', u'shriek', u'shrill', u'shrimp', u'shrine', u'shrink', u'shrinkag', u'shriver', u'shrude', u'shrug', u'shrunk', u'shrunken', u'shst', u'shtick', u'shuffleboard', u'shug', u'shun', u'shush', u'shushe', u'shusher', u'shut', u'shuttl', u'shuush', u'shvitz', u'si', u'sic', u'sick', u'sicken', u'sicker', u'sicki', u'sicko', u'sid', u'side', u'sidebar', u'sideburn', u'sidekick', u'sidelin', u'sidewalk', u'sideway', u'sidl', u'sidler', u'sidney', u'sidra', u'sieg', u'siesta', u'sigh', u'sight', u'sigmond', u'sigmund', u'sign', u'signal', u'signatur', u'signific', u'silenc', u'silent', u'silk', u'silki', u'silkwood', u'silli', u'silver', u'silvio', u'similar', u'simmer', u'simon', u'simpatico', u'simpl', u'simpler', u'simpli', u'simul', u'simultan', u'sin', u'sinai', u'sinatra', u'sinc', u'sincer', u'sing', u'singapor', u'singin', u'singl', u'sinist', u'sink', u'sinus', u'sip', u'sir', u'sire', u'siren', u'sirre', u'sis', u'sister', u'sit', u'sitarid', u'sitcom', u'site', u'sitter', u'sittin', u'situat', u'six', u'sixteen', u'sixteenth', u'sixth', u'sixti', u'sizabl', u'size', u'sizzler', u'skate', u'skateboard', u'skedaddl', u'skeptic', u'sketch', u'ski', u'skier', u'skill', u'skimp', u'skimpi', u'skin', u'skinni', u'skip', u'skit', u'skittl', u'skowron', u'skull', u'sky', u'skybox', u'skyburg', u'skycap', u'slack', u'slackjaw', u'slam', u'slang', u'slant', u'slap', u'slappi', u'slash', u'slaughterhous', u'slave', u'slaw', u'slay', u'sleep', u'sleepi', u'sleepin', u'sleet', u'sleev', u'sleeveless', u'sleigh', u'slept', u'slew', u'slice', u'slicer', u'slid', u'slide', u'slight', u'slightest', u'slim', u'slimmer', u'sling', u'slip', u'slipper', u'slipperi', u'sloan', u'slob', u'slop', u'sloppi', u'slot', u'slow', u'slower', u'slowest', u'slowli', u'slug', u'slump', u'slung', u'slur', u'slurp', u'slurr', u'slush', u'slut', u'smack', u'small', u'smaller', u'smallest', u'smart', u'smarter', u'smash', u'smear', u'smell', u'smelli', u'smile', u'smiley', u'smirk', u'smith', u'smither', u'smithsonian', u'smitten', u'smog', u'smoke', u'smoker', u'smooth', u'smoother', u'smoothi', u'smorgasbord', u'smother', u'smudg', u'smug', u'snack', u'snag', u'snake', u'snap', u'snappl', u'snatch', u'snazzi', u'snazzier', u'sneak', u'sneaker', u'sneez', u'snell', u'snicker', u'snif', u'sniff', u'snip', u'sniper', u'snitzer', u'snobbi', u'snobbish', u'snoop', u'snoopi', u'snoozer', u'snort', u'snow', u'snowbal', u'snub', u'snuck', u'snuff', u'snugg', u'snuggl', u'soak', u'soakin', u'soap', u'sob', u'soccer', u'sociabl', u'social', u'societi', u'sociolog', u'sock', u'socket', u'soda', u'sodomi', u'sofa', u'soft', u'softbal', u'soften', u'softer', u'softest', u'sokol', u'sol', u'solar', u'solarium', u'sold', u'soldier', u'sole', u'solicit', u'solid', u'solidar', u'solitari', u'solitud', u'solut', u'solv', u'somber', u'sombrero', u'somebodi', u'someday', u'somehow', u'someon', u'someplac', u'someth', u'somethin', u'sometim', u'someway', u'somewhat', u'somewher', u'somm', u'son', u'sonata', u'song', u'songi', u'soni', u'sonic', u'sonni', u'soo', u'soon', u'sooner', u'sooo', u'soooooo', u'sooth', u'sophi', u'sophia', u'sophist', u'sopi', u'sorbit', u'sorbonn', u'sorri', u'sort', u'sorta', u'sorvino', u'sothebi', u'sought', u'soul', u'sound', u'soup', u'sour', u'sourc', u'sous', u'south', u'southampton', u'southpaw', u'southsid', u'soviet', u'sozonkel', u'sp', u'sp2000', u'space', u'spaceship', u'spaghetti', u'spain', u'span', u'spandex', u'spanish', u'spank', u'spar', u'spare', u'spark', u'sparkl', u'spartacus', u'spastic', u'spatula', u'speak', u'speaker', u'speci', u'special', u'specialist', u'specialti', u'specif', u'specimen', u'spectacl', u'spectacular', u'spector', u'specul', u'sped', u'speech', u'speechless', u'speed', u'speedboat', u'spell', u'spend', u'spent', u'sperm', u'sperri', u'spi', u'spice', u'spici', u'spider', u'spiel', u'spike', u'spill', u'spillov', u'spin', u'spinach', u'spindl', u'spine', u'spineless', u'spinster', u'spiral', u'spirit', u'spiritu', u'spit', u'spite', u'spitter', u'splash', u'splashin', u'splat', u'splatter', u'splendid', u'split', u'splittin', u'spock', u'spoil', u'spoke', u'spoken', u'spokeswoman', u'spong', u'spongeworthi', u'sponsor', u'spontan', u'spoon', u'sport', u'sportin', u'spot', u'spotless', u'spotlight', u'sprain', u'spray', u'spread', u'spri', u'sprig', u'spring', u'springfield', u'springtim', u'sprinkl', u'sprite', u'spritz', u'sprung', u'squalor', u'squamous', u'squar', u'squawk', u'squeak', u'squeal', u'squealer', u'squeege', u'squeez', u'squinch', u'squink', u'squint', u'squir', u'squirm', u'squirrel', u'squirt', u'squish', u'sr', u'ssssfkittl', u'sssshhhhhh', u'ssssilver', u'ssssperm', u'ssssss', u'st', u'stab', u'stabl', u'stacey', u'staci', u'stack', u'stadium', u'staff', u'staffer', u'stafford', u'stage', u'stagehand', u'stain', u'stair', u'stairmast', u'stake', u'stakeout', u'stale', u'stalin', u'stalk', u'stall', u'stammer', u'stamp', u'stan', u'stanc', u'stand', u'standard', u'standin', u'standoffish', u'standup', u'stanley', u'stapl', u'stapleton', u'star', u'starboard', u'stare', u'starin', u'starlet', u'starlit', u'starr', u'start', u'starter', u'startin', u'startl', u'starv', u'starvat', u'starvin', u'stash', u'stat', u'state', u'statement', u'staten', u'static', u'station', u'stationari', u'stationeri', u'statu', u'statuett', u'status', u'statut', u'staunch', u'stay', u'stead', u'steadi', u'steak', u'steal', u'stealer', u'steam', u'steami', u'steel', u'steep', u'steer', u'stein', u'steinberg', u'steinbrenn', u'steinfeld', u'steinman', u'stella', u'stem', u'stench', u'step', u'stephen', u'stepmom', u'stepmoth', u'stereo', u'steril', u'sterilis', u'stern', u'steve', u'steven', u'stew', u'stick', u'sticker', u'sticki', u'stickin', u'stickler', u'sticksvill', u'stiff', u'stiffen', u'still', u'stimul', u'sting', u'stingi', u'stingray', u'stink', u'stinkaroo', u'stinkbreath', u'stinki', u'stir', u'stitch', u'stock', u'stockholm', u'stocki', u'stole', u'stolen', u'stomach', u'stomp', u'stone', u'stonewal', u'stoni', u'stood', u'stoog', u'stool', u'stop', u'stopov', u'storag', u'store', u'stori', u'storm', u'storylin', u'stove', u'straddl', u'straight', u'straighten', u'strain', u'strainer', u'strand', u'strang', u'stranger', u'strangest', u'strangl', u'strangler', u'strap', u'strata', u'straw', u'strawberri', u'stray', u'streak', u'stream', u'streamlin', u'streep', u'street', u'strength', u'strenuous', u'stress', u'stretch', u'stricken', u'strict', u'stride', u'strike', u'string', u'stringbean', u'stringi', u'strip', u'stripe', u'stripteas', u'stroke', u'stroll', u'strong', u'strongbox', u'stronger', u'struck', u'structur', u'strugatz', u'struggl', u'strummin', u'strut', u'struttin', u'stu', u'stuart', u'stub', u'stubb', u'stuck', u'student', u'studi', u'studio', u'stuf', u'stuff', u'stumbl', u'stun', u'stunk', u'stupefi', u'stupid', u'stupidest', u'sturgeon', u'stutter', u'stye', u'style', u'su', u'sub', u'subconsci', u'subdu', u'subject', u'sublet', u'submarin', u'submerg', u'submit', u'subordin', u'subscript', u'substanc', u'substitut', u'substract', u'subtitl', u'subtl', u'subway', u'success', u'successor', u'succinct', u'suck', u'sucker', u'suckin', u'sud', u'sudden', u'sudsi', u'sue', u'sued', u'suffer', u'suffoc', u'suffragett', u'sugar', u'sugarman', u'suggest', u'suicid', u'suit', u'suitcas', u'suitor', u'sulk', u'sulkili', u'sullivan', u'sultan', u'sum', u'suma', u'summer', u'summersault', u'summertim', u'sumpatico', u'sun', u'sunblock', u'sunda', u'sunday', u'sundown', u'sunflow', u'sung', u'sunglass', u'sunk', u'sunken', u'sunris', u'sunroof', u'sunshin', u'super', u'supercili', u'superfici', u'superfreak', u'superh', u'superhero', u'superior', u'superman', u'supermarket', u'supermen', u'supermodel', u'supersav', u'superstream', u'supervis', u'supervisor', u'supper', u'supplement', u'suppli', u'support', u'suppos', u'suprem', u'surcharg', u'surd', u'sure', u'surf', u'surfac', u'surg', u'surgeon', u'surgeri', u'surpass', u'surpris', u'surrend', u'surround', u'survey', u'surviv', u'susan', u'sushi', u'susi', u'suspect', u'suspend', u'suspens', u'suspici', u'suspicion', u'sustain', u'sutra', u'sutur', u'suzi', u'svengali', u'svenjolli', u'svetlana', u'swallow', u'swam', u'swami', u'swamp', u'swan', u'swank', u'swanki', u'swap', u'swarm', u'sway', u'swayz', u'swear', u'sweat', u'sweater', u'sweather', u'sweati', u'sweatin', u'sweatpant', u'sweatshirt', u'sweatsuit', u'sweden', u'swedish', u'sweedler', u'sweep', u'sweeper', u'sweepstak', u'sweet', u'sweeten', u'sweetheart', u'sweeti', u'swell', u'swept', u'swerv', u'swig', u'swim', u'swimmin', u'swimsuit', u'swing', u'swirl', u'swish', u'swiss', u'switch', u'switcheroo', u'switzerland', u'swivel', u'swollen', u'swoop', u'swoosh', u'swooshi', u'swordfish', u'swore', u'sworm', u'sworn', u'swung', u'sydney', u'sylvia', u'symbol', u'symmetr', u'sympathet', u'sympathi', u'symphoni', u'symptom', u'synaps', u'sync', u'syndrom', u'synergi', u'syrup', u'system', u'systemat', u'szechwan', u'ta', u'tab', u'tabachnick', u'tabe', u'tabl', u'tac', u'tack', u'tackl', u'taco', u'tact', u'tactil', u'tad', u'taft', u'tag', u'tagemat', u'taht', u'tai', u'tail', u'tailgunn', u'taint', u'take', u'taken', u'takent', u'takeov', u'taker', u'takin', u'tale', u'talent', u'talk', u'talker', u'talkin', u'talkng', u'tall', u'taller', u'tallk', u'tamber', u'tampax', u'tan', u'tanaka', u'tang', u'tango', u'tank', u'tanker', u'tantamount', u'tantric', u'tanya', u'tap', u'tape', u'tardi', u'target', u'tarnov', u'tarp', u'tarragon', u'tart', u'tartabul', u'tast', u'tasti', u'tatiana', u'tattl', u'tattoo', u'taught', u'taunt', u'tax', u'taxi', u'taxicab', u'taxidermi', u'taxpay', u'tay', u'taylor', u'tchoo', u'tea', u'teach', u'teacher', u'team', u'teammat', u'tear', u'teari', u'teas', u'teaser', u'technic', u'technicolor', u'techniqu', u'ted', u'teddi', u'tee', u'teem', u'teen', u'teenag', u'teeni', u'teeth', u'teh', u'telegram', u'telephon', u'telephoto', u'telescop', u'televis', u'telex', u'tell', u'teller', u'tellin', u'tempa', u'temper', u'temperatur', u'temperd', u'templ', u'tempt', u'temptat', u'ten', u'tenaci', u'tenant', u'tend', u'tendenc', u'tender', u'tenderloin', u'tenni', u'tens', u'tension', u'tenth', u'tepid', u'ter', u'term', u'termin', u'terrac', u'terranc', u'terribl', u'terrif', u'terrifi', u'terror', u'terrorist', u'terrycloth', u'test', u'testi', u'testicl', u'testifi', u'testikov', u'testimoni', u'testosteron', u'tex', u'texa', u'textur', u'th', u'tha', u'thai', u'thank', u'thankgiv', u'thanksgiv', u'that', u'thayer', u'theater', u'theatr', u'theatric', u'thee', u'theft', u'thegreatest', u'theif', u'thelma', u'theme', u'theori', u'therapi', u'therapist', u'therefor', u'therein', u'therman', u'thermomet', u'theywer', u'thge', u'thi', u'thick', u'thief', u'thiev', u'thigh', u'thin', u'thing', u'thingi', u'think', u'thinkin', u'thinner', u'thip', u'third', u'thirsti', u'thirt', u'thirteen', u'thirti', u'thissa', u'thoma', u'thomassoulo', u'thou', u'though', u'thought', u'thoughtless', u'thousand', u'thread', u'threat', u'threaten', u'three', u'threesom', u'threshold', u'threw', u'thrill', u'throat', u'throath', u'throati', u'throb', u'throughout', u'throught', u'throughway', u'throw', u'throwin', u'thrown', u'thug', u'thumb', u'thump', u'thunder', u'thunderdom', u'thurber', u'thursday', u'thus', u'tia', u'tic', u'tick', u'ticket', u'tickl', u'ticklish', u'tictac', u'tidal', u'tide', u'tidi', u'tie', u'tierney', u'tiffani', u'tiger', u'tight', u'tighter', u'til', u'tile', u'till', u'tilt', u'tilti', u'tim', u'timbr', u'time', u'timeslot', u'timmi', u'tin', u'tina', u'tini', u'tinsel', u'tioga', u'tip', u'tipto', u'tire', u'tissu', u'titan', u'titl', u'titleist', u'tiyoga', u'tle', u'tlike', u'toast', u'toaster', u'tobacco', u'tobi', u'today', u'todd', u'todi', u'todo', u'toe', u'togeth', u'togetha', u'toil', u'toilet', u'tokomo', u'tokyo', u'told', u'toler', u'toll', u'tolstoy', u'tom', u'tomarrow', u'tomato', u'tombston', u'tomcat', u'tomei', u'tommi', u'tommorow', u'tommorrow', u'tomorrow', u'tomr', u'ton', u'tone', u'tongu', u'toni', u'tonight', u'tonnag', u'tonsil', u'took', u'tool', u'toolsh', u'tooo', u'toot', u'tooth', u'toothbrush', u'tootl', u'tootsi', u'top', u'topic', u'topless', u'topper', u'topsi', u'tor', u'tore', u'torm', u'torment', u'torn', u'torrid', u'tortois', u'tortur', u'toscanini', u'toss', u'total', u'tote', u'totsi', u'touch', u'touchabl', u'touchi', u'tough', u'tougher', u'toughest', u'tought', u'toupe', u'tour', u'tourist', u'touristi', u'tournament', u'tov', u'tow', u'toward', u'towel', u'tower', u'town', u'townhous', u'toxic', u'toy', u'toyota', u'tr', u'trace', u'track', u'tracksuit', u'traction', u'tractor', u'trade', u'trader', u'tradit', u'traffic', u'traffick', u'trafico', u'tragedi', u'tragic', u'trail', u'trailer', u'train', u'trainer', u'trainyard', u'trajectori', u'tramp', u'trampl', u'transact', u'transcrib', u'transfer', u'transform', u'transit', u'translat', u'transmiss', u'transmit', u'transpar', u'transplant', u'transport', u'transvestit', u'trap', u'trapezoid', u'trapp', u'trash', u'trashbag', u'trauma', u'traumat', u'travel', u'travesti', u'tray', u'treat', u'treatin', u'treatment', u'tree', u'trek', u'trembl', u'tremend', u'trench', u'trenchcoat', u'trend', u'trendi', u'trespass', u'tri', u'trial', u'triangl', u'tribal', u'tribe', u'tribut', u'trick', u'tricki', u'trilog', u'trim', u'trip', u'tripl', u'triumph', u'triumphant', u'trivial', u'troll', u'trooper', u'trophi', u'tropic', u'trotski', u'trotter', u'troubl', u'troublemak', u'trough', u'truck', u'truckload', u'true', u'truli', u'trunk', u'trust', u'trustbust', u'truste', u'truth', u'tryin', u'tryout', u'tryptophan', u'ts', u'tsh', u'tsk', u'tsss', u'tst', u'ttst', u'tub', u'tube', u'tuberculosi', u'tuck', u'tuesday', u'tuft', u'tug', u'tugboat', u'tulip', u'tulli', u'tum', u'tumbl', u'tumblewe', u'tumor', u'tuna', u'tune', u'tungsten', u'tuni', u'tunisia', u'tunisian', u'tunnel', u'tupperwar', u'turbo', u'turf', u'turkey', u'turn', u'turner', u'turnpik', u'turtl', u'turvi', u'tuscana', u'tuscani', u'tut', u'tutor', u'tuttl', u'tuxedo', u'tv', u'tward', u'tweak', u'twelfth', u'twelv', u'twenti', u'twentieth', u'twice', u'twilight', u'twin', u'twinki', u'twirl', u'twist', u'twitch', u'twitter', u'twix', u'two', u'twwwwiiiiiixxxxx', u'ty', u'tyke', u'type', u'typecast', u'typhoid', u'typic', u'tyranni', u'tyrant', u'tyre', u'uch', u'ug', u'uger', u'ugghh', u'ugh', u'ughhhh', u'ugli', u'uglier', u'ugliest', u'uh', u'uhh', u'uhhh', u'uhhhhh', u'uhm', u'uhmmm', u'uhn', u'uhummm', u'ulcer', u'ulterior', u'ultim', u'ultimatum', u'ultrasound', u'um', u'uma', u'umbrella', u'umh', u'umm', u'ummm', u'umph', u'umpir', u'un', u'unabl', u'unaccept', u'unadvertis', u'unannounc', u'unapp', u'unattach', u'unattract', u'unavail', u'unavoid', u'unbalanc', u'unbeliev', u'unblemish', u'unbridl', u'unbuckl', u'unburden', u'unbutton', u'uncal', u'uncanni', u'uncertain', u'unchart', u'uncl', u'unclog', u'uncoagul', u'uncomfort', u'uncomfortablli', u'unconcern', u'unconfort', u'unconsci', u'unconscion', u'uncontrol', u'unconvinc', u'uncross', u'undat', u'undead', u'underco', u'undercov', u'undergar', u'undergo', u'underground', u'underlin', u'underneath', u'underr', u'undershirt', u'underst', u'understand', u'understood', u'understudi', u'underton', u'underwat', u'underway', u'underwear', u'undo', u'undon', u'undress', u'undriv', u'une', u'uneasi', u'uneduc', u'unemploy', u'unencumb', u'unenthusiast', u'unequivoc', u'uneth', u'uneven', u'unexpect', u'unfair', u'unfaith', u'unfathom', u'unfett', u'unfocus', u'unfold', u'unforeseen', u'unforgett', u'unforgiv', u'unfortun', u'unfriend', u'unfulfil', u'unh', u'unhand', u'unhappi', u'unhealthi', u'unheard', u'unhook', u'uni', u'unicef', u'uniform', u'unimpress', u'uninhibit', u'uninsur', u'unintellig', u'uninterest', u'uninvit', u'union', u'unit', u'univers', u'unjust', u'unknown', u'unless', u'unlik', u'unlist', u'unlock', u'unlucki', u'unmark', u'unmarri', u'unmatch', u'unmention', u'unnecessari', u'uno', u'unpanick', u'unperturb', u'unphas', u'unpleas', u'unpreced', u'unpredict', u'unprofession', u'unpublish', u'unreal', u'unreason', u'unrefin', u'unrequit', u'unrestrain', u'unruli', u'unsatisfactori', u'unseason', u'unselfish', u'unsettl', u'unshush', u'unskil', u'unstabl', u'unstopp', u'unsur', u'untal', u'untrain', u'untuck', u'unus', u'unusu', u'unwedg', u'unwelcom', u'unwind', u'unwrap', u'unzip', u'up', u'upbeat', u'updat', u'upholsteri', u'uplift', u'upon', u'upper', u'uppercut', u'upright', u'uproari', u'upscal', u'upset', u'upsid', u'upstair', u'upstand', u'upstat', u'uptight', u'uptown', u'upturn', u'upward', u'urban', u'uret', u'urg', u'urgent', u'urgh', u'urghh', u'urin', u'urinari', u'uromycitisi', u'uromysitisi', u'us', u'usa', u'use', u'useless', u'user', u'usher', u'usual', u'utensil', u'utilis', u'utopian', u'utter', u'uu', u'uugh', u'uuh', u'uuhh', u'uuhhh', u'uun', u'uunh', u'uuu', u'uuuhm', u'uuuuuup', u'uva', u'uy', u'va', u'vacat', u'vaccum', u'vacuum', u'vader', u'vagabond', u'vagari', u'vagu', u'vain', u'val', u'valdoni', u'vale', u'valeri', u'valium', u'valley', u'valu', u'valuabl', u'valv', u'vampir', u'van', u'vancourtland', u'vanda', u'vandel', u'vandelay', u'vandetta', u'vanessa', u'vanilla', u'vanish', u'vaniti', u'vargus', u'vari', u'variat', u'varieti', u'various', u'varnsen', u'vasectomi', u'vast', u'vault', u'vaya', u'vcr', u've', u'veal', u'veeer', u'vega', u'veget', u'vegetarian', u'veggi', u'vehem', u'vehement', u'vehicl', u'veil', u'vein', u'velay', u'velcro', u'veloc', u'velvet', u'vemon', u'vend', u'vender', u'vendetta', u'vendor', u'venetian', u'vengeanc', u'vent', u'ventil', u'ventriloquist', u'ventur', u'ventura', u'veranda', u'verbal', u'verbos', u'verdi', u'verdict', u'verg', u'vermont', u'veronica', u'verrri', u'vers', u'versa', u'version', u'vertibr', u'vertic', u'verv', u'vest', u'veto', u'vex', u'vibe', u'vibrant', u'vibrat', u'vic', u'vice', u'vicious', u'victim', u'victimless', u'victor', u'victoria', u'video', u'videotap', u'viet', u'view', u'viewer', u'vigil', u'vigor', u'vike', u'vile', u'villag', u'villain', u'vincent', u'vinci', u'vintag', u'vinyl', u'violat', u'violenc', u'violent', u'violet', u'virdon', u'virgin', u'virginia', u'viril', u'virtual', u'visa', u'visaki', u'visibl', u'vision', u'visit', u'visitor', u'vista', u'visual', u'vital', u'vitamin', u'viva', u'vivid', u'vocabulari', u'vodka', u'vogel', u'voic', u'voiceov', u'void', u'voight', u'voila', u'volcano', u'volgio', u'volkswagen', u'volleybal', u'volt', u'voltag', u'volum', u'volunt', u'voluptu', u'volvo', u'vomit', u'vomitorium', u'von', u'voo', u'voodoo', u'vorshtein', u'vote', u'vow', u'voyag', u'vreep', u'vrooom', u'vrooop', u'vrrrrrrrrrrrrt', u'vrrup', u'vs', u'vulner', u'vvvvrrrpppp', u'wa', u'waa', u'waaaa', u'waaaah', u'waah', u'waahh', u'waahhh', u'wack', u'wacki', u'wad', u'waddl', u'waddya', u'wade', u'waffl', u'waffler', u'wag', u'wage', u'wager', u'wagner', u'wagon', u'waht', u'wai', u'wail', u'waist', u'waistband', u'wait', u'waiter', u'waitin', u'waitress', u'waiv', u'waj', u'wake', u'wakeup', u'waldo', u'waldstein', u'walk', u'walker', u'walkin', u'walkman', u'walkway', u'wall', u'wallet', u'walter', u'waltz', u'wampum', u'wan', u'wanda', u'wander', u'wanna', u'want', u'wanta', u'war', u'ward', u'wardrob', u'ware', u'warehous', u'warm', u'warmth', u'warn', u'warp', u'warrant', u'warranti', u'warrior', u'wash', u'washcloth', u'washer', u'washington', u'wasn', u'wast', u'watch', u'watcher', u'watchi', u'watchin', u'water', u'waterb', u'waterfal', u'waterfront', u'waterway', u'watkin', u'watson', u'wave', u'wavi', u'wavin', u'wax', u'way', u'wayn', u'wea', u'weak', u'weaken', u'wealthi', u'wean', u'weapon', u'wear', u'weari', u'wearili', u'wearin', u'weasel', u'weather', u'weatherbe', u'weav', u'weaver', u'web', u'wed', u'wedg', u'wedgi', u'wednesday', u'wee', u'weebl', u'weed', u'weeeeeepp', u'weeeird', u'weeell', u'week', u'weekday', u'weekend', u'weigh', u'weight', u'weightlift', u'weird', u'wel', u'welch', u'welcom', u'welfar', u'well', u'wellhum', u'wellll', u'welp', u'wendt', u'went', u'wept', u'weren', u'west', u'westburi', u'westchest', u'western', u'wet', u'wetter', u'wfbb', u'wh', u'wha', u'whack', u'whadda', u'whadday', u'whaddaya', u'whaddya', u'whadya', u'whale', u'whaler', u'wham', u'whant', u'whar', u'what', u'whatcha', u'whatd', u'whatev', u'whatley', u'whatsoev', u'whatta', u'whattaya', u'whattya', u'whawww', u'whe', u'wheat', u'wheehh', u'wheel', u'wheelchair', u'wheeler', u'whenev', u'wherebi', u'wheren', u'wheret', u'wherev', u'whether', u'whew', u'whey', u'whhhi', u'whhhoooo', u'whichev', u'whim', u'whimper', u'whine', u'whiney', u'whip', u'whirlwind', u'whisk', u'whislt', u'whisper', u'whistl', u'whit', u'white', u'whitefish', u'whitey', u'whoa', u'whoaaaa', u'whoah', u'whoever', u'whoh', u'whole', u'wholesal', u'wholesom', u'whoo', u'whooa', u'whooo', u'whoooaaaa', u'whooooa', u'whoooooooo', u'whooooosh', u'whoop', u'whoope', u'whoosh', u'whopper', u'whore', u'whorehous', u'whose', u'wht', u'whu', u'whugh', u'whydo', u'wi', u'wichter', u'wide', u'widen', u'wider', u'widow', u'wield', u'wife', u'wig', u'wiggl', u'wih', u'wilcox', u'wild', u'wiley', u'wilhelm', u'wilhem', u'wilk', u'wilki', u'wilkinson', u'will', u'willard', u'willi', u'william', u'wilt', u'wilton', u'win', u'winc', u'winchel', u'wind', u'windex', u'window', u'windshield', u'wine', u'wing', u'wink', u'winner', u'winni', u'winslow', u'winsom', u'winston', u'winter', u'wipe', u'wiper', u'wire', u'wiretap', u'wisdom', u'wise', u'wisecrack', u'wish', u'wit', u'witchi', u'witchita', u'withdraw', u'withdrew', u'within', u'without', u'wive', u'wiz', u'wizard', u'wnat', u'wo', u'woah', u'wobbl', u'wochinski', u'woder', u'wohoo', u'woke', u'woken', u'wolf', u'wolfram', u'woman', u'women', u'won', u'wonch', u'wonder', u'wont', u'woo', u'wood', u'wooden', u'woodhaven', u'woodi', u'woodpeck', u'woof', u'wooh', u'wool', u'woolight', u'woolli', u'wooo', u'wooooohhhhh', u'woooooooooow', u'woop', u'woosh', u'woozi', u'word', u'wordaround', u'wore', u'work', u'workaday', u'worker', u'workin', u'workload', u'workout', u'workshop', u'workstat', u'world', u'worm', u'worn', u'worri', u'wors', u'worst', u'worth', u'worthi', u'worthless', u'worthwhil', u'wou', u'woulda', u'wouldn', u'wound', u'wow', u'wrack', u'wrap', u'wrapper', u'wrath', u'wreak', u'wreck', u'wrecker', u'wrench', u'wrestl', u'wrestler', u'wretch', u'wri', u'wring', u'wringer', u'wrinkl', u'wrist', u'write', u'writer', u'written', u'wrong', u'wrote', u'wryli', u'wtih', u'wuh', u'wuhh', u'wup', u'wuss', u'wwwheh', u'wyck', u'xena', u'xerox', u'xl', u'ya', u'yada', u'yah', u'yahh', u'yai', u'yakima', u'yakk', u'yallo', u'yam', u'yama', u'yamaguchi', u'yambala', u'yang', u'yangtze', u'yank', u'yanke', u'yap', u'yard', u'yarn', u'yawn', u'yay', u'yayaya', u'ye', u'yea', u'yeaaaaah', u'yeaaaah', u'yeaaah', u'yeaaahmm', u'yeaah', u'yeah', u'yeaheum', u'yeahh', u'yeahheheheh', u'yeahhh', u'yeahumm', u'year', u'yearn', u'yeass', u'yeay', u'yech', u'yee', u'yeeaahh', u'yeeah', u'yeeeaaah', u'yeeeahh', u'yeeee', u'yei', u'yell', u'yellin', u'yellow', u'yelp', u'yen', u'yeow', u'yep', u'yerk', u'yes', u'yess', u'yessir', u'yesss', u'yessss', u'yesterday', u'yet', u'yeuu', u'yeuy', u'yev', u'yey', u'yi', u'yiddigtkk', u'yield', u'yiggiti', u'yike', u'yin', u'yip', u'yippi', u'yo', u'yoday', u'yodel', u'yoga', u'yogi', u'yogurt', u'yoke', u'yonker', u'yoohoo', u'yooooouuuuuuu', u'yooou', u'york', u'yorker', u'yoshimura', u'young', u'younger', u'yourselfdown', u'youth', u'youto', u'yu', u'yuck', u'yugoslavia', u'yuh', u'yukon', u'yum', u'yuma', u'yuml', u'yung', u'yup', u'yuppi', u'yuri', u'yye', u'yyy', u'yyyddssh', u'yyyeeaaah', u'yyyeeah', u'za', u'zabrut', u'zagat', u'zaius', u'zanadu', u'zapata', u'zau', u'zee', u'zelda', u'zen', u'zeng', u'zero', u'zhivago', u'ziggi', u'zimmer', u'zing', u'zinger', u'zip', u'zipper', u'zippi', u'zippier', u'zippo', u'zit', u'ziven', u'zombi', u'zone', u'zoo', u'zz']\n"
     ]
    }
   ],
   "source": [
    "print(text_clf.named_steps['vect'].get_feature_names())"
   ]
  },
  {
   "cell_type": "code",
   "execution_count": 90,
   "metadata": {
    "collapsed": false
   },
   "outputs": [
    {
     "name": "stdout",
     "output_type": "stream",
     "text": [
      "31.9349080012\n",
      "974.289994558\n"
     ]
    }
   ],
   "source": [
    "#try topic modeling\n",
    "from sklearn.decomposition import LatentDirichletAllocation\n",
    "\n",
    "text_clf = Pipeline([\n",
    "                    #('vect', CountVectorizer(min_df=5, tokenizer=LemmaTokenizer())), #trigrams\n",
    "                    ('vect', CountVectorizer(analyzer=stemmed_words)), #stemming\n",
    "                    ('tfidf', TfidfTransformer()),\n",
    "                    ('to_dense', DenseTransformer()),\n",
    "                    ('lda', LatentDirichletAllocation(n_topics=50)),\n",
    "                    ('clf', LinearRegression())\n",
    "])\n",
    "text_clf.fit(doc_train[\"Text\"], doc_train['Target'])\n",
    "predicted_value = text_clf.predict(doc_test[\"Text\"])\n",
    "print(mean_squared_error(doc_test['Target'], predicted_value))\n",
    "print(mean_squared_error(doc_test['Target'], meanDF))"
   ]
  },
  {
   "cell_type": "code",
   "execution_count": 91,
   "metadata": {
    "collapsed": false
   },
   "outputs": [
    {
     "name": "stdout",
     "output_type": "stream",
     "text": [
      "Topic #0:\n",
      "chain eyelid feisti seashor function deerhunt havent guatamala quirk vowel well homeless matey dentit gatorad ceram laundri bonus veggi terror\n",
      "Topic #1:\n",
      "well im know jerri don hampton clickclocken yeeaaah schumann just coy yai law realli now hungov coul exact uneth offici\n",
      "Topic #2:\n",
      "gimpi urkel magnet neutral burst eighth mitchel cooki joyrid memphi goodbodi chandler strut enter paul corinn pail disori ssssfkittl shmootsi\n",
      "Topic #3:\n",
      "deluis comer wisdom susi reschedul reduct schto howev weavin varoom spastic immin pam goddby whend lorrain distil averi cure stairway\n",
      "Topic #4:\n",
      "know oh re can just yeah get go jerri rachel uh well ross don shirt right think hey ok alright\n",
      "Topic #5:\n",
      "creak tension lemma hai sizeabl sellfish havana primetim earth charl speach offend cretac tallest remain twit semest tailor therapi mortifi\n",
      "Topic #6:\n",
      "west breakup pooll agit liberac toil dormitori salman ladybug furri onstag upstand jeweleri jockstrap entemann generoso metro grabbin silk leningrad\n",
      "Topic #7:\n",
      "re vehicl seat annihil household kramer catergori phoni businesswoman splendid nurs don jerri shipment unsettl cathi zen wht mid poc\n",
      "Topic #8:\n",
      "drank pliocen humid pant walker laud astor marklan tri clue centuri scal lauren horribl cart downward attract lockhart distinct hypnot\n",
      "Topic #9:\n",
      "brewbak bloom stumbl younger exercycl afraid nympho alvarez ansel sofab flashlight bungi yardstick relentless fatti function waah hider naaah beater\n",
      "Topic #10:\n",
      "don oooooohaaaa shmoopi greg picki secret repli revolt romp share motorcycl speedo mmmwa remain spasim remak enthusiasm design shun melt\n",
      "Topic #11:\n",
      "explet advantag twir karen mcgroin hinckley prompt manical_laugh repeat altoid open fluff time antenna stooli point tear rehears mood p0roblem\n",
      "Topic #12:\n",
      "pair dice salt newlyw spread boogey almond bonker gotta inbetween toootal gaudi forc wango regul specialti catchi carwash undetermin spruce\n",
      "Topic #13:\n",
      "lloyd seminar guess newport wake deadlin sulkilti bond groundwork alison ahhhhhhhhhh rushmor geograph ruth huh marshal fine drinker kristen net\n",
      "Topic #14:\n",
      "go hey concret just oh measli stovepip know bania histori right border plaid bleeth georg contest dont im dufus suppress\n",
      "Topic #15:\n",
      "joey shiatsu manical_laugh googl im oh sedat pappanick yeah past retriev nightstand lender appeal ghali aaaaaahhhhhh electrocut franki nurseri gang\n",
      "Topic #16:\n",
      "skull ping senior herbert hmhmhm entic kangaroo deja wednesday beethoven twilight leroy grapefruit perus pushi eddi tyler babbl pff yoo\n",
      "Topic #17:\n",
      "oh unburden whoooo ok oww boy ben guineapig shush poughkeepsi slugger im conjug roland sushi bewitchin stingi knife dont euro\n",
      "Topic #18:\n",
      "inspir bare valet overdu disori nnnnn jeh imper postum coup tineal glamour motion duh vigiano seatpost dawn ru daaah principl\n",
      "Topic #19:\n",
      "ding go tracksuit scoop money coordin take approach freez restaurateur wick siesta uuuh lli tvs homo detour well pedicur primetim\n",
      "Topic #20:\n",
      "oh ross know rachel joey like mike just re hey im okay can don april look ll bl get happili\n",
      "Topic #21:\n",
      "sargent dive saute consum farsi cutout hummus collect weatherbe album terrorist rim ball regim uninsur yoko rebel buffer transit zine\n",
      "Topic #22:\n",
      "oh monica know well go chandler get don yeah can re just realli right phoeb door ross wilhelm maria ll\n",
      "Topic #23:\n",
      "oh well yeah just get know tobi profession re clown pot joey go ll don come want chandler osteopath erot\n",
      "Topic #24:\n",
      "sequenc smellier catalyst salman defeat penthous izzi hellllloo chatti gilbert justic trembl cane es carjack overdri corn french resurrect pair\n",
      "Topic #25:\n",
      "parakeet jimmi go now cheerlead threefold shoot masterpiec jerri get thou congeni hey chandler stroke blame rossi devanow stuff monica\n",
      "Topic #26:\n",
      "balm wrinkl turk intrud krischma ooohhhh betcha shine autobiographi intimd spittin willi savori craaazi sweat zorba length trudi garlic rotisseri\n",
      "Topic #27:\n",
      "jaw fishin glanc hugsi bevilacqua heather sedat schmidgen aaaaaah martha dropper ice jeanett liberac tough cfsi dakota paw deflat culott\n",
      "Topic #28:\n",
      "ross rachel well oh joey poppi go right just dina im like wethead your know sit kathi transponc haaaan chandler\n",
      "Topic #29:\n",
      "baster forfeit fu clumsi blepe internet mourner four bert ram margarita platter hobbl knuckl enh basing 1f outstay bibl claim\n",
      "Topic #30:\n",
      "keith opium woodi uncov upfield numbskul miana duck food starter bath jake mediev cottag tomato enter yeah may restrain sayonara\n",
      "Topic #31:\n",
      "kirk psych discharg manual vivaaaaaa warrant van eavesdrop carpet sat associ load re wait ben hint rough upsid via moffit\n",
      "Topic #32:\n",
      "im dont joey chandler your monica know hemm likewis ross zoolog oh pleas hospit tell michen dissect think gonna ointment\n",
      "Topic #33:\n",
      "thirti preach slike gene splatter scamper bother draw shhhe weight pupil choir amouz alright hopeless click goofili tvguid gotta griddl\n",
      "Topic #34:\n",
      "face boogi ghost ipecac yeah blowfish stupid collar get plo transcrib newlyw jus graf mod chandler mckigney racism cantaloup lobster\n",
      "Topic #35:\n",
      "know jerri oh re just well im like get yeah don keith think can good right deaf want see go\n",
      "Topic #36:\n",
      "work distant proud spellcheck distributor dos tasti tle piqu law ys runway grandkid hike lazzari crybabi took hoot angelou freshen\n",
      "Topic #37:\n",
      "napl discount gymnast steinbrenn phoeb captiv conscious leon padillac gogh unti overlook nnnhhahahahahahahahahahahahahaha wrote lock vigilant corpor assum recal insult\n",
      "Topic #38:\n",
      "yeah kramer monica just oh walk agap advis tune rula leland squat perpetu dad maud bowmont homosexu establish pavement gyp\n",
      "Topic #39:\n",
      "forbidden bootlegg susi tootl chees anti wipe pencil chiropodist rochell forrest tight footrest banker chose column bloo yangtze hooom alreadi\n",
      "Topic #40:\n",
      "recruit starvat vibe erni infecti gang urin tile compon wedg netchi paolo flock lui tomorrow novic alcov parasit avalanch sudden\n",
      "Topic #41:\n",
      "housekeep georg oughtta nassau positron laug hotlin well jerri beach barcaloung melissa creat non deck dismay nam bonus tricep plumber\n",
      "Topic #42:\n",
      "cross hunch saadina sparkler unrest authent imbecil unwant encount edit overcam corsag darkest flingin nag pirat intak disposit wampum begrudg\n",
      "Topic #43:\n",
      "hash sequenc ticket chicken honk paba woodsman truck snap tipper neither nonono  stamina confession upsid clapgo splotch mansfield plankton\n",
      "Topic #44:\n",
      "yada steril puke enter ramsey gnarl castig pajama sacamano brooklin theta ensembl interleagu unpleas plural nervous aaahhh vanderbilt mulligatawni markson\n",
      "Topic #45:\n",
      "voight jon oh know don like re jerri go get can just tim woodpeck yeah well woodi right hey uh\n",
      "Topic #46:\n",
      "flashi thin noseble exaclti enchilada swanki purr uneasili wilton coffe beetl walkin want fu blush caress dice pdq smithfield doria\n",
      "Topic #47:\n",
      "belt urgent attach tape uninhibit boundari iknow sportswear pan groommen downtown luv amateur wearili belli caan argument fishin sen cure\n",
      "Topic #48:\n",
      "don oh spong re elain slough sandblast yes hi apparatus chlorin bloomingdal orthoped know asbesto grandchildren street nnnnn dive hermaphrodit\n",
      "Topic #49:\n",
      "oh know yeah just don re well go get can okay like joey rachel monica chandler hey right look ross\n",
      "\n"
     ]
    }
   ],
   "source": [
    "def print_top_words(model, feature_names, n_top_words):\n",
    "    for topic_idx, topic in enumerate(model.components_):\n",
    "        print(\"Topic #%d:\" % topic_idx)\n",
    "        print(\" \".join([feature_names[i]\n",
    "                        for i in topic.argsort()[:-n_top_words - 1:-1]]))\n",
    "    print()\n",
    "\n",
    "tf_feature_names = text_clf.named_steps['vect'].get_feature_names()\n",
    "print_top_words(text_clf.named_steps['lda'], tf_feature_names, 20)"
   ]
  },
  {
   "cell_type": "code",
   "execution_count": 131,
   "metadata": {
    "collapsed": false
   },
   "outputs": [],
   "source": [
    "import numpy as np\n",
    "import lda\n",
    "\n",
    "vectorizer = CountVectorizer(analyzer=stemmed_words, stop_words='english', ngram_range=(1,3))\n",
    "docs = vectorizer.fit_transform(seinfeldAll.Text)\n",
    "lda_model = lda.LDA(n_topics=40, n_iter=1500, random_state=1)\n",
    "lda_model = lda_model.fit(docs)"
   ]
  },
  {
   "cell_type": "code",
   "execution_count": 132,
   "metadata": {
    "collapsed": false
   },
   "outputs": [
    {
     "name": "stdout",
     "output_type": "stream",
     "text": [
      "Topic 0: brien lloyd paul jean murphi man wake hot rye game dial alarm gum bastard\n",
      "Topic 1: leo hello jerri uncl alright check card nana kiss open ask finger write doctor\n",
      "Topic 2: oh yeah well hey know just re get look got can see think one\n",
      "Topic 3: funni alright mickey doll david babu shoe beth gail gay man pasta tractor better\n",
      "Topic 4: show re idea russel noth nbc someth tv kramer charact come butler salsa right\n",
      "Topic 5: uh alright jerri okay ah em wanna smile hi point indic listen laugh shout\n",
      "Topic 6: jerri georg elain kramer now want back go come thing start take tri time\n",
      "Topic 7: morti move poni florida jack cadillac leo marisa coffe neil parent son condo cuban\n",
      "Topic 8: car park drive van move alright space pull god hit front citi key run\n",
      "Topic 9: drake toni big salad face handicap alright wheelchair huh ok butter rock newman jane\n",
      "Topic 10: bubbl test ha laugh hu boy ah sir moop bra babu donald steinbrenn iq\n",
      "Topic 11: hand door look uh open get take point turn walk coat box sit move\n",
      "Topic 12: uh bone tv guid alright new cat ok thank tuck gammi koko paper maid\n",
      "Topic 13: pen voic la play miss hello mr alright ball grace cosmo stay sleep tenni\n",
      "Topic 14: ya hey alright pari yea parent face morti cloth paus plan night uh bye\n",
      "Topic 15: soup yada one call shmoopi nazi jacki plane joke enter martin  mr four\n",
      "Topic 16: thousand dollar five hundr car apart hair fifti bottl nine littl ten four club\n",
      "Topic 17: ha ah ya name play um quiet wallet hu arm ball watch ok ahh\n",
      "Topic 18: peterman book mr card librari day newman top rememb new return ear year pictur\n",
      "Topic 19: georg father death nina paint beat danc brodi dip kiss lippman medicin blow anna\n",
      "Topic 20: jimmi clown move sex doctor blood tobi drink opera bozo assman red smell dot\n",
      "Topic 21: uh give susi leav stori festivus get mail peterman card birthday cough train bagel\n",
      "Topic 22: susan hey ha puddi cigar wed jacket ross candi bar movi bob twix deal\n",
      "Topic 23: dog sob seren chines cape donna signal chang dad jacket man father comput noreen\n",
      "Topic 24: maestro massag pam fruit hair fake newman chair bald  tuscani haircut cours mr\n",
      "Topic 25: arm ve yogurt doctor fat glass sniff eh point bra lloyd snif swim mattress\n",
      "Topic 26: coffe realli tabl woman  read book great alright thing eat alway boy like\n",
      "Topic 27: man babi pig mohel nake heart step jane hospit apolog lobster ya tonsil shower\n",
      "Topic 28: ll re go get take time back thing will money work cours hell turn\n",
      "Topic 29: key em apart statu ray give clean flea coincid phil food kramer rava pitt\n",
      "Topic 30: tim voight jon super hey alright label whatley song seinfeld check pop jerri bowl\n",
      "Topic 31: suit poppi ticket pie couch hand walk bania pizza think duck soup dress break\n",
      "Topic 32: go gonna okay kramer busi banker get now yo show dollar bank gotta doctor\n",
      "Topic 33: know go don like can say right just uh want come get re guy\n",
      "Topic 34: gonna re jerri marri come kramer wanna mean door sex bag woman kill morn\n",
      "Topic 35: nake around name fish cabl bike money even shirt soda hospit laundri dri stock\n",
      "Topic 36:  ok guy eat chicken food cake kramer skin mile towel borrow shave eh\n",
      "Topic 37: uh joe birthday nina wish mayo card newman wed coat friend massag man fur\n",
      "Topic 38: uh keith ticket  smell rochell ho vandelay guy babi communist race seat hernandez\n",
      "Topic 39: dog eacut date okay mr calzon rememb risk cook mentor three bet code frame\n"
     ]
    }
   ],
   "source": [
    "topic_word = lda_model.topic_word_ \n",
    "vocab = vectorizer.get_feature_names()\n",
    "n_top_words = 15\n",
    "for i, topic_dist in enumerate(topic_word):\n",
    "    topic_words = np.array(vocab)[np.argsort(topic_dist)][:-n_top_words:-1]\n",
    "    print('Topic {}: {}'.format(i, ' '.join(topic_words)))"
   ]
  },
  {
   "cell_type": "code",
   "execution_count": null,
   "metadata": {
    "collapsed": true
   },
   "outputs": [],
   "source": []
  }
 ],
 "metadata": {
  "kernelspec": {
   "display_name": "Python 3",
   "language": "python",
   "name": "python3"
  },
  "language_info": {
   "codemirror_mode": {
    "name": "ipython",
    "version": 3
   },
   "file_extension": ".py",
   "mimetype": "text/x-python",
   "name": "python",
   "nbconvert_exporter": "python",
   "pygments_lexer": "ipython3",
   "version": "3.4.4"
  }
 },
 "nbformat": 4,
 "nbformat_minor": 0
}
